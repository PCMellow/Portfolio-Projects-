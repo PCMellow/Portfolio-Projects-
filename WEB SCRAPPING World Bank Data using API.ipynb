{
 "cells": [
  {
   "cell_type": "markdown",
   "id": "c3c94e56",
   "metadata": {},
   "source": [
    "# WEB SCRAPPING World Bank Data using API "
   ]
  },
  {
   "cell_type": "markdown",
   "id": "b7e1ec30",
   "metadata": {},
   "source": [
    "  WBGAPI provides modern, pythonic access to the World Bank's data API."
   ]
  },
  {
   "cell_type": "code",
   "execution_count": 1,
   "id": "549abb3e",
   "metadata": {},
   "outputs": [
    {
     "name": "stdout",
     "output_type": "stream",
     "text": [
      "Requirement already satisfied: wbgapi in c:\\users\\pankaj chettri\\anaconda3\\lib\\site-packages (1.0.12)\n",
      "Requirement already satisfied: tabulate in c:\\users\\pankaj chettri\\anaconda3\\lib\\site-packages (from wbgapi) (0.8.9)\n",
      "Requirement already satisfied: requests in c:\\users\\pankaj chettri\\anaconda3\\lib\\site-packages (from wbgapi) (2.27.1)\n",
      "Requirement already satisfied: PyYAML in c:\\users\\pankaj chettri\\anaconda3\\lib\\site-packages (from wbgapi) (6.0)\n",
      "Requirement already satisfied: certifi>=2017.4.17 in c:\\users\\pankaj chettri\\anaconda3\\lib\\site-packages (from requests->wbgapi) (2021.10.8)\n",
      "Requirement already satisfied: idna<4,>=2.5 in c:\\users\\pankaj chettri\\anaconda3\\lib\\site-packages (from requests->wbgapi) (3.3)\n",
      "Requirement already satisfied: urllib3<1.27,>=1.21.1 in c:\\users\\pankaj chettri\\anaconda3\\lib\\site-packages (from requests->wbgapi) (1.26.9)\n",
      "Requirement already satisfied: charset-normalizer~=2.0.0 in c:\\users\\pankaj chettri\\anaconda3\\lib\\site-packages (from requests->wbgapi) (2.0.4)\n",
      "Note: you may need to restart the kernel to use updated packages.\n"
     ]
    }
   ],
   "source": [
    "pip install wbgapi"
   ]
  },
  {
   "cell_type": "code",
   "execution_count": 2,
   "id": "eeaaca2a",
   "metadata": {},
   "outputs": [],
   "source": [
    "import warnings as w\n",
    "w.simplefilter(action = 'ignore', category = FutureWarning)\n",
    "\n",
    "import wbgapi as wb\n",
    "import pandas as pd \n",
    "import seaborn as sn\n",
    "import matplotlib \n",
    "from matplotlib import pyplot as plt\n",
    "\n",
    "%matplotlib inline"
   ]
  },
  {
   "cell_type": "markdown",
   "id": "78581340",
   "metadata": {},
   "source": [
    "#### Total Database Available in World Bank Data"
   ]
  },
  {
   "cell_type": "code",
   "execution_count": 3,
   "id": "4d9f395a",
   "metadata": {
    "scrolled": false
   },
   "outputs": [
    {
     "data": {
      "text/html": [
       "<div class=\"wbgapi\"><table>\n",
       "<thead>\n",
       "<tr><th>id  </th><th>name                                                                </th><th>code  </th><th style=\"text-align: right;\">  concepts</th><th>lastupdated  </th></tr>\n",
       "</thead>\n",
       "<tbody>\n",
       "<tr><td>1   </td><td>Doing Business                                                      </td><td>DBS   </td><td style=\"text-align: right;\">         3</td><td>2021-08-18   </td></tr>\n",
       "<tr><td>2   </td><td>World Development Indicators                                        </td><td>WDI   </td><td style=\"text-align: right;\">         3</td><td>2022-07-20   </td></tr>\n",
       "<tr><td>3   </td><td>Worldwide Governance Indicators                                     </td><td>WGI   </td><td style=\"text-align: right;\">         3</td><td>2021-09-27   </td></tr>\n",
       "<tr><td>5   </td><td>Subnational Malnutrition Database                                   </td><td>SNM   </td><td style=\"text-align: right;\">         3</td><td>2016-03-21   </td></tr>\n",
       "<tr><td>6   </td><td>International Debt Statistics                                       </td><td>IDS   </td><td style=\"text-align: right;\">         4</td><td>2022-01-14   </td></tr>\n",
       "<tr><td>11  </td><td>Africa Development Indicators                                       </td><td>ADI   </td><td style=\"text-align: right;\">         3</td><td>2013-02-22   </td></tr>\n",
       "<tr><td>12  </td><td>Education Statistics                                                </td><td>EDS   </td><td style=\"text-align: right;\">         3</td><td>2020-12-20   </td></tr>\n",
       "<tr><td>13  </td><td>Enterprise Surveys                                                  </td><td>ESY   </td><td style=\"text-align: right;\">         3</td><td>2022-03-25   </td></tr>\n",
       "<tr><td>14  </td><td>Gender Statistics                                                   </td><td>GDS   </td><td style=\"text-align: right;\">         3</td><td>2022-06-23   </td></tr>\n",
       "<tr><td>15  </td><td>Global Economic Monitor                                             </td><td>GEM   </td><td style=\"text-align: right;\">         3</td><td>2020-07-27   </td></tr>\n",
       "<tr><td>16  </td><td>Health Nutrition and Population Statistics                          </td><td>HNP   </td><td style=\"text-align: right;\">         3</td><td>2022-07-01   </td></tr>\n",
       "<tr><td>18  </td><td>IDA Results Measurement System                                      </td><td>IDA   </td><td style=\"text-align: right;\">         3</td><td>2021-07-23   </td></tr>\n",
       "<tr><td>19  </td><td>Millennium Development Goals                                        </td><td>MDG   </td><td style=\"text-align: right;\">         3</td><td>2018-09-19   </td></tr>\n",
       "<tr><td>20  </td><td>Quarterly Public Sector Debt                                        </td><td>PSD   </td><td style=\"text-align: right;\">         3</td><td>2022-07-25   </td></tr>\n",
       "<tr><td>22  </td><td>Quarterly External Debt Statistics SDDS                             </td><td>QDS   </td><td style=\"text-align: right;\">         3</td><td>2022-07-29   </td></tr>\n",
       "<tr><td>23  </td><td>Quarterly External Debt Statistics GDDS                             </td><td>QDG   </td><td style=\"text-align: right;\">         3</td><td>2022-07-29   </td></tr>\n",
       "<tr><td>24  </td><td>Poverty and Equity                                                  </td><td>POV   </td><td style=\"text-align: right;\">         3</td><td>2021-10-05   </td></tr>\n",
       "<tr><td>25  </td><td>Jobs                                                                </td><td>JOB   </td><td style=\"text-align: right;\">         3</td><td>2022-06-29   </td></tr>\n",
       "<tr><td>27  </td><td>Global Economic Prospects                                           </td><td>GEP   </td><td style=\"text-align: right;\">         3</td><td>2022-06-07   </td></tr>\n",
       "<tr><td>28  </td><td>Global Financial Inclusion                                          </td><td>FDX   </td><td style=\"text-align: right;\">         3</td><td>2022-06-28   </td></tr>\n",
       "<tr><td>29  </td><td>The Atlas of Social Protection: Indicators of Resilience and Equity </td><td>GSP   </td><td style=\"text-align: right;\">         3</td><td>2021-12-20   </td></tr>\n",
       "<tr><td>30  </td><td>Exporter Dynamics Database – Indicators at Country-Year Level       </td><td>ED1   </td><td style=\"text-align: right;\">         3</td><td>2016-03-31   </td></tr>\n",
       "<tr><td>31  </td><td>Country Policy and Institutional Assessment                         </td><td>CPI   </td><td style=\"text-align: right;\">         3</td><td>2021-09-16   </td></tr>\n",
       "<tr><td>32  </td><td>Global Financial Development                                        </td><td>GFD   </td><td style=\"text-align: right;\">         3</td><td>2021-12-03   </td></tr>\n",
       "<tr><td>33  </td><td>G20 Financial Inclusion Indicators                                  </td><td>G2F   </td><td style=\"text-align: right;\">         3</td><td>2019-02-27   </td></tr>\n",
       "<tr><td>34  </td><td>Global Partnership for Education                                    </td><td>GPE   </td><td style=\"text-align: right;\">         3</td><td>2013-04-12   </td></tr>\n",
       "<tr><td>35  </td><td>Sustainable Energy for All                                          </td><td>SE4   </td><td style=\"text-align: right;\">         3</td><td>2018-06-30   </td></tr>\n",
       "<tr><td>36  </td><td>Statistical Capacity Indicators                                     </td><td>BBS   </td><td style=\"text-align: right;\">         3</td><td>2021-02-03   </td></tr>\n",
       "<tr><td>37  </td><td>LAC Equity Lab                                                      </td><td>LEL   </td><td style=\"text-align: right;\">         3</td><td>2016-04-06   </td></tr>\n",
       "<tr><td>38  </td><td>Subnational Poverty                                                 </td><td>SNP   </td><td style=\"text-align: right;\">         3</td><td>2015-04-27   </td></tr>\n",
       "<tr><td>39  </td><td>Health Nutrition and Population Statistics by Wealth Quintile       </td><td>HNQ   </td><td style=\"text-align: right;\">         3</td><td>2021-12-13   </td></tr>\n",
       "<tr><td>40  </td><td>Population estimates and projections                                </td><td>HPP   </td><td style=\"text-align: right;\">         3</td><td>2022-07-01   </td></tr>\n",
       "<tr><td>41  </td><td>Country Partnership Strategy for India (FY2013 - 17)                </td><td>CPS   </td><td style=\"text-align: right;\">         3</td><td>2015-05-22   </td></tr>\n",
       "<tr><td>43  </td><td>Adjusted Net Savings                                                </td><td>WAT   </td><td style=\"text-align: right;\">         3</td><td>2022-07-15   </td></tr>\n",
       "<tr><td>45  </td><td>Indonesia Database for Policy and Economic Research                 </td><td>IDD   </td><td style=\"text-align: right;\">         3</td><td>2022-08-11   </td></tr>\n",
       "<tr><td>46  </td><td>Sustainable Development Goals                                       </td><td>SDG   </td><td style=\"text-align: right;\">         3</td><td>2022-07-22   </td></tr>\n",
       "<tr><td>50  </td><td>Subnational Population                                              </td><td>SNT   </td><td style=\"text-align: right;\">         3</td><td>2017-09-21   </td></tr>\n",
       "<tr><td>54  </td><td>Joint External Debt Hub                                             </td><td>JED   </td><td style=\"text-align: right;\">         3</td><td>2022-08-22   </td></tr>\n",
       "<tr><td>57  </td><td>WDI Database Archives                                               </td><td>WDA   </td><td style=\"text-align: right;\">         4</td><td>2022-07-12   </td></tr>\n",
       "<tr><td>58  </td><td>Universal Health Coverage                                           </td><td>UHC   </td><td style=\"text-align: right;\">         3</td><td>2019-04-25   </td></tr>\n",
       "<tr><td>59  </td><td>Wealth Accounts                                                     </td><td>WAC   </td><td style=\"text-align: right;\">         3</td><td>2021-10-27   </td></tr>\n",
       "<tr><td>60  </td><td>Economic Fitness                                                    </td><td>EFT   </td><td style=\"text-align: right;\">         3</td><td>2018-04-19   </td></tr>\n",
       "<tr><td>61  </td><td>PPPs Regulatory Quality                                             </td><td>PRQ   </td><td style=\"text-align: right;\">         3</td><td>2019-04-25   </td></tr>\n",
       "<tr><td>62  </td><td>International Comparison Program (ICP) 2011                         </td><td>ICP   </td><td style=\"text-align: right;\">         4</td><td>2020-08-24   </td></tr>\n",
       "<tr><td>63  </td><td>Human Capital Index                                                 </td><td>HCI   </td><td style=\"text-align: right;\">         3</td><td>2020-09-21   </td></tr>\n",
       "<tr><td>64  </td><td>Worldwide Bureaucracy Indicators                                    </td><td>WBI   </td><td style=\"text-align: right;\">         3</td><td>2021-05-26   </td></tr>\n",
       "<tr><td>65  </td><td>Health Equity and Financial Protection Indicators                   </td><td>HPI   </td><td style=\"text-align: right;\">         3</td><td>2019-11-06   </td></tr>\n",
       "<tr><td>66  </td><td>Logistics Performance Index                                         </td><td>LPI   </td><td style=\"text-align: right;\">         3</td><td>2019-10-29   </td></tr>\n",
       "<tr><td>67  </td><td>PEFA 2011                                                           </td><td>PF1   </td><td style=\"text-align: right;\">         4</td><td>2022-07-08   </td></tr>\n",
       "<tr><td>68  </td><td>PEFA 2016                                                           </td><td>PF6   </td><td style=\"text-align: right;\">         4</td><td>2022-07-08   </td></tr>\n",
       "<tr><td>69  </td><td>Global Financial Inclusion and Consumer Protection Survey           </td><td>RFA   </td><td style=\"text-align: right;\">         3</td><td>2019-06-27   </td></tr>\n",
       "<tr><td>70  </td><td>Economic Fitness 2                                                  </td><td>EF2   </td><td style=\"text-align: right;\">         3</td><td>2022-07-21   </td></tr>\n",
       "<tr><td>71  </td><td>International Comparison Program (ICP) 2005                         </td><td>IC5   </td><td style=\"text-align: right;\">         4</td><td>2021-09-10   </td></tr>\n",
       "<tr><td>73  </td><td>Global Financial Inclusion and Consumer Protection Survey (Internal)</td><td>RFI   </td><td style=\"text-align: right;\">         3</td><td>2019-06-27   </td></tr>\n",
       "<tr><td>75  </td><td>Environment, Social and Governance (ESG) Data                       </td><td>ESG   </td><td style=\"text-align: right;\">         3</td><td>2022-07-20   </td></tr>\n",
       "<tr><td>76  </td><td>Remittance Prices Worldwide (Sending Countries)                     </td><td>RWS   </td><td style=\"text-align: right;\">         3</td><td>2020-12-07   </td></tr>\n",
       "<tr><td>77  </td><td>Remittance Prices Worldwide (Receiving Countries)                   </td><td>RWR   </td><td style=\"text-align: right;\">         3</td><td>2020-12-07   </td></tr>\n",
       "<tr><td>78  </td><td>ICP 2017                                                            </td><td>IC7   </td><td style=\"text-align: right;\">         4</td><td>2020-10-21   </td></tr>\n",
       "<tr><td>79  </td><td>PEFA_GRPFM                                                          </td><td>GRP   </td><td style=\"text-align: right;\">         4</td><td>2022-06-07   </td></tr>\n",
       "<tr><td>80  </td><td>Gender Disaggregated Labor Database (GDLD)                          </td><td>GDL   </td><td style=\"text-align: right;\">         4</td><td>2020-07-25   </td></tr>\n",
       "<tr><td>81  </td><td>International Debt Statistics: DSSI                                 </td><td>DSI   </td><td style=\"text-align: right;\">         4</td><td>2021-12-16   </td></tr>\n",
       "<tr><td>82  </td><td>Global Public Procurement                                           </td><td>GPP   </td><td style=\"text-align: right;\">         3</td><td>2021-03-24   </td></tr>\n",
       "<tr><td>83  </td><td>Statistical Performance Indicators (SPI)                            </td><td>SPI   </td><td style=\"text-align: right;\">         3</td><td>2021-04-01   </td></tr>\n",
       "<tr><td>84  </td><td>Education Policy                                                    </td><td>EDP   </td><td style=\"text-align: right;\">         3</td><td>2022-07-19   </td></tr>\n",
       "<tr><td>85  </td><td>PEFA_2021_SNG                                                       </td><td>SNG   </td><td style=\"text-align: right;\">         4</td><td>2022-07-06   </td></tr>\n",
       "<tr><td>86  </td><td>Global Jobs Indicators Database (JOIN)                              </td><td>JON   </td><td style=\"text-align: right;\">         3</td><td>2021-09-24   </td></tr>\n",
       "<tr><td>87  </td><td>Country Climate and Development Report (CCDR)                       </td><td>CCD   </td><td style=\"text-align: right;\">         3</td><td>2022-06-10   </td></tr>\n",
       "<tr><td>88  </td><td>Food Prices for Nutrition                                           </td><td>FPN   </td><td style=\"text-align: right;\">         4</td><td>2022-07-05   </td></tr>\n",
       "<tr><td>    </td><td>68 elements                                                         </td><td>      </td><td style=\"text-align: right;\">          </td><td>             </td></tr>\n",
       "</tbody>\n",
       "</table></div>"
      ],
      "text/plain": [
       "id    name                                                                  code      concepts  lastupdated\n",
       "----  --------------------------------------------------------------------  ------  ----------  -------------\n",
       "1     Doing Business                                                        DBS              3  2021-08-18\n",
       "2     World Development Indicators                                          WDI              3  2022-07-20\n",
       "3     Worldwide Governance Indicators                                       WGI              3  2021-09-27\n",
       "5     Subnational Malnutrition Database                                     SNM              3  2016-03-21\n",
       "6     International Debt Statistics                                         IDS              4  2022-01-14\n",
       "11    Africa Development Indicators                                         ADI              3  2013-02-22\n",
       "12    Education Statistics                                                  EDS              3  2020-12-20\n",
       "13    Enterprise Surveys                                                    ESY              3  2022-03-25\n",
       "14    Gender Statistics                                                     GDS              3  2022-06-23\n",
       "15    Global Economic Monitor                                               GEM              3  2020-07-27\n",
       "16    Health Nutrition and Population Statistics                            HNP              3  2022-07-01\n",
       "18    IDA Results Measurement System                                        IDA              3  2021-07-23\n",
       "19    Millennium Development Goals                                          MDG              3  2018-09-19\n",
       "20    Quarterly Public Sector Debt                                          PSD              3  2022-07-25\n",
       "22    Quarterly External Debt Statistics SDDS                               QDS              3  2022-07-29\n",
       "23    Quarterly External Debt Statistics GDDS                               QDG              3  2022-07-29\n",
       "24    Poverty and Equity                                                    POV              3  2021-10-05\n",
       "25    Jobs                                                                  JOB              3  2022-06-29\n",
       "27    Global Economic Prospects                                             GEP              3  2022-06-07\n",
       "28    Global Financial Inclusion                                            FDX              3  2022-06-28\n",
       "29    The Atlas of Social Protection: Indicators of Resilience and Equity   GSP              3  2021-12-20\n",
       "30    Exporter Dynamics Database – Indicators at Country-Year Level         ED1              3  2016-03-31\n",
       "31    Country Policy and Institutional Assessment                           CPI              3  2021-09-16\n",
       "32    Global Financial Development                                          GFD              3  2021-12-03\n",
       "33    G20 Financial Inclusion Indicators                                    G2F              3  2019-02-27\n",
       "34    Global Partnership for Education                                      GPE              3  2013-04-12\n",
       "35    Sustainable Energy for All                                            SE4              3  2018-06-30\n",
       "36    Statistical Capacity Indicators                                       BBS              3  2021-02-03\n",
       "37    LAC Equity Lab                                                        LEL              3  2016-04-06\n",
       "38    Subnational Poverty                                                   SNP              3  2015-04-27\n",
       "39    Health Nutrition and Population Statistics by Wealth Quintile         HNQ              3  2021-12-13\n",
       "40    Population estimates and projections                                  HPP              3  2022-07-01\n",
       "41    Country Partnership Strategy for India (FY2013 - 17)                  CPS              3  2015-05-22\n",
       "43    Adjusted Net Savings                                                  WAT              3  2022-07-15\n",
       "45    Indonesia Database for Policy and Economic Research                   IDD              3  2022-08-11\n",
       "46    Sustainable Development Goals                                         SDG              3  2022-07-22\n",
       "50    Subnational Population                                                SNT              3  2017-09-21\n",
       "54    Joint External Debt Hub                                               JED              3  2022-08-22\n",
       "57    WDI Database Archives                                                 WDA              4  2022-07-12\n",
       "58    Universal Health Coverage                                             UHC              3  2019-04-25\n",
       "59    Wealth Accounts                                                       WAC              3  2021-10-27\n",
       "60    Economic Fitness                                                      EFT              3  2018-04-19\n",
       "61    PPPs Regulatory Quality                                               PRQ              3  2019-04-25\n",
       "62    International Comparison Program (ICP) 2011                           ICP              4  2020-08-24\n",
       "63    Human Capital Index                                                   HCI              3  2020-09-21\n",
       "64    Worldwide Bureaucracy Indicators                                      WBI              3  2021-05-26\n",
       "65    Health Equity and Financial Protection Indicators                     HPI              3  2019-11-06\n",
       "66    Logistics Performance Index                                           LPI              3  2019-10-29\n",
       "67    PEFA 2011                                                             PF1              4  2022-07-08\n",
       "68    PEFA 2016                                                             PF6              4  2022-07-08\n",
       "69    Global Financial Inclusion and Consumer Protection Survey             RFA              3  2019-06-27\n",
       "70    Economic Fitness 2                                                    EF2              3  2022-07-21\n",
       "71    International Comparison Program (ICP) 2005                           IC5              4  2021-09-10\n",
       "73    Global Financial Inclusion and Consumer Protection Survey (Internal)  RFI              3  2019-06-27\n",
       "75    Environment, Social and Governance (ESG) Data                         ESG              3  2022-07-20\n",
       "76    Remittance Prices Worldwide (Sending Countries)                       RWS              3  2020-12-07\n",
       "77    Remittance Prices Worldwide (Receiving Countries)                     RWR              3  2020-12-07\n",
       "78    ICP 2017                                                              IC7              4  2020-10-21\n",
       "79    PEFA_GRPFM                                                            GRP              4  2022-06-07\n",
       "80    Gender Disaggregated Labor Database (GDLD)                            GDL              4  2020-07-25\n",
       "81    International Debt Statistics: DSSI                                   DSI              4  2021-12-16\n",
       "82    Global Public Procurement                                             GPP              3  2021-03-24\n",
       "83    Statistical Performance Indicators (SPI)                              SPI              3  2021-04-01\n",
       "84    Education Policy                                                      EDP              3  2022-07-19\n",
       "85    PEFA_2021_SNG                                                         SNG              4  2022-07-06\n",
       "86    Global Jobs Indicators Database (JOIN)                                JON              3  2021-09-24\n",
       "87    Country Climate and Development Report (CCDR)                         CCD              3  2022-06-10\n",
       "88    Food Prices for Nutrition                                             FPN              4  2022-07-05\n",
       "      68 elements"
      ]
     },
     "execution_count": 3,
     "metadata": {},
     "output_type": "execute_result"
    }
   ],
   "source": [
    "wb.source.info()"
   ]
  },
  {
   "cell_type": "code",
   "execution_count": 4,
   "id": "2a7e0aa3",
   "metadata": {
    "scrolled": true
   },
   "outputs": [],
   "source": [
    "## To quickly look down the Countries Economy  \n",
    "## wb.economy.info()"
   ]
  },
  {
   "cell_type": "code",
   "execution_count": 5,
   "id": "97be731d",
   "metadata": {},
   "outputs": [
    {
     "data": {
      "text/html": [
       "<div class=\"wbgapi\"><table>\n",
       "<thead>\n",
       "<tr><th>id  </th><th>value              </th></tr>\n",
       "</thead>\n",
       "<tbody>\n",
       "<tr><td>HIC </td><td>High income        </td></tr>\n",
       "<tr><td>INX </td><td>Not classified     </td></tr>\n",
       "<tr><td>LIC </td><td>Low income         </td></tr>\n",
       "<tr><td>LMC </td><td>Lower middle income</td></tr>\n",
       "<tr><td>LMY </td><td>Low &amp; middle income</td></tr>\n",
       "<tr><td>MIC </td><td>Middle income      </td></tr>\n",
       "<tr><td>UMC </td><td>Upper middle income</td></tr>\n",
       "<tr><td>    </td><td>7 elements         </td></tr>\n",
       "</tbody>\n",
       "</table></div>"
      ],
      "text/plain": [
       "id    value\n",
       "----  -------------------\n",
       "HIC   High income\n",
       "INX   Not classified\n",
       "LIC   Low income\n",
       "LMC   Lower middle income\n",
       "LMY   Low & middle income\n",
       "MIC   Middle income\n",
       "UMC   Upper middle income\n",
       "      7 elements"
      ]
     },
     "execution_count": 5,
     "metadata": {},
     "output_type": "execute_result"
    }
   ],
   "source": [
    "wb.income.info()"
   ]
  },
  {
   "cell_type": "markdown",
   "id": "04fcc61c",
   "metadata": {},
   "source": [
    "##### Quick Index\n",
    "- AFE = Africa Eastern and Southern\n",
    "*AFW = Africa Western and Central\n",
    "*ARB = Arab World\n",
    "*EAP = East Asia & Pacific (excluding high income)\n",
    "*EAS = East Asia & Pacific\n",
    "*ECA = Europe & Central Asia (excluding high income)\n",
    "*ECS = Europe & Central Asia\n",
    "*EMU = Euro area\n",
    "*EUU = European Union\n",
    "*HIC = High income\n",
    "*LAC = Latin America & Caribbean (excluding high income)\n",
    "*LCN = Latin America & Caribbean\n",
    "*LDC = Least developed countries: UN classification\n",
    "*LIC = Low income\n",
    "*LMC = Lower middle income\n",
    "*LMY = Low & middle income\n",
    "*MEA = Middle East & North Africa\n",
    "*MIC = Middle income\n",
    "*NAC = North America\n",
    "*OED = OECD members\n",
    "*SSF = Sub-Saharan Africa\n",
    "*UMC = Upper middle income\n",
    "*WLD = World"
   ]
  },
  {
   "cell_type": "markdown",
   "id": "9c7deda0",
   "metadata": {},
   "source": [
    " For filtering to lets say Low income countries, we can use the code wb.economy.info(wb.income.members('LIC'))"
   ]
  },
  {
   "cell_type": "markdown",
   "id": "ab202a83",
   "metadata": {},
   "source": [
    "###### Filtering through Country's ISO codes"
   ]
  },
  {
   "cell_type": "code",
   "execution_count": 6,
   "id": "07c91c91",
   "metadata": {},
   "outputs": [
    {
     "data": {
      "text/html": [
       "<div class=\"wbgapi\"><table>\n",
       "<thead>\n",
       "<tr><th>id  </th><th>value               </th><th>region  </th><th>incomeLevel  </th></tr>\n",
       "</thead>\n",
       "<tbody>\n",
       "<tr><td>FRA </td><td>France              </td><td>ECS     </td><td>HIC          </td></tr>\n",
       "<tr><td>DEU </td><td>Germany             </td><td>ECS     </td><td>HIC          </td></tr>\n",
       "<tr><td>LVA </td><td>Latvia              </td><td>ECS     </td><td>HIC          </td></tr>\n",
       "<tr><td>ESP </td><td>Spain               </td><td>ECS     </td><td>HIC          </td></tr>\n",
       "<tr><td>ARE </td><td>United Arab Emirates</td><td>MEA     </td><td>HIC          </td></tr>\n",
       "<tr><td>USA </td><td>United States       </td><td>NAC     </td><td>HIC          </td></tr>\n",
       "<tr><td>    </td><td>6 elements          </td><td>        </td><td>             </td></tr>\n",
       "</tbody>\n",
       "</table></div>"
      ],
      "text/plain": [
       "id    value                 region    incomeLevel\n",
       "----  --------------------  --------  -------------\n",
       "FRA   France                ECS       HIC\n",
       "DEU   Germany               ECS       HIC\n",
       "LVA   Latvia                ECS       HIC\n",
       "ESP   Spain                 ECS       HIC\n",
       "ARE   United Arab Emirates  MEA       HIC\n",
       "USA   United States         NAC       HIC\n",
       "      6 elements"
      ]
     },
     "execution_count": 6,
     "metadata": {},
     "output_type": "execute_result"
    }
   ],
   "source": [
    "wb.economy.info(['FRA', 'USA', 'LVA', 'ESP', 'DEU','ARE'])"
   ]
  },
  {
   "cell_type": "markdown",
   "id": "cd0e63f9",
   "metadata": {},
   "source": [
    "#### To get the metadata \n"
   ]
  },
  {
   "cell_type": "code",
   "execution_count": 7,
   "id": "c26233c1",
   "metadata": {
    "scrolled": false
   },
   "outputs": [
    {
     "data": {
      "text/html": [
       "<div class=\"wbgapi\"><h4>Series: NY.GDP.PCAP.PP.KD</h4><table>\n",
       "<thead>\n",
       "<tr><th>Field                           </th><th>Value                                                                                                                                                                                                                                                                                                                                                                                                                                                                                                                                                                                                                                                             </th></tr>\n",
       "</thead>\n",
       "<tbody>\n",
       "<tr><td>Aggregationmethod               </td><td>Weighted average                                                                                                                                                                                                                                                                                                                                                                                                                                                                                                                                                                                                                                                  </td></tr>\n",
       "<tr><td>BasePeriod                      </td><td>2017                                                                                                                                                                                                                                                                                                                                                                                                                                                                                                                                                                                                                                                              </td></tr>\n",
       "<tr><td>IndicatorName                   </td><td>GDP per capita, PPP (constant 2017 international $)                                                                                                                                                                                                                                                                                                                                                                                                                                                                                                                                                                                                               </td></tr>\n",
       "<tr><td>License_Type                    </td><td>CC BY-4.0                                                                                                                                                                                                                                                                                                                                                                                                                                                                                                                                                                                                                                                         </td></tr>\n",
       "<tr><td>License_URL                     </td><td>https://datacatalog.worldbank.org/public-licenses#cc-by                                                                                                                                                                                                                                                                                                                                                                                                                                                                                                                                                                                                           </td></tr>\n",
       "<tr><td>Longdefinition                  </td><td>GDP per capita based on purchasing power parity (PPP). PPP GDP is gross domestic product converted to international dollars using purchasing power parity rates. An international dollar has the same purchasing power over GDP as the U.S. dollar has in the United States. GDP at purchaser&#x27;s prices is the sum of gross value added by all resident producers in the country plus any product taxes and minus any subsidies not included in the value of the products. It is calculated without making deductions for depreciation of fabricated assets or for depletion and degradation of natural resources. Data are in constant 2017 international dollars.</td></tr>\n",
       "<tr><td>Periodicity                     </td><td>Annual                                                                                                                                                                                                                                                                                                                                                                                                                                                                                                                                                                                                                                                            </td></tr>\n",
       "<tr><td>Source                          </td><td>International Comparison Program, World Bank | World Development Indicators database, World Bank | Eurostat-OECD PPP Programme.                                                                                                                                                                                                                                                                                                                                                                                                                                                                                                                                   </td></tr>\n",
       "<tr><td>Statisticalconceptandmethodology</td><td>For the concept and methodology of 2017 PPP, please refer to the International Comparison Program (ICP)’s website (https://www.worldbank.org/en/programs/icp).                                                                                                                                                                                                                                                                                                                                                                                                                                                                                                    </td></tr>\n",
       "<tr><td>Topic                           </td><td>Economic Policy &amp; Debt: Purchasing power parity                                                                                                                                                                                                                                                                                                                                                                                                                                                                                                                                                                                                                   </td></tr>\n",
       "</tbody>\n",
       "</table></div>"
      ],
      "text/plain": [
       "========\n",
       "Series: NY.GDP.PCAP.PP.KD\n",
       "\n",
       "Aggregationmethod: Weighted average\n",
       "--------\n",
       "BasePeriod: 2017\n",
       "--------\n",
       "IndicatorName: GDP per capita, PPP (constant 2017 international $)\n",
       "--------\n",
       "License_Type: CC BY-4.0\n",
       "--------\n",
       "License_URL: https://datacatalog.worldbank.org/public-licenses#cc-by\n",
       "--------\n",
       "Longdefinition: GDP per capita based on purchasing power parity (PPP). PPP GDP is gross domestic product converted to international dollars using purchasing power parity rates. An international dollar has the same purchasing power over GDP as the U.S. dollar has in the United States. GDP at purchaser's prices is the sum of gross value added by all resident producers in the country plus any product taxes and minus any subsidies not included in the value of the products. It is calculated without making deductions for depreciation of fabricated assets or for depletion and degradation of natural resources. Data are in constant 2017 international dollars.\n",
       "--------\n",
       "Periodicity: Annual\n",
       "--------\n",
       "Source: International Comparison Program, World Bank | World Development Indicators database, World Bank | Eurostat-OECD PPP Programme.\n",
       "--------\n",
       "Statisticalconceptandmethodology: For the concept and methodology of 2017 PPP, please refer to the International Comparison Program (ICP)’s website (https://www.worldbank.org/en/programs/icp).\n",
       "--------\n",
       "Topic: Economic Policy & Debt: Purchasing power parity"
      ]
     },
     "execution_count": 7,
     "metadata": {},
     "output_type": "execute_result"
    }
   ],
   "source": [
    "wb.series.metadata.get('NY.GDP.PCAP.PP.KD')"
   ]
  },
  {
   "cell_type": "markdown",
   "id": "c8cfb783",
   "metadata": {},
   "source": [
    "### Map View"
   ]
  },
  {
   "cell_type": "code",
   "execution_count": 17,
   "id": "25ca9dff",
   "metadata": {},
   "outputs": [
    {
     "data": {
      "application/vnd.plotly.v1+json": {
       "config": {
        "plotlyServerURL": "https://plot.ly"
       },
       "data": [
        {
         "coloraxis": "coloraxis",
         "geo": "geo",
         "hovertemplate": "<b>%{hovertext}</b><br><br>economy=%{location}<br>GDP per capita=%{z}<extra></extra>",
         "hovertext": [
          "Zimbabwe",
          "Zambia",
          "West Bank and Gaza",
          "Vietnam",
          "Vanuatu",
          "Uzbekistan",
          "Uruguay",
          "United States",
          "United Kingdom",
          "Ukraine",
          "Uganda",
          "Tuvalu",
          "Turks and Caicos Islands",
          "Turkiye",
          "Tunisia",
          "Trinidad and Tobago",
          "Togo",
          "Timor-Leste",
          "Thailand",
          "Tanzania",
          "Tajikistan",
          "Switzerland",
          "Sweden",
          "Suriname",
          "Sudan",
          "St. Vincent and the Grenadines",
          "St. Lucia",
          "St. Kitts and Nevis",
          "Sri Lanka",
          "Spain",
          "South Africa",
          "Somalia",
          "Solomon Islands",
          "Slovenia",
          "Slovak Republic",
          "Singapore",
          "Sierra Leone",
          "Seychelles",
          "Serbia",
          "Senegal",
          "Saudi Arabia",
          "Sao Tome and Principe",
          "Samoa",
          "Rwanda",
          "Russian Federation",
          "Romania",
          "Qatar",
          "Portugal",
          "Poland",
          "Philippines",
          "Peru",
          "Paraguay",
          "Papua New Guinea",
          "Panama",
          "Pakistan",
          "Norway",
          "North Macedonia",
          "Nigeria",
          "Niger",
          "Nicaragua",
          "New Zealand",
          "Netherlands",
          "Nepal",
          "Nauru",
          "Namibia",
          "Myanmar",
          "Mozambique",
          "Morocco",
          "Montenegro",
          "Mongolia",
          "Moldova",
          "Micronesia, Fed. Sts.",
          "Mexico",
          "Mauritius",
          "Mauritania",
          "Marshall Islands",
          "Malta",
          "Mali",
          "Maldives",
          "Malaysia",
          "Malawi",
          "Madagascar",
          "Macao SAR, China",
          "Luxembourg",
          "Lithuania",
          "Libya",
          "Liberia",
          "Lesotho",
          "Lebanon",
          "Latvia",
          "Lao PDR",
          "Kyrgyz Republic",
          "Kosovo",
          "Korea, Rep.",
          "Kenya",
          "Kazakhstan",
          "Jordan",
          "Japan",
          "Jamaica",
          "Italy",
          "Israel",
          "Ireland",
          "Iraq",
          "Indonesia",
          "India",
          "Iceland",
          "Hungary",
          "Hong Kong SAR, China",
          "Honduras",
          "Haiti",
          "Guyana",
          "Guinea-Bissau",
          "Guinea",
          "Guatemala",
          "Grenada",
          "Greece",
          "Ghana",
          "Germany",
          "Georgia",
          "Gambia, The",
          "Gabon",
          "France",
          "Finland",
          "Fiji",
          "Ethiopia",
          "Eswatini",
          "Estonia",
          "Equatorial Guinea",
          "El Salvador",
          "Egypt, Arab Rep.",
          "Ecuador",
          "Dominican Republic",
          "Dominica",
          "Djibouti",
          "Denmark",
          "Czech Republic",
          "Cyprus",
          "Croatia",
          "Cote d'Ivoire",
          "Costa Rica",
          "Congo, Rep.",
          "Congo, Dem. Rep.",
          "Comoros",
          "Colombia",
          "China",
          "Chile",
          "Chad",
          "Central African Republic",
          "Canada",
          "Cameroon",
          "Cambodia",
          "Cabo Verde",
          "Burundi",
          "Burkina Faso",
          "Bulgaria",
          "Brunei Darussalam",
          "Brazil",
          "Botswana",
          "Bosnia and Herzegovina",
          "Bolivia",
          "Bermuda",
          "Benin",
          "Belize",
          "Belgium",
          "Belarus",
          "Barbados",
          "Bangladesh",
          "Bahrain",
          "Bahamas, The",
          "Azerbaijan",
          "Austria",
          "Australia",
          "Armenia",
          "Argentina",
          "Antigua and Barbuda",
          "Angola",
          "Algeria",
          "Albania"
         ],
         "locations": [
          "ZWE",
          "ZMB",
          "PSE",
          "VNM",
          "VUT",
          "UZB",
          "URY",
          "USA",
          "GBR",
          "UKR",
          "UGA",
          "TUV",
          "TCA",
          "TUR",
          "TUN",
          "TTO",
          "TGO",
          "TLS",
          "THA",
          "TZA",
          "TJK",
          "CHE",
          "SWE",
          "SUR",
          "SDN",
          "VCT",
          "LCA",
          "KNA",
          "LKA",
          "ESP",
          "ZAF",
          "SOM",
          "SLB",
          "SVN",
          "SVK",
          "SGP",
          "SLE",
          "SYC",
          "SRB",
          "SEN",
          "SAU",
          "STP",
          "WSM",
          "RWA",
          "RUS",
          "ROU",
          "QAT",
          "PRT",
          "POL",
          "PHL",
          "PER",
          "PRY",
          "PNG",
          "PAN",
          "PAK",
          "NOR",
          "MKD",
          "NGA",
          "NER",
          "NIC",
          "NZL",
          "NLD",
          "NPL",
          "NRU",
          "NAM",
          "MMR",
          "MOZ",
          "MAR",
          "MNE",
          "MNG",
          "MDA",
          "FSM",
          "MEX",
          "MUS",
          "MRT",
          "MHL",
          "MLT",
          "MLI",
          "MDV",
          "MYS",
          "MWI",
          "MDG",
          "MAC",
          "LUX",
          "LTU",
          "LBY",
          "LBR",
          "LSO",
          "LBN",
          "LVA",
          "LAO",
          "KGZ",
          "XKX",
          "KOR",
          "KEN",
          "KAZ",
          "JOR",
          "JPN",
          "JAM",
          "ITA",
          "ISR",
          "IRL",
          "IRQ",
          "IDN",
          "IND",
          "ISL",
          "HUN",
          "HKG",
          "HND",
          "HTI",
          "GUY",
          "GNB",
          "GIN",
          "GTM",
          "GRD",
          "GRC",
          "GHA",
          "DEU",
          "GEO",
          "GMB",
          "GAB",
          "FRA",
          "FIN",
          "FJI",
          "ETH",
          "SWZ",
          "EST",
          "GNQ",
          "SLV",
          "EGY",
          "ECU",
          "DOM",
          "DMA",
          "DJI",
          "DNK",
          "CZE",
          "CYP",
          "HRV",
          "CIV",
          "CRI",
          "COG",
          "COD",
          "COM",
          "COL",
          "CHN",
          "CHL",
          "TCD",
          "CAF",
          "CAN",
          "CMR",
          "KHM",
          "CPV",
          "BDI",
          "BFA",
          "BGR",
          "BRN",
          "BRA",
          "BWA",
          "BIH",
          "BOL",
          "BMU",
          "BEN",
          "BLZ",
          "BEL",
          "BLR",
          "BRB",
          "BGD",
          "BHR",
          "BHS",
          "AZE",
          "AUT",
          "AUS",
          "ARM",
          "ARG",
          "ATG",
          "AGO",
          "DZA",
          "ALB"
         ],
         "name": "",
         "type": "choropleth",
         "z": [
          2225.09497213366,
          3298.62676795919,
          5643.07224283672,
          10516.2228115326,
          2826.47349306693,
          7734.8324139199,
          22415.4042918738,
          63069.2255470859,
          45839.1534260014,
          12943.6142578125,
          2182.57044580219,
          4626.31450447142,
          21291.2614921669,
          31252.0769418532,
          10554.1355547245,
          24456.7765453161,
          2166.55400959924,
          4021.12160735184,
          17485.5085193879,
          2669.43334960938,
          3903.4957634874,
          70792.65653455,
          53050.3265332637,
          15179.05889192,
          3838.73999023438,
          12763.0557832934,
          12790.3038390914,
          23899.8859544133,
          12859.3440958103,
          38097.8417335522,
          13126.0147383385,
          1185.56201788423,
          2417.72497999841,
          39969.8118035708,
          31498.1263609196,
          106032.224754147,
          1653.17542033358,
          27159.6553368876,
          19761.6474238113,
          3430.44261847215,
          45104.2777693647,
          4046.92312624196,
          5844.150380461,
          2270.21836506682,
          27969.677734375,
          30854.6429535965,
          85128.2235840067,
          33514.2740761006,
          34363.0190651557,
          8301.2331747152,
          12648.2240192207,
          12721.5744436649,
          4046.40902316655,
          28837.0015055438,
          5350.14497272962,
          65688.5510103913,
          16464.3360935588,
          4969.21844669279,
          1192.26328570502,
          5763.42731471481,
          43301.4315943119,
          56761.0147312233,
          3878.444420455,
          13747.2506938544,
          8925.201528416,
          3954.99990560186,
          1221.82433614838,
          7412.6728515625,
          20566.8380649086,
          11708.3609415213,
          14233.8534248213,
          3226.14303212251,
          18544.7120585215,
          20244.1616028409,
          5089.98737432171,
          3806.21355718568,
          44395.3304616162,
          2227.68559506905,
          16595.9653277078,
          26959.2492564091,
          1509.50477657508,
          1488.6450369987,
          67178.7447451607,
          118680.043728826,
          38957.6311424069,
          21260.4323755427,
          1413.44826337426,
          2441.51438804857,
          9731.71660199083,
          31688.526613647,
          7895.56988806945,
          4813.23018280385,
          11579.3203475523,
          44116.0134351099,
          4572.66892491959,
          26033.2384266738,
          9969.10644129228,
          40769.8281616924,
          9126.11534409822,
          41937.2111464783,
          41582.4733806761,
          102154.434485666,
          9474.77802538714,
          11746.2166908059,
          6675.34945331722,
          53462.6522183035,
          33517.9741094713,
          60051.7548508743,
          5691.42319711144,
          2846.74109884802,
          22295.4899720268,
          1872.4825618157,
          2620.24951896766,
          8892.48369150326,
          15183.406889673,
          29428.3930211337,
          5623.80586002033,
          52930.8088686815,
          15471.7150136944,
          2215.46463411185,
          14197.6987995281,
          45187.4462893777,
          48936.7094028185,
          10977.4529254916,
          2366.41905090437,
          8934.87786805154,
          38207.4086103403,
          16500.33569098,
          8800.99322469819,
          12121.1591610817,
          10614.6423773935,
          18905.2203909793,
          10899.2556669957,
          5393.97615339156,
          58187.0412178885,
          39777.7892430136,
          40791.42578125,
          31046.6275736968,
          5406.6913396527,
          21260.7623343313,
          3292.26372691943,
          1109.38800436308,
          2989.6380893716,
          14705.1076628503,
          17602.6960578913,
          25821.1138456941,
          1447.80649201794,
          928.943927234966,
          47903.0289106506,
          3699.69538445307,
          4262.72165632914,
          6397.30452966188,
          722.046273490697,
          2240.99219305939,
          23431.967608547,
          60640.9734447064,
          14615.0455823644,
          16023.8546161195,
          15634.9265630873,
          8219.942366197,
          77546.6103251632,
          3449.19948267432,
          6300.27444259148,
          51601.8877741089,
          19751.2039053496,
          13487.101890443,
          6019.51875199849,
          41335.6331134108,
          31046.7910948148,
          14421.0462799014,
          53944.5255840933,
          49308.5137908219,
          13317.2316143643,
          21506.9193281695,
          18057.2912924775,
          5990.41680534566,
          10957.1599228817,
          14520.1110348118
         ]
        }
       ],
       "layout": {
        "coloraxis": {
         "colorbar": {
          "title": {
           "text": "GDP per capita"
          }
         },
         "colorscale": [
          [
           0,
           "#0d0887"
          ],
          [
           0.1111111111111111,
           "#46039f"
          ],
          [
           0.2222222222222222,
           "#7201a8"
          ],
          [
           0.3333333333333333,
           "#9c179e"
          ],
          [
           0.4444444444444444,
           "#bd3786"
          ],
          [
           0.5555555555555556,
           "#d8576b"
          ],
          [
           0.6666666666666666,
           "#ed7953"
          ],
          [
           0.7777777777777778,
           "#fb9f3a"
          ],
          [
           0.8888888888888888,
           "#fdca26"
          ],
          [
           1,
           "#f0f921"
          ]
         ]
        },
        "geo": {
         "center": {},
         "domain": {
          "x": [
           0,
           1
          ],
          "y": [
           0,
           1
          ]
         },
         "projection": {
          "type": "natural earth"
         }
        },
        "legend": {
         "tracegroupgap": 0
        },
        "margin": {
         "t": 60
        },
        "template": {
         "data": {
          "bar": [
           {
            "error_x": {
             "color": "#2a3f5f"
            },
            "error_y": {
             "color": "#2a3f5f"
            },
            "marker": {
             "line": {
              "color": "#E5ECF6",
              "width": 0.5
             },
             "pattern": {
              "fillmode": "overlay",
              "size": 10,
              "solidity": 0.2
             }
            },
            "type": "bar"
           }
          ],
          "barpolar": [
           {
            "marker": {
             "line": {
              "color": "#E5ECF6",
              "width": 0.5
             },
             "pattern": {
              "fillmode": "overlay",
              "size": 10,
              "solidity": 0.2
             }
            },
            "type": "barpolar"
           }
          ],
          "carpet": [
           {
            "aaxis": {
             "endlinecolor": "#2a3f5f",
             "gridcolor": "white",
             "linecolor": "white",
             "minorgridcolor": "white",
             "startlinecolor": "#2a3f5f"
            },
            "baxis": {
             "endlinecolor": "#2a3f5f",
             "gridcolor": "white",
             "linecolor": "white",
             "minorgridcolor": "white",
             "startlinecolor": "#2a3f5f"
            },
            "type": "carpet"
           }
          ],
          "choropleth": [
           {
            "colorbar": {
             "outlinewidth": 0,
             "ticks": ""
            },
            "type": "choropleth"
           }
          ],
          "contour": [
           {
            "colorbar": {
             "outlinewidth": 0,
             "ticks": ""
            },
            "colorscale": [
             [
              0,
              "#0d0887"
             ],
             [
              0.1111111111111111,
              "#46039f"
             ],
             [
              0.2222222222222222,
              "#7201a8"
             ],
             [
              0.3333333333333333,
              "#9c179e"
             ],
             [
              0.4444444444444444,
              "#bd3786"
             ],
             [
              0.5555555555555556,
              "#d8576b"
             ],
             [
              0.6666666666666666,
              "#ed7953"
             ],
             [
              0.7777777777777778,
              "#fb9f3a"
             ],
             [
              0.8888888888888888,
              "#fdca26"
             ],
             [
              1,
              "#f0f921"
             ]
            ],
            "type": "contour"
           }
          ],
          "contourcarpet": [
           {
            "colorbar": {
             "outlinewidth": 0,
             "ticks": ""
            },
            "type": "contourcarpet"
           }
          ],
          "heatmap": [
           {
            "colorbar": {
             "outlinewidth": 0,
             "ticks": ""
            },
            "colorscale": [
             [
              0,
              "#0d0887"
             ],
             [
              0.1111111111111111,
              "#46039f"
             ],
             [
              0.2222222222222222,
              "#7201a8"
             ],
             [
              0.3333333333333333,
              "#9c179e"
             ],
             [
              0.4444444444444444,
              "#bd3786"
             ],
             [
              0.5555555555555556,
              "#d8576b"
             ],
             [
              0.6666666666666666,
              "#ed7953"
             ],
             [
              0.7777777777777778,
              "#fb9f3a"
             ],
             [
              0.8888888888888888,
              "#fdca26"
             ],
             [
              1,
              "#f0f921"
             ]
            ],
            "type": "heatmap"
           }
          ],
          "heatmapgl": [
           {
            "colorbar": {
             "outlinewidth": 0,
             "ticks": ""
            },
            "colorscale": [
             [
              0,
              "#0d0887"
             ],
             [
              0.1111111111111111,
              "#46039f"
             ],
             [
              0.2222222222222222,
              "#7201a8"
             ],
             [
              0.3333333333333333,
              "#9c179e"
             ],
             [
              0.4444444444444444,
              "#bd3786"
             ],
             [
              0.5555555555555556,
              "#d8576b"
             ],
             [
              0.6666666666666666,
              "#ed7953"
             ],
             [
              0.7777777777777778,
              "#fb9f3a"
             ],
             [
              0.8888888888888888,
              "#fdca26"
             ],
             [
              1,
              "#f0f921"
             ]
            ],
            "type": "heatmapgl"
           }
          ],
          "histogram": [
           {
            "marker": {
             "pattern": {
              "fillmode": "overlay",
              "size": 10,
              "solidity": 0.2
             }
            },
            "type": "histogram"
           }
          ],
          "histogram2d": [
           {
            "colorbar": {
             "outlinewidth": 0,
             "ticks": ""
            },
            "colorscale": [
             [
              0,
              "#0d0887"
             ],
             [
              0.1111111111111111,
              "#46039f"
             ],
             [
              0.2222222222222222,
              "#7201a8"
             ],
             [
              0.3333333333333333,
              "#9c179e"
             ],
             [
              0.4444444444444444,
              "#bd3786"
             ],
             [
              0.5555555555555556,
              "#d8576b"
             ],
             [
              0.6666666666666666,
              "#ed7953"
             ],
             [
              0.7777777777777778,
              "#fb9f3a"
             ],
             [
              0.8888888888888888,
              "#fdca26"
             ],
             [
              1,
              "#f0f921"
             ]
            ],
            "type": "histogram2d"
           }
          ],
          "histogram2dcontour": [
           {
            "colorbar": {
             "outlinewidth": 0,
             "ticks": ""
            },
            "colorscale": [
             [
              0,
              "#0d0887"
             ],
             [
              0.1111111111111111,
              "#46039f"
             ],
             [
              0.2222222222222222,
              "#7201a8"
             ],
             [
              0.3333333333333333,
              "#9c179e"
             ],
             [
              0.4444444444444444,
              "#bd3786"
             ],
             [
              0.5555555555555556,
              "#d8576b"
             ],
             [
              0.6666666666666666,
              "#ed7953"
             ],
             [
              0.7777777777777778,
              "#fb9f3a"
             ],
             [
              0.8888888888888888,
              "#fdca26"
             ],
             [
              1,
              "#f0f921"
             ]
            ],
            "type": "histogram2dcontour"
           }
          ],
          "mesh3d": [
           {
            "colorbar": {
             "outlinewidth": 0,
             "ticks": ""
            },
            "type": "mesh3d"
           }
          ],
          "parcoords": [
           {
            "line": {
             "colorbar": {
              "outlinewidth": 0,
              "ticks": ""
             }
            },
            "type": "parcoords"
           }
          ],
          "pie": [
           {
            "automargin": true,
            "type": "pie"
           }
          ],
          "scatter": [
           {
            "marker": {
             "colorbar": {
              "outlinewidth": 0,
              "ticks": ""
             }
            },
            "type": "scatter"
           }
          ],
          "scatter3d": [
           {
            "line": {
             "colorbar": {
              "outlinewidth": 0,
              "ticks": ""
             }
            },
            "marker": {
             "colorbar": {
              "outlinewidth": 0,
              "ticks": ""
             }
            },
            "type": "scatter3d"
           }
          ],
          "scattercarpet": [
           {
            "marker": {
             "colorbar": {
              "outlinewidth": 0,
              "ticks": ""
             }
            },
            "type": "scattercarpet"
           }
          ],
          "scattergeo": [
           {
            "marker": {
             "colorbar": {
              "outlinewidth": 0,
              "ticks": ""
             }
            },
            "type": "scattergeo"
           }
          ],
          "scattergl": [
           {
            "marker": {
             "colorbar": {
              "outlinewidth": 0,
              "ticks": ""
             }
            },
            "type": "scattergl"
           }
          ],
          "scattermapbox": [
           {
            "marker": {
             "colorbar": {
              "outlinewidth": 0,
              "ticks": ""
             }
            },
            "type": "scattermapbox"
           }
          ],
          "scatterpolar": [
           {
            "marker": {
             "colorbar": {
              "outlinewidth": 0,
              "ticks": ""
             }
            },
            "type": "scatterpolar"
           }
          ],
          "scatterpolargl": [
           {
            "marker": {
             "colorbar": {
              "outlinewidth": 0,
              "ticks": ""
             }
            },
            "type": "scatterpolargl"
           }
          ],
          "scatterternary": [
           {
            "marker": {
             "colorbar": {
              "outlinewidth": 0,
              "ticks": ""
             }
            },
            "type": "scatterternary"
           }
          ],
          "surface": [
           {
            "colorbar": {
             "outlinewidth": 0,
             "ticks": ""
            },
            "colorscale": [
             [
              0,
              "#0d0887"
             ],
             [
              0.1111111111111111,
              "#46039f"
             ],
             [
              0.2222222222222222,
              "#7201a8"
             ],
             [
              0.3333333333333333,
              "#9c179e"
             ],
             [
              0.4444444444444444,
              "#bd3786"
             ],
             [
              0.5555555555555556,
              "#d8576b"
             ],
             [
              0.6666666666666666,
              "#ed7953"
             ],
             [
              0.7777777777777778,
              "#fb9f3a"
             ],
             [
              0.8888888888888888,
              "#fdca26"
             ],
             [
              1,
              "#f0f921"
             ]
            ],
            "type": "surface"
           }
          ],
          "table": [
           {
            "cells": {
             "fill": {
              "color": "#EBF0F8"
             },
             "line": {
              "color": "white"
             }
            },
            "header": {
             "fill": {
              "color": "#C8D4E3"
             },
             "line": {
              "color": "white"
             }
            },
            "type": "table"
           }
          ]
         },
         "layout": {
          "annotationdefaults": {
           "arrowcolor": "#2a3f5f",
           "arrowhead": 0,
           "arrowwidth": 1
          },
          "autotypenumbers": "strict",
          "coloraxis": {
           "colorbar": {
            "outlinewidth": 0,
            "ticks": ""
           }
          },
          "colorscale": {
           "diverging": [
            [
             0,
             "#8e0152"
            ],
            [
             0.1,
             "#c51b7d"
            ],
            [
             0.2,
             "#de77ae"
            ],
            [
             0.3,
             "#f1b6da"
            ],
            [
             0.4,
             "#fde0ef"
            ],
            [
             0.5,
             "#f7f7f7"
            ],
            [
             0.6,
             "#e6f5d0"
            ],
            [
             0.7,
             "#b8e186"
            ],
            [
             0.8,
             "#7fbc41"
            ],
            [
             0.9,
             "#4d9221"
            ],
            [
             1,
             "#276419"
            ]
           ],
           "sequential": [
            [
             0,
             "#0d0887"
            ],
            [
             0.1111111111111111,
             "#46039f"
            ],
            [
             0.2222222222222222,
             "#7201a8"
            ],
            [
             0.3333333333333333,
             "#9c179e"
            ],
            [
             0.4444444444444444,
             "#bd3786"
            ],
            [
             0.5555555555555556,
             "#d8576b"
            ],
            [
             0.6666666666666666,
             "#ed7953"
            ],
            [
             0.7777777777777778,
             "#fb9f3a"
            ],
            [
             0.8888888888888888,
             "#fdca26"
            ],
            [
             1,
             "#f0f921"
            ]
           ],
           "sequentialminus": [
            [
             0,
             "#0d0887"
            ],
            [
             0.1111111111111111,
             "#46039f"
            ],
            [
             0.2222222222222222,
             "#7201a8"
            ],
            [
             0.3333333333333333,
             "#9c179e"
            ],
            [
             0.4444444444444444,
             "#bd3786"
            ],
            [
             0.5555555555555556,
             "#d8576b"
            ],
            [
             0.6666666666666666,
             "#ed7953"
            ],
            [
             0.7777777777777778,
             "#fb9f3a"
            ],
            [
             0.8888888888888888,
             "#fdca26"
            ],
            [
             1,
             "#f0f921"
            ]
           ]
          },
          "colorway": [
           "#636efa",
           "#EF553B",
           "#00cc96",
           "#ab63fa",
           "#FFA15A",
           "#19d3f3",
           "#FF6692",
           "#B6E880",
           "#FF97FF",
           "#FECB52"
          ],
          "font": {
           "color": "#2a3f5f"
          },
          "geo": {
           "bgcolor": "white",
           "lakecolor": "white",
           "landcolor": "#E5ECF6",
           "showlakes": true,
           "showland": true,
           "subunitcolor": "white"
          },
          "hoverlabel": {
           "align": "left"
          },
          "hovermode": "closest",
          "mapbox": {
           "style": "light"
          },
          "paper_bgcolor": "white",
          "plot_bgcolor": "#E5ECF6",
          "polar": {
           "angularaxis": {
            "gridcolor": "white",
            "linecolor": "white",
            "ticks": ""
           },
           "bgcolor": "#E5ECF6",
           "radialaxis": {
            "gridcolor": "white",
            "linecolor": "white",
            "ticks": ""
           }
          },
          "scene": {
           "xaxis": {
            "backgroundcolor": "#E5ECF6",
            "gridcolor": "white",
            "gridwidth": 2,
            "linecolor": "white",
            "showbackground": true,
            "ticks": "",
            "zerolinecolor": "white"
           },
           "yaxis": {
            "backgroundcolor": "#E5ECF6",
            "gridcolor": "white",
            "gridwidth": 2,
            "linecolor": "white",
            "showbackground": true,
            "ticks": "",
            "zerolinecolor": "white"
           },
           "zaxis": {
            "backgroundcolor": "#E5ECF6",
            "gridcolor": "white",
            "gridwidth": 2,
            "linecolor": "white",
            "showbackground": true,
            "ticks": "",
            "zerolinecolor": "white"
           }
          },
          "shapedefaults": {
           "line": {
            "color": "#2a3f5f"
           }
          },
          "ternary": {
           "aaxis": {
            "gridcolor": "white",
            "linecolor": "white",
            "ticks": ""
           },
           "baxis": {
            "gridcolor": "white",
            "linecolor": "white",
            "ticks": ""
           },
           "bgcolor": "#E5ECF6",
           "caxis": {
            "gridcolor": "white",
            "linecolor": "white",
            "ticks": ""
           }
          },
          "title": {
           "x": 0.05
          },
          "xaxis": {
           "automargin": true,
           "gridcolor": "white",
           "linecolor": "white",
           "ticks": "",
           "title": {
            "standoff": 15
           },
           "zerolinecolor": "white",
           "zerolinewidth": 2
          },
          "yaxis": {
           "automargin": true,
           "gridcolor": "white",
           "linecolor": "white",
           "ticks": "",
           "title": {
            "standoff": 15
           },
           "zerolinecolor": "white",
           "zerolinewidth": 2
          }
         }
        }
       }
      },
      "text/html": [
       "<div>                            <div id=\"00c9edf1-c81b-4102-9b5e-4f487f652079\" class=\"plotly-graph-div\" style=\"height:525px; width:100%;\"></div>            <script type=\"text/javascript\">                require([\"plotly\"], function(Plotly) {                    window.PLOTLYENV=window.PLOTLYENV || {};                                    if (document.getElementById(\"00c9edf1-c81b-4102-9b5e-4f487f652079\")) {                    Plotly.newPlot(                        \"00c9edf1-c81b-4102-9b5e-4f487f652079\",                        [{\"coloraxis\":\"coloraxis\",\"geo\":\"geo\",\"hovertemplate\":\"<b>%{hovertext}</b><br><br>economy=%{location}<br>GDP per capita=%{z}<extra></extra>\",\"hovertext\":[\"Zimbabwe\",\"Zambia\",\"West Bank and Gaza\",\"Vietnam\",\"Vanuatu\",\"Uzbekistan\",\"Uruguay\",\"United States\",\"United Kingdom\",\"Ukraine\",\"Uganda\",\"Tuvalu\",\"Turks and Caicos Islands\",\"Turkiye\",\"Tunisia\",\"Trinidad and Tobago\",\"Togo\",\"Timor-Leste\",\"Thailand\",\"Tanzania\",\"Tajikistan\",\"Switzerland\",\"Sweden\",\"Suriname\",\"Sudan\",\"St. Vincent and the Grenadines\",\"St. Lucia\",\"St. Kitts and Nevis\",\"Sri Lanka\",\"Spain\",\"South Africa\",\"Somalia\",\"Solomon Islands\",\"Slovenia\",\"Slovak Republic\",\"Singapore\",\"Sierra Leone\",\"Seychelles\",\"Serbia\",\"Senegal\",\"Saudi Arabia\",\"Sao Tome and Principe\",\"Samoa\",\"Rwanda\",\"Russian Federation\",\"Romania\",\"Qatar\",\"Portugal\",\"Poland\",\"Philippines\",\"Peru\",\"Paraguay\",\"Papua New Guinea\",\"Panama\",\"Pakistan\",\"Norway\",\"North Macedonia\",\"Nigeria\",\"Niger\",\"Nicaragua\",\"New Zealand\",\"Netherlands\",\"Nepal\",\"Nauru\",\"Namibia\",\"Myanmar\",\"Mozambique\",\"Morocco\",\"Montenegro\",\"Mongolia\",\"Moldova\",\"Micronesia, Fed. Sts.\",\"Mexico\",\"Mauritius\",\"Mauritania\",\"Marshall Islands\",\"Malta\",\"Mali\",\"Maldives\",\"Malaysia\",\"Malawi\",\"Madagascar\",\"Macao SAR, China\",\"Luxembourg\",\"Lithuania\",\"Libya\",\"Liberia\",\"Lesotho\",\"Lebanon\",\"Latvia\",\"Lao PDR\",\"Kyrgyz Republic\",\"Kosovo\",\"Korea, Rep.\",\"Kenya\",\"Kazakhstan\",\"Jordan\",\"Japan\",\"Jamaica\",\"Italy\",\"Israel\",\"Ireland\",\"Iraq\",\"Indonesia\",\"India\",\"Iceland\",\"Hungary\",\"Hong Kong SAR, China\",\"Honduras\",\"Haiti\",\"Guyana\",\"Guinea-Bissau\",\"Guinea\",\"Guatemala\",\"Grenada\",\"Greece\",\"Ghana\",\"Germany\",\"Georgia\",\"Gambia, The\",\"Gabon\",\"France\",\"Finland\",\"Fiji\",\"Ethiopia\",\"Eswatini\",\"Estonia\",\"Equatorial Guinea\",\"El Salvador\",\"Egypt, Arab Rep.\",\"Ecuador\",\"Dominican Republic\",\"Dominica\",\"Djibouti\",\"Denmark\",\"Czech Republic\",\"Cyprus\",\"Croatia\",\"Cote d'Ivoire\",\"Costa Rica\",\"Congo, Rep.\",\"Congo, Dem. Rep.\",\"Comoros\",\"Colombia\",\"China\",\"Chile\",\"Chad\",\"Central African Republic\",\"Canada\",\"Cameroon\",\"Cambodia\",\"Cabo Verde\",\"Burundi\",\"Burkina Faso\",\"Bulgaria\",\"Brunei Darussalam\",\"Brazil\",\"Botswana\",\"Bosnia and Herzegovina\",\"Bolivia\",\"Bermuda\",\"Benin\",\"Belize\",\"Belgium\",\"Belarus\",\"Barbados\",\"Bangladesh\",\"Bahrain\",\"Bahamas, The\",\"Azerbaijan\",\"Austria\",\"Australia\",\"Armenia\",\"Argentina\",\"Antigua and Barbuda\",\"Angola\",\"Algeria\",\"Albania\"],\"locations\":[\"ZWE\",\"ZMB\",\"PSE\",\"VNM\",\"VUT\",\"UZB\",\"URY\",\"USA\",\"GBR\",\"UKR\",\"UGA\",\"TUV\",\"TCA\",\"TUR\",\"TUN\",\"TTO\",\"TGO\",\"TLS\",\"THA\",\"TZA\",\"TJK\",\"CHE\",\"SWE\",\"SUR\",\"SDN\",\"VCT\",\"LCA\",\"KNA\",\"LKA\",\"ESP\",\"ZAF\",\"SOM\",\"SLB\",\"SVN\",\"SVK\",\"SGP\",\"SLE\",\"SYC\",\"SRB\",\"SEN\",\"SAU\",\"STP\",\"WSM\",\"RWA\",\"RUS\",\"ROU\",\"QAT\",\"PRT\",\"POL\",\"PHL\",\"PER\",\"PRY\",\"PNG\",\"PAN\",\"PAK\",\"NOR\",\"MKD\",\"NGA\",\"NER\",\"NIC\",\"NZL\",\"NLD\",\"NPL\",\"NRU\",\"NAM\",\"MMR\",\"MOZ\",\"MAR\",\"MNE\",\"MNG\",\"MDA\",\"FSM\",\"MEX\",\"MUS\",\"MRT\",\"MHL\",\"MLT\",\"MLI\",\"MDV\",\"MYS\",\"MWI\",\"MDG\",\"MAC\",\"LUX\",\"LTU\",\"LBY\",\"LBR\",\"LSO\",\"LBN\",\"LVA\",\"LAO\",\"KGZ\",\"XKX\",\"KOR\",\"KEN\",\"KAZ\",\"JOR\",\"JPN\",\"JAM\",\"ITA\",\"ISR\",\"IRL\",\"IRQ\",\"IDN\",\"IND\",\"ISL\",\"HUN\",\"HKG\",\"HND\",\"HTI\",\"GUY\",\"GNB\",\"GIN\",\"GTM\",\"GRD\",\"GRC\",\"GHA\",\"DEU\",\"GEO\",\"GMB\",\"GAB\",\"FRA\",\"FIN\",\"FJI\",\"ETH\",\"SWZ\",\"EST\",\"GNQ\",\"SLV\",\"EGY\",\"ECU\",\"DOM\",\"DMA\",\"DJI\",\"DNK\",\"CZE\",\"CYP\",\"HRV\",\"CIV\",\"CRI\",\"COG\",\"COD\",\"COM\",\"COL\",\"CHN\",\"CHL\",\"TCD\",\"CAF\",\"CAN\",\"CMR\",\"KHM\",\"CPV\",\"BDI\",\"BFA\",\"BGR\",\"BRN\",\"BRA\",\"BWA\",\"BIH\",\"BOL\",\"BMU\",\"BEN\",\"BLZ\",\"BEL\",\"BLR\",\"BRB\",\"BGD\",\"BHR\",\"BHS\",\"AZE\",\"AUT\",\"AUS\",\"ARM\",\"ARG\",\"ATG\",\"AGO\",\"DZA\",\"ALB\"],\"name\":\"\",\"z\":[2225.09497213366,3298.62676795919,5643.07224283672,10516.2228115326,2826.47349306693,7734.8324139199,22415.4042918738,63069.2255470859,45839.1534260014,12943.6142578125,2182.57044580219,4626.31450447142,21291.2614921669,31252.0769418532,10554.1355547245,24456.7765453161,2166.55400959924,4021.12160735184,17485.5085193879,2669.43334960938,3903.4957634874,70792.65653455,53050.3265332637,15179.05889192,3838.73999023438,12763.0557832934,12790.3038390914,23899.8859544133,12859.3440958103,38097.8417335522,13126.0147383385,1185.56201788423,2417.72497999841,39969.8118035708,31498.1263609196,106032.224754147,1653.17542033358,27159.6553368876,19761.6474238113,3430.44261847215,45104.2777693647,4046.92312624196,5844.150380461,2270.21836506682,27969.677734375,30854.6429535965,85128.2235840067,33514.2740761006,34363.0190651557,8301.2331747152,12648.2240192207,12721.5744436649,4046.40902316655,28837.0015055438,5350.14497272962,65688.5510103913,16464.3360935588,4969.21844669279,1192.26328570502,5763.42731471481,43301.4315943119,56761.0147312233,3878.444420455,13747.2506938544,8925.201528416,3954.99990560186,1221.82433614838,7412.6728515625,20566.8380649086,11708.3609415213,14233.8534248213,3226.14303212251,18544.7120585215,20244.1616028409,5089.98737432171,3806.21355718568,44395.3304616162,2227.68559506905,16595.9653277078,26959.2492564091,1509.50477657508,1488.6450369987,67178.7447451607,118680.043728826,38957.6311424069,21260.4323755427,1413.44826337426,2441.51438804857,9731.71660199083,31688.526613647,7895.56988806945,4813.23018280385,11579.3203475523,44116.0134351099,4572.66892491959,26033.2384266738,9969.10644129228,40769.8281616924,9126.11534409822,41937.2111464783,41582.4733806761,102154.434485666,9474.77802538714,11746.2166908059,6675.34945331722,53462.6522183035,33517.9741094713,60051.7548508743,5691.42319711144,2846.74109884802,22295.4899720268,1872.4825618157,2620.24951896766,8892.48369150326,15183.406889673,29428.3930211337,5623.80586002033,52930.8088686815,15471.7150136944,2215.46463411185,14197.6987995281,45187.4462893777,48936.7094028185,10977.4529254916,2366.41905090437,8934.87786805154,38207.4086103403,16500.33569098,8800.99322469819,12121.1591610817,10614.6423773935,18905.2203909793,10899.2556669957,5393.97615339156,58187.0412178885,39777.7892430136,40791.42578125,31046.6275736968,5406.6913396527,21260.7623343313,3292.26372691943,1109.38800436308,2989.6380893716,14705.1076628503,17602.6960578913,25821.1138456941,1447.80649201794,928.943927234966,47903.0289106506,3699.69538445307,4262.72165632914,6397.30452966188,722.046273490697,2240.99219305939,23431.967608547,60640.9734447064,14615.0455823644,16023.8546161195,15634.9265630873,8219.942366197,77546.6103251632,3449.19948267432,6300.27444259148,51601.8877741089,19751.2039053496,13487.101890443,6019.51875199849,41335.6331134108,31046.7910948148,14421.0462799014,53944.5255840933,49308.5137908219,13317.2316143643,21506.9193281695,18057.2912924775,5990.41680534566,10957.1599228817,14520.1110348118],\"type\":\"choropleth\"}],                        {\"template\":{\"data\":{\"bar\":[{\"error_x\":{\"color\":\"#2a3f5f\"},\"error_y\":{\"color\":\"#2a3f5f\"},\"marker\":{\"line\":{\"color\":\"#E5ECF6\",\"width\":0.5},\"pattern\":{\"fillmode\":\"overlay\",\"size\":10,\"solidity\":0.2}},\"type\":\"bar\"}],\"barpolar\":[{\"marker\":{\"line\":{\"color\":\"#E5ECF6\",\"width\":0.5},\"pattern\":{\"fillmode\":\"overlay\",\"size\":10,\"solidity\":0.2}},\"type\":\"barpolar\"}],\"carpet\":[{\"aaxis\":{\"endlinecolor\":\"#2a3f5f\",\"gridcolor\":\"white\",\"linecolor\":\"white\",\"minorgridcolor\":\"white\",\"startlinecolor\":\"#2a3f5f\"},\"baxis\":{\"endlinecolor\":\"#2a3f5f\",\"gridcolor\":\"white\",\"linecolor\":\"white\",\"minorgridcolor\":\"white\",\"startlinecolor\":\"#2a3f5f\"},\"type\":\"carpet\"}],\"choropleth\":[{\"colorbar\":{\"outlinewidth\":0,\"ticks\":\"\"},\"type\":\"choropleth\"}],\"contour\":[{\"colorbar\":{\"outlinewidth\":0,\"ticks\":\"\"},\"colorscale\":[[0.0,\"#0d0887\"],[0.1111111111111111,\"#46039f\"],[0.2222222222222222,\"#7201a8\"],[0.3333333333333333,\"#9c179e\"],[0.4444444444444444,\"#bd3786\"],[0.5555555555555556,\"#d8576b\"],[0.6666666666666666,\"#ed7953\"],[0.7777777777777778,\"#fb9f3a\"],[0.8888888888888888,\"#fdca26\"],[1.0,\"#f0f921\"]],\"type\":\"contour\"}],\"contourcarpet\":[{\"colorbar\":{\"outlinewidth\":0,\"ticks\":\"\"},\"type\":\"contourcarpet\"}],\"heatmap\":[{\"colorbar\":{\"outlinewidth\":0,\"ticks\":\"\"},\"colorscale\":[[0.0,\"#0d0887\"],[0.1111111111111111,\"#46039f\"],[0.2222222222222222,\"#7201a8\"],[0.3333333333333333,\"#9c179e\"],[0.4444444444444444,\"#bd3786\"],[0.5555555555555556,\"#d8576b\"],[0.6666666666666666,\"#ed7953\"],[0.7777777777777778,\"#fb9f3a\"],[0.8888888888888888,\"#fdca26\"],[1.0,\"#f0f921\"]],\"type\":\"heatmap\"}],\"heatmapgl\":[{\"colorbar\":{\"outlinewidth\":0,\"ticks\":\"\"},\"colorscale\":[[0.0,\"#0d0887\"],[0.1111111111111111,\"#46039f\"],[0.2222222222222222,\"#7201a8\"],[0.3333333333333333,\"#9c179e\"],[0.4444444444444444,\"#bd3786\"],[0.5555555555555556,\"#d8576b\"],[0.6666666666666666,\"#ed7953\"],[0.7777777777777778,\"#fb9f3a\"],[0.8888888888888888,\"#fdca26\"],[1.0,\"#f0f921\"]],\"type\":\"heatmapgl\"}],\"histogram\":[{\"marker\":{\"pattern\":{\"fillmode\":\"overlay\",\"size\":10,\"solidity\":0.2}},\"type\":\"histogram\"}],\"histogram2d\":[{\"colorbar\":{\"outlinewidth\":0,\"ticks\":\"\"},\"colorscale\":[[0.0,\"#0d0887\"],[0.1111111111111111,\"#46039f\"],[0.2222222222222222,\"#7201a8\"],[0.3333333333333333,\"#9c179e\"],[0.4444444444444444,\"#bd3786\"],[0.5555555555555556,\"#d8576b\"],[0.6666666666666666,\"#ed7953\"],[0.7777777777777778,\"#fb9f3a\"],[0.8888888888888888,\"#fdca26\"],[1.0,\"#f0f921\"]],\"type\":\"histogram2d\"}],\"histogram2dcontour\":[{\"colorbar\":{\"outlinewidth\":0,\"ticks\":\"\"},\"colorscale\":[[0.0,\"#0d0887\"],[0.1111111111111111,\"#46039f\"],[0.2222222222222222,\"#7201a8\"],[0.3333333333333333,\"#9c179e\"],[0.4444444444444444,\"#bd3786\"],[0.5555555555555556,\"#d8576b\"],[0.6666666666666666,\"#ed7953\"],[0.7777777777777778,\"#fb9f3a\"],[0.8888888888888888,\"#fdca26\"],[1.0,\"#f0f921\"]],\"type\":\"histogram2dcontour\"}],\"mesh3d\":[{\"colorbar\":{\"outlinewidth\":0,\"ticks\":\"\"},\"type\":\"mesh3d\"}],\"parcoords\":[{\"line\":{\"colorbar\":{\"outlinewidth\":0,\"ticks\":\"\"}},\"type\":\"parcoords\"}],\"pie\":[{\"automargin\":true,\"type\":\"pie\"}],\"scatter\":[{\"marker\":{\"colorbar\":{\"outlinewidth\":0,\"ticks\":\"\"}},\"type\":\"scatter\"}],\"scatter3d\":[{\"line\":{\"colorbar\":{\"outlinewidth\":0,\"ticks\":\"\"}},\"marker\":{\"colorbar\":{\"outlinewidth\":0,\"ticks\":\"\"}},\"type\":\"scatter3d\"}],\"scattercarpet\":[{\"marker\":{\"colorbar\":{\"outlinewidth\":0,\"ticks\":\"\"}},\"type\":\"scattercarpet\"}],\"scattergeo\":[{\"marker\":{\"colorbar\":{\"outlinewidth\":0,\"ticks\":\"\"}},\"type\":\"scattergeo\"}],\"scattergl\":[{\"marker\":{\"colorbar\":{\"outlinewidth\":0,\"ticks\":\"\"}},\"type\":\"scattergl\"}],\"scattermapbox\":[{\"marker\":{\"colorbar\":{\"outlinewidth\":0,\"ticks\":\"\"}},\"type\":\"scattermapbox\"}],\"scatterpolar\":[{\"marker\":{\"colorbar\":{\"outlinewidth\":0,\"ticks\":\"\"}},\"type\":\"scatterpolar\"}],\"scatterpolargl\":[{\"marker\":{\"colorbar\":{\"outlinewidth\":0,\"ticks\":\"\"}},\"type\":\"scatterpolargl\"}],\"scatterternary\":[{\"marker\":{\"colorbar\":{\"outlinewidth\":0,\"ticks\":\"\"}},\"type\":\"scatterternary\"}],\"surface\":[{\"colorbar\":{\"outlinewidth\":0,\"ticks\":\"\"},\"colorscale\":[[0.0,\"#0d0887\"],[0.1111111111111111,\"#46039f\"],[0.2222222222222222,\"#7201a8\"],[0.3333333333333333,\"#9c179e\"],[0.4444444444444444,\"#bd3786\"],[0.5555555555555556,\"#d8576b\"],[0.6666666666666666,\"#ed7953\"],[0.7777777777777778,\"#fb9f3a\"],[0.8888888888888888,\"#fdca26\"],[1.0,\"#f0f921\"]],\"type\":\"surface\"}],\"table\":[{\"cells\":{\"fill\":{\"color\":\"#EBF0F8\"},\"line\":{\"color\":\"white\"}},\"header\":{\"fill\":{\"color\":\"#C8D4E3\"},\"line\":{\"color\":\"white\"}},\"type\":\"table\"}]},\"layout\":{\"annotationdefaults\":{\"arrowcolor\":\"#2a3f5f\",\"arrowhead\":0,\"arrowwidth\":1},\"autotypenumbers\":\"strict\",\"coloraxis\":{\"colorbar\":{\"outlinewidth\":0,\"ticks\":\"\"}},\"colorscale\":{\"diverging\":[[0,\"#8e0152\"],[0.1,\"#c51b7d\"],[0.2,\"#de77ae\"],[0.3,\"#f1b6da\"],[0.4,\"#fde0ef\"],[0.5,\"#f7f7f7\"],[0.6,\"#e6f5d0\"],[0.7,\"#b8e186\"],[0.8,\"#7fbc41\"],[0.9,\"#4d9221\"],[1,\"#276419\"]],\"sequential\":[[0.0,\"#0d0887\"],[0.1111111111111111,\"#46039f\"],[0.2222222222222222,\"#7201a8\"],[0.3333333333333333,\"#9c179e\"],[0.4444444444444444,\"#bd3786\"],[0.5555555555555556,\"#d8576b\"],[0.6666666666666666,\"#ed7953\"],[0.7777777777777778,\"#fb9f3a\"],[0.8888888888888888,\"#fdca26\"],[1.0,\"#f0f921\"]],\"sequentialminus\":[[0.0,\"#0d0887\"],[0.1111111111111111,\"#46039f\"],[0.2222222222222222,\"#7201a8\"],[0.3333333333333333,\"#9c179e\"],[0.4444444444444444,\"#bd3786\"],[0.5555555555555556,\"#d8576b\"],[0.6666666666666666,\"#ed7953\"],[0.7777777777777778,\"#fb9f3a\"],[0.8888888888888888,\"#fdca26\"],[1.0,\"#f0f921\"]]},\"colorway\":[\"#636efa\",\"#EF553B\",\"#00cc96\",\"#ab63fa\",\"#FFA15A\",\"#19d3f3\",\"#FF6692\",\"#B6E880\",\"#FF97FF\",\"#FECB52\"],\"font\":{\"color\":\"#2a3f5f\"},\"geo\":{\"bgcolor\":\"white\",\"lakecolor\":\"white\",\"landcolor\":\"#E5ECF6\",\"showlakes\":true,\"showland\":true,\"subunitcolor\":\"white\"},\"hoverlabel\":{\"align\":\"left\"},\"hovermode\":\"closest\",\"mapbox\":{\"style\":\"light\"},\"paper_bgcolor\":\"white\",\"plot_bgcolor\":\"#E5ECF6\",\"polar\":{\"angularaxis\":{\"gridcolor\":\"white\",\"linecolor\":\"white\",\"ticks\":\"\"},\"bgcolor\":\"#E5ECF6\",\"radialaxis\":{\"gridcolor\":\"white\",\"linecolor\":\"white\",\"ticks\":\"\"}},\"scene\":{\"xaxis\":{\"backgroundcolor\":\"#E5ECF6\",\"gridcolor\":\"white\",\"gridwidth\":2,\"linecolor\":\"white\",\"showbackground\":true,\"ticks\":\"\",\"zerolinecolor\":\"white\"},\"yaxis\":{\"backgroundcolor\":\"#E5ECF6\",\"gridcolor\":\"white\",\"gridwidth\":2,\"linecolor\":\"white\",\"showbackground\":true,\"ticks\":\"\",\"zerolinecolor\":\"white\"},\"zaxis\":{\"backgroundcolor\":\"#E5ECF6\",\"gridcolor\":\"white\",\"gridwidth\":2,\"linecolor\":\"white\",\"showbackground\":true,\"ticks\":\"\",\"zerolinecolor\":\"white\"}},\"shapedefaults\":{\"line\":{\"color\":\"#2a3f5f\"}},\"ternary\":{\"aaxis\":{\"gridcolor\":\"white\",\"linecolor\":\"white\",\"ticks\":\"\"},\"baxis\":{\"gridcolor\":\"white\",\"linecolor\":\"white\",\"ticks\":\"\"},\"bgcolor\":\"#E5ECF6\",\"caxis\":{\"gridcolor\":\"white\",\"linecolor\":\"white\",\"ticks\":\"\"}},\"title\":{\"x\":0.05},\"xaxis\":{\"automargin\":true,\"gridcolor\":\"white\",\"linecolor\":\"white\",\"ticks\":\"\",\"title\":{\"standoff\":15},\"zerolinecolor\":\"white\",\"zerolinewidth\":2},\"yaxis\":{\"automargin\":true,\"gridcolor\":\"white\",\"linecolor\":\"white\",\"ticks\":\"\",\"title\":{\"standoff\":15},\"zerolinecolor\":\"white\",\"zerolinewidth\":2}}},\"geo\":{\"domain\":{\"x\":[0.0,1.0],\"y\":[0.0,1.0]},\"projection\":{\"type\":\"natural earth\"},\"center\":{}},\"coloraxis\":{\"colorbar\":{\"title\":{\"text\":\"GDP per capita\"}},\"colorscale\":[[0.0,\"#0d0887\"],[0.1111111111111111,\"#46039f\"],[0.2222222222222222,\"#7201a8\"],[0.3333333333333333,\"#9c179e\"],[0.4444444444444444,\"#bd3786\"],[0.5555555555555556,\"#d8576b\"],[0.6666666666666666,\"#ed7953\"],[0.7777777777777778,\"#fb9f3a\"],[0.8888888888888888,\"#fdca26\"],[1.0,\"#f0f921\"]]},\"legend\":{\"tracegroupgap\":0},\"margin\":{\"t\":60}},                        {\"responsive\": true}                    ).then(function(){\n",
       "                            \n",
       "var gd = document.getElementById('00c9edf1-c81b-4102-9b5e-4f487f652079');\n",
       "var x = new MutationObserver(function (mutations, observer) {{\n",
       "        var display = window.getComputedStyle(gd).display;\n",
       "        if (!display || display === 'none') {{\n",
       "            console.log([gd, 'removed!']);\n",
       "            Plotly.purge(gd);\n",
       "            observer.disconnect();\n",
       "        }}\n",
       "}});\n",
       "\n",
       "// Listen for the removal of the full notebook cells\n",
       "var notebookContainer = gd.closest('#notebook-container');\n",
       "if (notebookContainer) {{\n",
       "    x.observe(notebookContainer, {childList: true});\n",
       "}}\n",
       "\n",
       "// Listen for the clearing of the current output cell\n",
       "var outputEl = gd.closest('.output');\n",
       "if (outputEl) {{\n",
       "    x.observe(outputEl, {childList: true});\n",
       "}}\n",
       "\n",
       "                        })                };                });            </script>        </div>"
      ]
     },
     "metadata": {},
     "output_type": "display_data"
    }
   ],
   "source": [
    "import plotly.express as px\n",
    "\n",
    "df= wb.data.DataFrame('NY.GDP.PCAP.PP.KD', \n",
    "                                time=range(2015,2022),\n",
    "                                labels=True,\n",
    "                                skipAggs=True, \n",
    "                                skipBlanks=True, \n",
    "                                columns='series').reset_index()\n",
    "\n",
    "px.choropleth(\n",
    "    df.query(\"Time == '2021'\"),\n",
    "    locations = \"economy\",\n",
    "    color = \"NY.GDP.PCAP.PP.KD\",\n",
    "    hover_name = \"Country\",\n",
    "    color_continuous_scale = px.colors.sequential.Plasma,\n",
    "    projection = \"natural earth\",\n",
    "    labels = {\"NY.GDP.PCAP.PP.KD\": \"GDP per capita\"}\n",
    "     )"
   ]
  },
  {
   "cell_type": "markdown",
   "id": "8d969063",
   "metadata": {},
   "source": [
    "#### So, Lets look at the 'Health Nutrition and Population Statistics' database "
   ]
  },
  {
   "cell_type": "code",
   "execution_count": 18,
   "id": "1a2bebdf",
   "metadata": {
    "scrolled": true
   },
   "outputs": [
    {
     "data": {
      "text/html": [
       "<div class=\"wbgapi\"><table>\n",
       "<thead>\n",
       "<tr><th>id                  </th><th>value                                                                                                                             </th></tr>\n",
       "</thead>\n",
       "<tbody>\n",
       "<tr><td>HD.HCI.OVRL         </td><td>Human capital index (HCI) (scale 0-1)                                                                                             </td></tr>\n",
       "<tr><td>HD.HCI.OVRL.FE      </td><td>Human capital index (HCI), female (scale 0-1)                                                                                     </td></tr>\n",
       "<tr><td>HD.HCI.OVRL.LB      </td><td>Human capital index (HCI), lower bound (scale 0-1)                                                                                </td></tr>\n",
       "<tr><td>HD.HCI.OVRL.LB.FE   </td><td>Human capital index (HCI), female, lower bound (scale 0-1)                                                                        </td></tr>\n",
       "<tr><td>HD.HCI.OVRL.LB.MA   </td><td>Human capital index (HCI), male, lower bound (scale 0-1)                                                                          </td></tr>\n",
       "<tr><td>HD.HCI.OVRL.MA      </td><td>Human capital index (HCI), male (scale 0-1)                                                                                       </td></tr>\n",
       "<tr><td>HD.HCI.OVRL.UB      </td><td>Human capital index (HCI), upper bound (scale 0-1)                                                                                </td></tr>\n",
       "<tr><td>HD.HCI.OVRL.UB.FE   </td><td>Human capital index (HCI), female, upper bound (scale 0-1)                                                                        </td></tr>\n",
       "<tr><td>HD.HCI.OVRL.UB.MA   </td><td>Human capital index (HCI), male, upper bound (scale 0-1)                                                                          </td></tr>\n",
       "<tr><td>NY.GNP.PCAP.CD      </td><td>GNI per capita, Atlas method (current US$)                                                                                        </td></tr>\n",
       "<tr><td>SE.ADT.1524.LT.FM.ZS</td><td>Ratio of young literate females to males (% ages 15-24)                                                                           </td></tr>\n",
       "<tr><td>SE.ADT.1524.LT.MA.ZS</td><td>Literacy rate, youth male (% of males ages 15-24)                                                                                 </td></tr>\n",
       "<tr><td>SE.ADT.1524.LT.ZS   </td><td>Literacy rate, youth total (% of people ages 15-24)                                                                               </td></tr>\n",
       "<tr><td>SE.ADT.LITR.FE.ZS   </td><td>Literacy rate, adult female (% of females ages 15 and above)                                                                      </td></tr>\n",
       "<tr><td>SE.ADT.LITR.MA.ZS   </td><td>Literacy rate, adult male (% of males ages 15 and above)                                                                          </td></tr>\n",
       "<tr><td>SE.ADT.LITR.ZS      </td><td>Literacy rate, adult total (% of people ages 15 and above)                                                                        </td></tr>\n",
       "<tr><td>SE.ENR.ORPH         </td><td>Ratio of school attendance of orphans to school attendance of non-orphans ages 10-14                                              </td></tr>\n",
       "<tr><td>SE.PRM.CMPT.FE.ZS   </td><td>Primary completion rate, female (% of relevant age group)                                                                         </td></tr>\n",
       "<tr><td>SE.PRM.CMPT.MA.ZS   </td><td>Primary completion rate, male (% of relevant age group)                                                                           </td></tr>\n",
       "<tr><td>SE.PRM.CMPT.ZS      </td><td>Primary completion rate, total (% of relevant age group)                                                                          </td></tr>\n",
       "<tr><td>SE.PRM.ENRR         </td><td>School enrollment, primary (% gross)                                                                                              </td></tr>\n",
       "<tr><td>SE.PRM.ENRR.FE      </td><td>School enrollment, primary, female (% gross)                                                                                      </td></tr>\n",
       "<tr><td>SE.PRM.ENRR.MA      </td><td>School enrollment, primary, male (% gross)                                                                                        </td></tr>\n",
       "<tr><td>SE.PRM.NENR         </td><td>School enrollment, primary (% net)                                                                                                </td></tr>\n",
       "<tr><td>SE.PRM.NENR.FE      </td><td>School enrollment, primary, female (% net)                                                                                        </td></tr>\n",
       "<tr><td>SE.PRM.NENR.MA      </td><td>School enrollment, primary, male (% net)                                                                                          </td></tr>\n",
       "<tr><td>SE.SEC.ENRR         </td><td>School enrollment, secondary (% gross)                                                                                            </td></tr>\n",
       "<tr><td>SE.SEC.ENRR.FE      </td><td>School enrollment, secondary, female (% gross)                                                                                    </td></tr>\n",
       "<tr><td>SE.SEC.ENRR.MA      </td><td>School enrollment, secondary, male (% gross)                                                                                      </td></tr>\n",
       "<tr><td>SE.SEC.NENR         </td><td>School enrollment, secondary (% net)                                                                                              </td></tr>\n",
       "<tr><td>SE.SEC.NENR.FE      </td><td>School enrollment, secondary, female (% net)                                                                                      </td></tr>\n",
       "<tr><td>SE.SEC.NENR.MA      </td><td>School enrollment, secondary, male (% net)                                                                                        </td></tr>\n",
       "<tr><td>SE.TER.ENRR         </td><td>School enrollment, tertiary (% gross)                                                                                             </td></tr>\n",
       "<tr><td>SE.TER.ENRR.FE      </td><td>School enrollment, tertiary, female (% gross)                                                                                     </td></tr>\n",
       "<tr><td>SE.XPD.TOTL.GD.ZS   </td><td>Public spending on education, total (% of GDP)                                                                                    </td></tr>\n",
       "<tr><td>SH.ALC.PCAP.FE.LI   </td><td>Total alcohol consumption per capita, female (liters of pure alcohol, projected estimates, female 15+ years of age)               </td></tr>\n",
       "<tr><td>SH.ALC.PCAP.LI      </td><td>Total alcohol consumption per capita (liters of pure alcohol, projected estimates, 15+ years of age)                              </td></tr>\n",
       "<tr><td>SH.ALC.PCAP.MA.LI   </td><td>Total alcohol consumption per capita, male (liters of pure alcohol, projected estimates, male 15+ years of age)                   </td></tr>\n",
       "<tr><td>SH.ANM.ALLW.ZS      </td><td>Prevalence of anemia among women of reproductive age (% of women ages 15-49)                                                      </td></tr>\n",
       "<tr><td>SH.ANM.CHLD.ZS      </td><td>Prevalence of anemia among children (% of children ages 6-59 months)                                                              </td></tr>\n",
       "<tr><td>SH.ANM.NPRG.ZS      </td><td>Prevalence of anemia among non-pregnant women (% of women ages 15-49)                                                             </td></tr>\n",
       "<tr><td>SH.CON.1524.FE.ZS   </td><td>Condom use, population ages 15-24, female (% of females ages 15-24)                                                               </td></tr>\n",
       "<tr><td>SH.CON.1524.MA.ZS   </td><td>Condom use, population ages 15-24, male (% of males ages 15-24)                                                                   </td></tr>\n",
       "<tr><td>SH.CON.AIDS.FE.ZS   </td><td>Condom use at last high-risk sex, adult female (% ages 15-49)                                                                     </td></tr>\n",
       "<tr><td>SH.CON.AIDS.MA.ZS   </td><td>Condom use at last high-risk sex, adult male (% ages 15-49)                                                                       </td></tr>\n",
       "<tr><td>SH.DTH.0509         </td><td>Number of deaths ages 5-9 years                                                                                                   </td></tr>\n",
       "<tr><td>SH.DTH.1014         </td><td>Number of deaths ages 10-14 years                                                                                                 </td></tr>\n",
       "<tr><td>SH.DTH.1019         </td><td>Number of deaths ages 10-19 years                                                                                                 </td></tr>\n",
       "<tr><td>SH.DTH.1519         </td><td>Number of deaths ages 15-19 years                                                                                                 </td></tr>\n",
       "<tr><td>SH.DTH.2024         </td><td>Number of deaths ages 20-24 years                                                                                                 </td></tr>\n",
       "<tr><td>SH.DTH.COMM.ZS      </td><td>Cause of death, by communicable diseases and maternal, prenatal and nutrition conditions (% of total)                             </td></tr>\n",
       "<tr><td>SH.DTH.IMRT         </td><td>Number of infant deaths                                                                                                           </td></tr>\n",
       "<tr><td>SH.DTH.IMRT.FE      </td><td>Number of infant deaths, female                                                                                                   </td></tr>\n",
       "<tr><td>SH.DTH.IMRT.MA      </td><td>Number of infant deaths, male                                                                                                     </td></tr>\n",
       "<tr><td>SH.DTH.INJR.ZS      </td><td>Cause of death, by injury (% of total)                                                                                            </td></tr>\n",
       "<tr><td>SH.DTH.MORT         </td><td>Number of under-five deaths                                                                                                       </td></tr>\n",
       "<tr><td>SH.DTH.MORT.FE      </td><td>Number of under-five deaths, female                                                                                               </td></tr>\n",
       "<tr><td>SH.DTH.MORT.MA      </td><td>Number of under-five deaths, male                                                                                                 </td></tr>\n",
       "<tr><td>SH.DTH.NCOM.ZS      </td><td>Cause of death, by non-communicable diseases (% of total)                                                                         </td></tr>\n",
       "<tr><td>SH.DTH.NMRT         </td><td>Number of neonatal deaths                                                                                                         </td></tr>\n",
       "<tr><td>SH.DTH.STLB         </td><td>Number of stillbirths                                                                                                             </td></tr>\n",
       "<tr><td>SH.DYN.0509         </td><td>Probability of dying among children ages 5-9 years (per 1,000)                                                                    </td></tr>\n",
       "<tr><td>SH.DYN.1014         </td><td>Probability of dying among adolescents ages 10-14 years (per 1,000)                                                               </td></tr>\n",
       "<tr><td>SH.DYN.1019         </td><td>Probability of dying among adolescents ages 10-19 years (per 1,000)                                                               </td></tr>\n",
       "<tr><td>SH.DYN.1519         </td><td>Probability of dying among adolescents ages 15-19 years (per 1,000)                                                               </td></tr>\n",
       "<tr><td>SH.DYN.2024         </td><td>Probability of dying among youth ages 20-24 years (per 1,000)                                                                     </td></tr>\n",
       "<tr><td>SH.DYN.AIDS         </td><td>Adults (ages 15+) living with HIV                                                                                                 </td></tr>\n",
       "<tr><td>SH.DYN.AIDS.DH      </td><td>AIDS estimated deaths (UNAIDS estimates)                                                                                          </td></tr>\n",
       "<tr><td>SH.DYN.AIDS.FE.ZS   </td><td>Women&#x27;s share of population ages 15+ living with HIV (%)                                                                          </td></tr>\n",
       "<tr><td>SH.DYN.AIDS.ZS      </td><td>Prevalence of HIV, total (% of population ages 15-49)                                                                             </td></tr>\n",
       "<tr><td>SH.DYN.MORT         </td><td>Mortality rate, under-5 (per 1,000)                                                                                               </td></tr>\n",
       "<tr><td>SH.DYN.MORT.FE      </td><td>Mortality rate, under-5, female (per 1,000)                                                                                       </td></tr>\n",
       "<tr><td>SH.DYN.MORT.MA      </td><td>Mortality rate, under-5, male (per 1,000)                                                                                         </td></tr>\n",
       "<tr><td>SH.DYN.NCOM.FE.ZS   </td><td>Mortality from CVD, cancer, diabetes or CRD between exact ages 30 and 70, female (%)                                              </td></tr>\n",
       "<tr><td>SH.DYN.NCOM.MA.ZS   </td><td>Mortality from CVD, cancer, diabetes or CRD between exact ages 30 and 70, male (%)                                                </td></tr>\n",
       "<tr><td>SH.DYN.NCOM.ZS      </td><td>Mortality from CVD, cancer, diabetes or CRD between exact ages 30 and 70 (%)                                                      </td></tr>\n",
       "<tr><td>SH.DYN.NMRT         </td><td>Mortality rate, neonatal (per 1,000 live births)                                                                                  </td></tr>\n",
       "<tr><td>SH.DYN.STLB         </td><td>Stillbirth rate (per 1,000 total births)                                                                                          </td></tr>\n",
       "<tr><td>SH.FPL.SATI.ZS      </td><td>Demand for family planning satisfied by any methods (% of married women with demand for family planning)                          </td></tr>\n",
       "<tr><td>SH.FPL.SATM.ZS      </td><td>Demand for family planning satisfied by modern methods (% of married women with demand for family planning)                       </td></tr>\n",
       "<tr><td>SH.H2O.BASW.RU.ZS   </td><td>People using at least basic drinking water services, rural (% of rural population)                                                </td></tr>\n",
       "<tr><td>SH.H2O.BASW.UR.ZS   </td><td>People using at least basic drinking water services, urban (% of urban population)                                                </td></tr>\n",
       "<tr><td>SH.H2O.BASW.ZS      </td><td>People using at least basic drinking water services (% of population)                                                             </td></tr>\n",
       "<tr><td>SH.H2O.SMDW.RU.ZS   </td><td>People using safely managed drinking water services, rural (% of rural population)                                                </td></tr>\n",
       "<tr><td>SH.H2O.SMDW.UR.ZS   </td><td>People using safely managed drinking water services, urban (% of urban population)                                                </td></tr>\n",
       "<tr><td>SH.H2O.SMDW.ZS      </td><td>People using safely managed drinking water services (% of population)                                                             </td></tr>\n",
       "<tr><td>SH.HIV.0014         </td><td>Children (0-14) living with HIV                                                                                                   </td></tr>\n",
       "<tr><td>SH.HIV.1524.FE.ZS   </td><td>Prevalence of HIV, female (% ages 15-24)                                                                                          </td></tr>\n",
       "<tr><td>SH.HIV.1524.KW.FE.ZS</td><td>Comprehensive correct knowledge of HIV/AIDS, ages 15-24, female (2 prevent ways and reject 3 misconceptions)                      </td></tr>\n",
       "<tr><td>SH.HIV.1524.KW.MA.ZS</td><td>Comprehensive correct knowledge of HIV/AIDS, ages 15-24, male (2 prevent ways and reject 3 misconceptions)                        </td></tr>\n",
       "<tr><td>SH.HIV.1524.MA.ZS   </td><td>Prevalence of HIV, male (% ages 15-24)                                                                                            </td></tr>\n",
       "<tr><td>SH.HIV.ARTC.ZS      </td><td>Antiretroviral therapy coverage (% of people living with HIV)                                                                     </td></tr>\n",
       "<tr><td>SH.HIV.INCD         </td><td>Adults (ages 15-49) newly infected with HIV                                                                                       </td></tr>\n",
       "<tr><td>SH.HIV.INCD.14      </td><td>Children (ages 0-14) newly infected with HIV                                                                                      </td></tr>\n",
       "<tr><td>SH.HIV.INCD.50.P3   </td><td>Incidence of HIV, ages 50+ (per 1,000 uninfected population ages 50+)                                                             </td></tr>\n",
       "<tr><td>SH.HIV.INCD.TL      </td><td>Adults (ages 15+) and children (ages 0-14) newly infected with HIV                                                                </td></tr>\n",
       "<tr><td>SH.HIV.INCD.TL.P3   </td><td>Incidence of HIV, all (per 1,000 uninfected population)                                                                           </td></tr>\n",
       "<tr><td>SH.HIV.INCD.YG      </td><td>Young people (ages 15-24) newly infected with HIV                                                                                 </td></tr>\n",
       "<tr><td>SH.HIV.INCD.YG.P3   </td><td>Incidence of HIV, ages 15-24 (per 1,000 uninfected population ages 15-24)                                                         </td></tr>\n",
       "<tr><td>SH.HIV.INCD.ZS      </td><td>Incidence of HIV, ages 15-49 (per 1,000 uninfected population ages 15-49)                                                         </td></tr>\n",
       "<tr><td>SH.HIV.KNOW.FE.ZS   </td><td>Comprehensive correct knowledge of HIV/AIDS, ages 15-49, female (2 prevent ways and reject 3 misconceptions)                      </td></tr>\n",
       "<tr><td>SH.HIV.KNOW.MA.ZS   </td><td>Comprehensive correct knowledge of HIV/AIDS, ages 15-49, male (2 prevent ways and reject 3 misconceptions)                        </td></tr>\n",
       "<tr><td>SH.HIV.ORPH         </td><td>Children orphaned by HIV/AIDS                                                                                                     </td></tr>\n",
       "<tr><td>SH.HIV.PMTC.ZS      </td><td>Antiretroviral therapy coverage for PMTCT (% of pregnant women living with HIV)                                                   </td></tr>\n",
       "<tr><td>SH.HIV.TOTL         </td><td>Adults (ages 15+) and children (0-14 years) living with HIV                                                                       </td></tr>\n",
       "<tr><td>SH.HTN.PREV.FE.ZS   </td><td>Prevalence of hypertension, female (% of female adults ages 30-79)                                                                </td></tr>\n",
       "<tr><td>SH.HTN.PREV.MA.ZS   </td><td>Prevalence of hypertension, male (% of male adults ages 30-79)                                                                    </td></tr>\n",
       "<tr><td>SH.HTN.PREV.ZS      </td><td>Prevalence of hypertension (% of adults ages 30-79)                                                                               </td></tr>\n",
       "<tr><td>SH.HTN.TRET.FE.ZS   </td><td>Treatment for hypertension, female (% of female adults ages 30-79 with hypertension)                                              </td></tr>\n",
       "<tr><td>SH.HTN.TRET.MA.ZS   </td><td>Treatment for hypertension, male (% of male adults ages 30-79 with hypertension)                                                  </td></tr>\n",
       "<tr><td>SH.HTN.TRET.ZS      </td><td>Treatment for hypertension (% of adults ages 30-79 with hypertension)                                                             </td></tr>\n",
       "<tr><td>SH.IMM.HEPB         </td><td>Immunization, HepB3 (% of one-year-old children)                                                                                  </td></tr>\n",
       "<tr><td>SH.IMM.HIB3         </td><td>Immunization, Hib3 (% of children ages 12-23 months)                                                                              </td></tr>\n",
       "<tr><td>SH.IMM.IBCG         </td><td>Immunization, BCG (% of one-year-old children)                                                                                    </td></tr>\n",
       "<tr><td>SH.IMM.IDPT         </td><td>Immunization, DPT (% of children ages 12-23 months)                                                                               </td></tr>\n",
       "<tr><td>SH.IMM.MEA2         </td><td>Immunization, measles second dose (% of children by the nationally recommended age)                                               </td></tr>\n",
       "<tr><td>SH.IMM.MEAS         </td><td>Immunization, measles (% of children ages 12-23 months)                                                                           </td></tr>\n",
       "<tr><td>SH.IMM.POL3         </td><td>Immunization, Pol3 (% of one-year-old children)                                                                                   </td></tr>\n",
       "<tr><td>SH.MED.BEDS.ZS      </td><td>Hospital beds (per 1,000 people)                                                                                                  </td></tr>\n",
       "<tr><td>SH.MED.CMHW.P3      </td><td>Community health workers (per 1,000 people)                                                                                       </td></tr>\n",
       "<tr><td>SH.MED.NUMW.P3      </td><td>Nurses and midwives (per 1,000 people)                                                                                            </td></tr>\n",
       "<tr><td>SH.MED.PHYS.ZS      </td><td>Physicians (per 1,000 people)                                                                                                     </td></tr>\n",
       "<tr><td>SH.MED.SAOP.P5      </td><td>Specialist surgical workforce (per 100,000 population)                                                                            </td></tr>\n",
       "<tr><td>SH.MLR.INCD.P3      </td><td>Incidence of malaria (per 1,000 population at risk)                                                                               </td></tr>\n",
       "<tr><td>SH.MLR.IPTP.ZS      </td><td>Intermittent preventive treatment (IPT) of malaria in pregnancy (% of pregnant women)                                             </td></tr>\n",
       "<tr><td>SH.MLR.NETS.ZS      </td><td>Use of insecticide-treated bed nets (% of under-5 population)                                                                     </td></tr>\n",
       "<tr><td>SH.MLR.TRET.ZS      </td><td>Children with fever receiving antimalarial drugs (% of children under age 5 with fever)                                           </td></tr>\n",
       "<tr><td>SH.MMR.DTHS         </td><td>Number of maternal deaths                                                                                                         </td></tr>\n",
       "<tr><td>SH.MMR.RISK         </td><td>Lifetime risk of maternal death (1 in: rate varies by country)                                                                    </td></tr>\n",
       "<tr><td>SH.MMR.RISK.ZS      </td><td>Lifetime risk of maternal death (%)                                                                                               </td></tr>\n",
       "<tr><td>SH.MMR.WAGE.ZS      </td><td>Maternal leave benefits (% of wages paid in covered period)                                                                       </td></tr>\n",
       "<tr><td>SH.PRG.ANEM         </td><td>Prevalence of anemia among pregnant women (%)                                                                                     </td></tr>\n",
       "<tr><td>SH.PRG.SYPH.ZS      </td><td>Prevalence of syphilis (% of women attending antenatal care)                                                                      </td></tr>\n",
       "<tr><td>SH.PRV.SMOK         </td><td>Prevalence of current tobacco use (% of adults)                                                                                   </td></tr>\n",
       "<tr><td>SH.PRV.SMOK.FE      </td><td>Prevalence of current tobacco use, females (% of female adults)                                                                   </td></tr>\n",
       "<tr><td>SH.PRV.SMOK.MA      </td><td>Prevalence of current tobacco use, males (% of male adults)                                                                       </td></tr>\n",
       "<tr><td>SH.SGR.CRSK.ZS      </td><td>Risk of catastrophic expenditure for surgical care (% of people at risk)                                                          </td></tr>\n",
       "<tr><td>SH.SGR.IRSK.ZS      </td><td>Risk of impoverishing expenditure for surgical care (% of people at risk)                                                         </td></tr>\n",
       "<tr><td>SH.SGR.PROC.P5      </td><td>Number of surgical procedures (per 100,000 population)                                                                            </td></tr>\n",
       "<tr><td>SH.STA.AIRP.FE.P5   </td><td>Mortality rate attributed to household and ambient air pollution, age-standardized, female (per 100,000 female population)        </td></tr>\n",
       "<tr><td>SH.STA.AIRP.MA.P5   </td><td>Mortality rate attributed to household and ambient air pollution, age-standardized, male (per 100,000 male population)            </td></tr>\n",
       "<tr><td>SH.STA.AIRP.P5      </td><td>Mortality rate attributed to household and ambient air pollution (per 100,000 population)                                         </td></tr>\n",
       "<tr><td>SH.STA.ANV4.ZS      </td><td>Pregnant women receiving prenatal care of at least four visits (% of pregnant women)                                              </td></tr>\n",
       "<tr><td>SH.STA.ANVC.ZS      </td><td>Pregnant women receiving prenatal care (%)                                                                                        </td></tr>\n",
       "<tr><td>SH.STA.ARIC.ZS      </td><td>ARI treatment (% of children under 5 taken to a health provider)                                                                  </td></tr>\n",
       "<tr><td>SH.STA.BASS.RU.ZS   </td><td>People using at least basic sanitation services, rural (% of rural population)                                                    </td></tr>\n",
       "<tr><td>SH.STA.BASS.UR.ZS   </td><td>People using at least basic sanitation services, urban  (% of urban population)                                                   </td></tr>\n",
       "<tr><td>SH.STA.BASS.ZS      </td><td>People using at least basic sanitation services (% of population)                                                                 </td></tr>\n",
       "<tr><td>SH.STA.BFED.ZS      </td><td>Exclusive breastfeeding (% of children under 6 months)                                                                            </td></tr>\n",
       "<tr><td>SH.STA.BRTC.ZS      </td><td>Births attended by skilled health staff (% of total)                                                                              </td></tr>\n",
       "<tr><td>SH.STA.BRTW.ZS      </td><td>Low-birthweight babies (% of births)                                                                                              </td></tr>\n",
       "<tr><td>SH.STA.DIAB.ZS      </td><td>Diabetes prevalence (% of population ages 20 to 79)                                                                               </td></tr>\n",
       "<tr><td>SH.STA.HYGN.RU.ZS   </td><td>People with basic handwashing facilities including soap and water, rural (% of rural population)                                  </td></tr>\n",
       "<tr><td>SH.STA.HYGN.UR.ZS   </td><td>People with basic handwashing facilities including soap and water, urban (% of urban population)                                  </td></tr>\n",
       "<tr><td>SH.STA.HYGN.ZS      </td><td>People with basic handwashing facilities including soap and water (% of population)                                               </td></tr>\n",
       "<tr><td>SH.STA.IYCF.ZS      </td><td>Infant and young child feeding practices, all 3 IYCF (% children ages 6-23 months)                                                </td></tr>\n",
       "<tr><td>SH.STA.MALN.FE.ZS   </td><td>Prevalence of underweight, weight for age, female (% of children under 5)                                                         </td></tr>\n",
       "<tr><td>SH.STA.MALN.MA.ZS   </td><td>Prevalence of underweight, weight for age, male (% of children under 5)                                                           </td></tr>\n",
       "<tr><td>SH.STA.MALN.ZS      </td><td>Prevalence of underweight, weight for age (% of children under 5)                                                                 </td></tr>\n",
       "<tr><td>SH.STA.MALR         </td><td>Malaria cases reported                                                                                                            </td></tr>\n",
       "<tr><td>SH.STA.MMRT         </td><td>Maternal mortality ratio (modeled estimate, per 100,000 live births)                                                              </td></tr>\n",
       "<tr><td>SH.STA.MMRT.NE      </td><td>Maternal mortality ratio (national estimate, per 100,000 live births)                                                             </td></tr>\n",
       "<tr><td>SH.STA.ODFC.RU.ZS   </td><td>People practicing open defecation, rural (% of rural population)                                                                  </td></tr>\n",
       "<tr><td>SH.STA.ODFC.UR.ZS   </td><td>People practicing open defecation, urban (% of urban population)                                                                  </td></tr>\n",
       "<tr><td>SH.STA.ODFC.ZS      </td><td>People practicing open defecation (% of population)                                                                               </td></tr>\n",
       "<tr><td>SH.STA.ORCF.ZS      </td><td>Diarrhea treatment (% of children under 5 receiving oral rehydration and continued feeding)                                       </td></tr>\n",
       "<tr><td>SH.STA.ORTH         </td><td>Diarrhea treatment (% of children under 5 who received ORS packet)                                                                </td></tr>\n",
       "<tr><td>SH.STA.OWAD.FE.ZS   </td><td>Prevalence of overweight, female (% of female adults)                                                                             </td></tr>\n",
       "<tr><td>SH.STA.OWAD.MA.ZS   </td><td>Prevalence of overweight, male (% of male adults)                                                                                 </td></tr>\n",
       "<tr><td>SH.STA.OWAD.ZS      </td><td>Prevalence of overweight (% of adults)                                                                                            </td></tr>\n",
       "<tr><td>SH.STA.OWGH.FE.ZS   </td><td>Prevalence of overweight, female (% of children under 5)                                                                          </td></tr>\n",
       "<tr><td>SH.STA.OWGH.MA.ZS   </td><td>Prevalence of overweight, male (% of children under 5)                                                                            </td></tr>\n",
       "<tr><td>SH.STA.OWGH.ME.ZS   </td><td>Prevalence of overweight (modeled estimate, % of children under 5)                                                                </td></tr>\n",
       "<tr><td>SH.STA.OWGH.ZS      </td><td>Prevalence of overweight (% of children under 5)                                                                                  </td></tr>\n",
       "<tr><td>SH.STA.PNVC.ZS      </td><td>Postnatal care coverage (% mothers)                                                                                               </td></tr>\n",
       "<tr><td>SH.STA.POIS.P5      </td><td>Mortality rate attributed to unintentional poisoning (per 100,000 population)                                                     </td></tr>\n",
       "<tr><td>SH.STA.POIS.P5.FE   </td><td>Mortality rate attributed to unintentional poisoning, female (per 100,000 female population)                                      </td></tr>\n",
       "<tr><td>SH.STA.POIS.P5.MA   </td><td>Mortality rate attributed to unintentional poisoning, male (per 100,000 male population)                                          </td></tr>\n",
       "<tr><td>SH.STA.SMSS.RU.ZS   </td><td>People using safely managed sanitation services, rural (% of rural population)                                                    </td></tr>\n",
       "<tr><td>SH.STA.SMSS.UR.ZS   </td><td>People using safely managed sanitation services, urban  (% of urban population)                                                   </td></tr>\n",
       "<tr><td>SH.STA.SMSS.ZS      </td><td>People using safely managed sanitation services (% of population)                                                                 </td></tr>\n",
       "<tr><td>SH.STA.STNT.FE.ZS   </td><td>Prevalence of stunting, height for age, female (% of children under 5)                                                            </td></tr>\n",
       "<tr><td>SH.STA.STNT.MA.ZS   </td><td>Prevalence of stunting, height for age, male (% of children under 5)                                                              </td></tr>\n",
       "<tr><td>SH.STA.STNT.ME.ZS   </td><td>Prevalence of stunting, height for age (modeled estimate, % of children under 5)                                                  </td></tr>\n",
       "<tr><td>SH.STA.STNT.ZS      </td><td>Prevalence of stunting, height for age (% of children under 5)                                                                    </td></tr>\n",
       "<tr><td>SH.STA.SUIC.FE.P5   </td><td>Suicide mortality rate, female (per 100,000 female population)                                                                    </td></tr>\n",
       "<tr><td>SH.STA.SUIC.MA.P5   </td><td>Suicide mortality rate, male (per 100,000 male population)                                                                        </td></tr>\n",
       "<tr><td>SH.STA.SUIC.P5      </td><td>Suicide mortality rate (per 100,000 population)                                                                                   </td></tr>\n",
       "<tr><td>SH.STA.TRAF.FE.P5   </td><td>Mortality caused by road traffic injury, female (per 100,000 female population)                                                   </td></tr>\n",
       "<tr><td>SH.STA.TRAF.MA.P5   </td><td>Mortality caused by road traffic injury, male (per 100,000 male population)                                                       </td></tr>\n",
       "<tr><td>SH.STA.TRAF.P5      </td><td>Mortality caused by road traffic injury (per 100,000 people)                                                                      </td></tr>\n",
       "<tr><td>SH.STA.WASH.FE.P5   </td><td>Mortality rate attributed to unsafe water, unsafe sanitation and lack of hygiene, female (per 100,000 female population)          </td></tr>\n",
       "<tr><td>SH.STA.WASH.MA.P5   </td><td>Mortality rate attributed to unsafe water, unsafe sanitation and lack of hygiene, male (per 100,000 male population)              </td></tr>\n",
       "<tr><td>SH.STA.WASH.P5      </td><td>Mortality rate attributed to unsafe water, unsafe sanitation and lack of hygiene (per 100,000 population)                         </td></tr>\n",
       "<tr><td>SH.STA.WAST.FE.ZS   </td><td>Prevalence of wasting, weight for height, female (% of children under 5)                                                          </td></tr>\n",
       "<tr><td>SH.STA.WAST.MA.ZS   </td><td>Prevalence of wasting, weight for height, male (% of children under 5)                                                            </td></tr>\n",
       "<tr><td>SH.STA.WAST.ZS      </td><td>Prevalence of wasting, weight for height (% of children under 5)                                                                  </td></tr>\n",
       "<tr><td>SH.SVR.WAST.FE.ZS   </td><td>Prevalence of severe wasting, weight for height, female (% of children under 5)                                                   </td></tr>\n",
       "<tr><td>SH.SVR.WAST.MA.ZS   </td><td>Prevalence of severe wasting, weight for height, male (% of children under 5)                                                     </td></tr>\n",
       "<tr><td>SH.SVR.WAST.ZS      </td><td>Prevalence of severe wasting, weight for height (% of children under 5)                                                           </td></tr>\n",
       "<tr><td>SH.TBS.CURE.ZS      </td><td>Tuberculosis treatment success rate (% of new cases)                                                                              </td></tr>\n",
       "<tr><td>SH.TBS.DTEC.ZS      </td><td>Tuberculosis case detection rate (%, all forms)                                                                                   </td></tr>\n",
       "<tr><td>SH.TBS.INCD         </td><td>Incidence of tuberculosis (per 100,000 people)                                                                                    </td></tr>\n",
       "<tr><td>SH.TBS.MORT         </td><td>Tuberculosis death rate (per 100,000 people)                                                                                      </td></tr>\n",
       "<tr><td>SH.UHC.FBP1.TO      </td><td>Number of people pushed further below the $1.90 ($ 2011 PPP) poverty line by out-of-pocket health care expenditure                </td></tr>\n",
       "<tr><td>SH.UHC.FBP1.ZS      </td><td>Proportion of population pushed further below the $1.90 ($ 2011 PPP) poverty line by out-of-pocket health care expenditure (%)    </td></tr>\n",
       "<tr><td>SH.UHC.FBP2.TO      </td><td>Number of people pushed further below the $3.20 ($ 2011 PPP) poverty line by out-of-pocket health care expenditure                </td></tr>\n",
       "<tr><td>SH.UHC.FBP2.ZS      </td><td>Proportion of population pushed further below the $3.20 ($ 2011 PPP) poverty line by out-of-pocket health care expenditure (%)    </td></tr>\n",
       "<tr><td>SH.UHC.FBPR.TO      </td><td>Number of people pushed further below the 60% median consumption poverty line by out-of-pocket health care expenditure            </td></tr>\n",
       "<tr><td>SH.UHC.FBPR.ZS      </td><td>Proportion of population pushed further below the 60% median consumption poverty line by out-of-pocket health care expenditure (%)</td></tr>\n",
       "<tr><td>SH.UHC.NOP1.TO      </td><td>Number of people pushed below the $1.90 ($ 2011 PPP) poverty line by out-of-pocket health care expenditure                        </td></tr>\n",
       "<tr><td>SH.UHC.NOP1.ZS      </td><td>Proportion of population pushed below the $1.90 ($ 2011 PPP) poverty line by out-of-pocket health care expenditure (%)            </td></tr>\n",
       "<tr><td>SH.UHC.NOP2.TO      </td><td>Number of people pushed below the $3.20 ($ 2011 PPP) poverty line by out-of-pocket health care expenditure                        </td></tr>\n",
       "<tr><td>SH.UHC.NOP2.ZS      </td><td>Proportion of population pushed below the $3.20 ($ 2011 PPP) poverty line by out-of-pocket health care expenditure (%)            </td></tr>\n",
       "<tr><td>SH.UHC.NOPR.TO      </td><td>Number of people pushed below the 60% median consumption poverty line by out-of-pocket health care expenditure                    </td></tr>\n",
       "<tr><td>SH.UHC.NOPR.ZS      </td><td>Proportion of population pushed below the 60% median consumption poverty line by out-of-pocket health expenditure (%)             </td></tr>\n",
       "<tr><td>SH.UHC.OOPC.10.TO   </td><td>Number of people spending more than 10% of household consumption or income on out-of-pocket health care expenditure               </td></tr>\n",
       "<tr><td>SH.UHC.OOPC.10.ZS   </td><td>Proportion of population spending more than 10% of household consumption or income on out-of-pocket health care expenditure (%)   </td></tr>\n",
       "<tr><td>SH.UHC.OOPC.25.TO   </td><td>Number of people spending more than 25% of household consumption or income on out-of-pocket health care expenditure               </td></tr>\n",
       "<tr><td>SH.UHC.OOPC.25.ZS   </td><td>Proportion of population spending more than 25% of household consumption or income on out-of-pocket health care expenditure (%)   </td></tr>\n",
       "<tr><td>SH.UHC.SRVS.CV.XD   </td><td>UHC service coverage index                                                                                                        </td></tr>\n",
       "<tr><td>SH.VAC.TTNS.ZS      </td><td>Newborns protected against tetanus (%)                                                                                            </td></tr>\n",
       "<tr><td>SH.XPD.CHEX.GD.ZS   </td><td>Current health expenditure (% of GDP)                                                                                             </td></tr>\n",
       "<tr><td>SH.XPD.CHEX.PC.CD   </td><td>Current health expenditure per capita (current US$)                                                                               </td></tr>\n",
       "<tr><td>SH.XPD.CHEX.PP.CD   </td><td>Current health expenditure per capita, PPP (current international $)                                                              </td></tr>\n",
       "<tr><td>SH.XPD.EHEX.CH.ZS   </td><td>External health expenditure (% of current health expenditure)                                                                     </td></tr>\n",
       "<tr><td>SH.XPD.EHEX.EH.ZS   </td><td>External health expenditure channeled through government (% of external health expenditure)                                       </td></tr>\n",
       "<tr><td>SH.XPD.EHEX.PC.CD   </td><td>External health expenditure per capita (current US$)                                                                              </td></tr>\n",
       "<tr><td>SH.XPD.EHEX.PP.CD   </td><td>External health expenditure per capita, PPP (current international $)                                                             </td></tr>\n",
       "<tr><td>SH.XPD.GHED.CH.ZS   </td><td>Domestic general government health expenditure (% of current health expenditure)                                                  </td></tr>\n",
       "<tr><td>SH.XPD.GHED.GD.ZS   </td><td>Domestic general government health expenditure (% of GDP)                                                                         </td></tr>\n",
       "<tr><td>SH.XPD.GHED.GE.ZS   </td><td>Domestic general government health expenditure (% of general government expenditure)                                              </td></tr>\n",
       "<tr><td>SH.XPD.GHED.PC.CD   </td><td>Domestic general government health expenditure per capita (current US$)                                                           </td></tr>\n",
       "<tr><td>SH.XPD.GHED.PP.CD   </td><td>Domestic general government health expenditure per capita, PPP (current international $)                                          </td></tr>\n",
       "<tr><td>SH.XPD.KHEX.GD.ZS   </td><td>Capital health expenditure (% of GDP)                                                                                             </td></tr>\n",
       "<tr><td>SH.XPD.OOPC.CH.ZS   </td><td>Out-of-pocket expenditure (% of current health expenditure)                                                                       </td></tr>\n",
       "<tr><td>SH.XPD.OOPC.PC.CD   </td><td>Out-of-pocket expenditure per capita (current US$)                                                                                </td></tr>\n",
       "<tr><td>SH.XPD.OOPC.PP.CD   </td><td>Out-of-pocket expenditure per capita, PPP (current international $)                                                               </td></tr>\n",
       "<tr><td>SH.XPD.PVTD.CH.ZS   </td><td>Domestic private health expenditure (% of current health expenditure)                                                             </td></tr>\n",
       "<tr><td>SH.XPD.PVTD.PC.CD   </td><td>Domestic private health expenditure per capita (current US$)                                                                      </td></tr>\n",
       "<tr><td>SH.XPD.PVTD.PP.CD   </td><td>Domestic private health expenditure per capita, PPP  (current international $)                                                    </td></tr>\n",
       "<tr><td>SI.POV.NAHC         </td><td>Poverty headcount ratio at national poverty line (% of population)                                                                </td></tr>\n",
       "<tr><td>SI.POV.RUHC         </td><td>Rural poverty headcount ratio at national poverty lines (% of rural population)                                                   </td></tr>\n",
       "<tr><td>SI.POV.URHC         </td><td>Urban poverty headcount ratio at national poverty lines (% of urban population)                                                   </td></tr>\n",
       "<tr><td>SL.EMP.INSV.FE.ZS   </td><td>Share of women employed in the nonagricultural sector (% of total nonagricultural employment)                                     </td></tr>\n",
       "<tr><td>SL.TLF.TOTL.FE.ZS   </td><td>Labor force, female (% of total labor force)                                                                                      </td></tr>\n",
       "<tr><td>SL.TLF.TOTL.IN      </td><td>Labor force, total                                                                                                                </td></tr>\n",
       "<tr><td>SL.UEM.TOTL.FE.ZS   </td><td>Unemployment, female (% of female labor force)                                                                                    </td></tr>\n",
       "<tr><td>SL.UEM.TOTL.MA.ZS   </td><td>Unemployment, male (% of male labor force)                                                                                        </td></tr>\n",
       "<tr><td>SL.UEM.TOTL.ZS      </td><td>Unemployment, total (% of total labor force)                                                                                      </td></tr>\n",
       "<tr><td>SM.POP.NETM         </td><td>Net migration                                                                                                                     </td></tr>\n",
       "<tr><td>SN.ITK.DEFC         </td><td>Number of people who are undernourished                                                                                           </td></tr>\n",
       "<tr><td>SN.ITK.DEFC.ZS      </td><td>Prevalence of undernourishment (% of population)                                                                                  </td></tr>\n",
       "<tr><td>SN.ITK.SALT.ZS      </td><td>Consumption of iodized salt (% of households)                                                                                     </td></tr>\n",
       "<tr><td>SN.ITK.VITA.ZS      </td><td>Vitamin A supplementation coverage rate (% of children ages 6-59 months)                                                          </td></tr>\n",
       "<tr><td>SP.ADO.TFRT         </td><td>Adolescent fertility rate (births per 1,000 women ages 15-19)                                                                     </td></tr>\n",
       "<tr><td>SP.DYN.AMRT.FE      </td><td>Mortality rate, adult, female (per 1,000 female adults)                                                                           </td></tr>\n",
       "<tr><td>SP.DYN.AMRT.MA      </td><td>Mortality rate, adult, male (per 1,000 male adults)                                                                               </td></tr>\n",
       "<tr><td>SP.DYN.CBRT.IN      </td><td>Birth rate, crude (per 1,000 people)                                                                                              </td></tr>\n",
       "<tr><td>SP.DYN.CDRT.IN      </td><td>Death rate, crude (per 1,000 people)                                                                                              </td></tr>\n",
       "<tr><td>SP.DYN.CONM.SA.ZS   </td><td>Contraceptive prevalence, any modern method (% of sexually active unmarried women ages 15-49)                                     </td></tr>\n",
       "<tr><td>SP.DYN.CONM.ZS      </td><td>Contraceptive prevalence, any modern method (% of married women ages 15-49)                                                       </td></tr>\n",
       "<tr><td>SP.DYN.CONU.SA.ZS   </td><td>Contraceptive prevalence, any method (% of sexually active unmarried women ages 15-49)                                            </td></tr>\n",
       "<tr><td>SP.DYN.CONU.ZS      </td><td>Contraceptive prevalence, any method (% of married women ages 15-49)                                                              </td></tr>\n",
       "<tr><td>SP.DYN.IMRT.FE.IN   </td><td>Mortality rate, infant, female (per 1,000 live births)                                                                            </td></tr>\n",
       "<tr><td>SP.DYN.IMRT.IN      </td><td>Mortality rate, infant (per 1,000 live births)                                                                                    </td></tr>\n",
       "<tr><td>SP.DYN.IMRT.MA.IN   </td><td>Mortality rate, infant, male (per 1,000 live births)                                                                              </td></tr>\n",
       "<tr><td>SP.DYN.LE00.FE.IN   </td><td>Life expectancy at birth, female (years)                                                                                          </td></tr>\n",
       "<tr><td>SP.DYN.LE00.IN      </td><td>Life expectancy at birth, total (years)                                                                                           </td></tr>\n",
       "<tr><td>SP.DYN.LE00.MA.IN   </td><td>Life expectancy at birth, male (years)                                                                                            </td></tr>\n",
       "<tr><td>SP.DYN.SMAM.FE      </td><td>Age at first marriage, female                                                                                                     </td></tr>\n",
       "<tr><td>SP.DYN.SMAM.MA      </td><td>Age at first marriage, male                                                                                                       </td></tr>\n",
       "<tr><td>SP.DYN.TFRT.IN      </td><td>Fertility rate, total (births per woman)                                                                                          </td></tr>\n",
       "<tr><td>SP.DYN.TO65.FE.ZS   </td><td>Survival to age 65, female (% of cohort)                                                                                          </td></tr>\n",
       "<tr><td>SP.DYN.TO65.MA.ZS   </td><td>Survival to age 65, male (% of cohort)                                                                                            </td></tr>\n",
       "<tr><td>SP.DYN.WFRT         </td><td>Wanted fertility rate (births per woman)                                                                                          </td></tr>\n",
       "<tr><td>SP.HOU.FEMA.ZS      </td><td>Female headed households (% of households with a female head)                                                                     </td></tr>\n",
       "<tr><td>SP.M15.2024.FE.ZS   </td><td>Women who were first married by age 15 (% of women ages 20-24)                                                                    </td></tr>\n",
       "<tr><td>SP.M18.2024.FE.ZS   </td><td>Women who were first married by age 18 (% of women ages 20-24)                                                                    </td></tr>\n",
       "<tr><td>SP.MTR.1519.ZS      </td><td>Teenage mothers (% of women ages 15-19 who have had children or are currently pregnant)                                           </td></tr>\n",
       "<tr><td>SP.POP.0004.FE      </td><td>Population ages 00-04, female                                                                                                     </td></tr>\n",
       "<tr><td>SP.POP.0004.FE.5Y   </td><td>Population ages 00-04, female (% of female population)                                                                            </td></tr>\n",
       "<tr><td>SP.POP.0004.MA      </td><td>Population ages 00-04, male                                                                                                       </td></tr>\n",
       "<tr><td>SP.POP.0004.MA.5Y   </td><td>Population ages 00-04, male (% of male population)                                                                                </td></tr>\n",
       "<tr><td>SP.POP.0014.FE.IN   </td><td>Population ages 0-14, female                                                                                                      </td></tr>\n",
       "<tr><td>SP.POP.0014.FE.ZS   </td><td>Population ages 0-14, female (% of female population)                                                                             </td></tr>\n",
       "<tr><td>SP.POP.0014.MA.IN   </td><td>Population ages 0-14, male                                                                                                        </td></tr>\n",
       "<tr><td>SP.POP.0014.MA.ZS   </td><td>Population ages 0-14, male (% of male population)                                                                                 </td></tr>\n",
       "<tr><td>SP.POP.0014.TO      </td><td>Population ages 00-14, total                                                                                                      </td></tr>\n",
       "<tr><td>SP.POP.0014.TO.ZS   </td><td>Population ages 0-14 (% of total population)                                                                                      </td></tr>\n",
       "<tr><td>SP.POP.0509.FE      </td><td>Population ages 05-09, female                                                                                                     </td></tr>\n",
       "<tr><td>SP.POP.0509.FE.5Y   </td><td>Population ages 05-09, female (% of female population)                                                                            </td></tr>\n",
       "<tr><td>SP.POP.0509.MA      </td><td>Population ages 05-09, male                                                                                                       </td></tr>\n",
       "<tr><td>SP.POP.0509.MA.5Y   </td><td>Population ages 05-09, male (% of male population)                                                                                </td></tr>\n",
       "<tr><td>SP.POP.1014.FE      </td><td>Population ages 10-14, female                                                                                                     </td></tr>\n",
       "<tr><td>SP.POP.1014.FE.5Y   </td><td>Population ages 10-14, female (% of female population)                                                                            </td></tr>\n",
       "<tr><td>SP.POP.1014.MA      </td><td>Population ages 10-14, male                                                                                                       </td></tr>\n",
       "<tr><td>SP.POP.1014.MA.5Y   </td><td>Population ages 10-14, male (% of male population)                                                                                </td></tr>\n",
       "<tr><td>SP.POP.1519.FE      </td><td>Population ages 15-19, female                                                                                                     </td></tr>\n",
       "<tr><td>SP.POP.1519.FE.5Y   </td><td>Population ages 15-19, female (% of female population)                                                                            </td></tr>\n",
       "<tr><td>SP.POP.1519.MA      </td><td>Population ages 15-19, male                                                                                                       </td></tr>\n",
       "<tr><td>SP.POP.1519.MA.5Y   </td><td>Population ages 15-19, male (% of male population)                                                                                </td></tr>\n",
       "<tr><td>SP.POP.1564.FE.IN   </td><td>Population ages 15-64, female                                                                                                     </td></tr>\n",
       "<tr><td>SP.POP.1564.FE.ZS   </td><td>Population ages 15-64, female (% of female population)                                                                            </td></tr>\n",
       "<tr><td>SP.POP.1564.MA.IN   </td><td>Population ages 15-64, male                                                                                                       </td></tr>\n",
       "<tr><td>SP.POP.1564.MA.ZS   </td><td>Population ages 15-64, male (% of male population)                                                                                </td></tr>\n",
       "<tr><td>SP.POP.1564.TO      </td><td>Population ages 15-64, total                                                                                                      </td></tr>\n",
       "<tr><td>SP.POP.1564.TO.ZS   </td><td>Population ages 15-64 (% of total population)                                                                                     </td></tr>\n",
       "<tr><td>SP.POP.2024.FE      </td><td>Population ages 20-24, female                                                                                                     </td></tr>\n",
       "<tr><td>SP.POP.2024.FE.5Y   </td><td>Population ages 20-24, female (% of female population)                                                                            </td></tr>\n",
       "<tr><td>SP.POP.2024.MA      </td><td>Population ages 20-24, male                                                                                                       </td></tr>\n",
       "<tr><td>SP.POP.2024.MA.5Y   </td><td>Population ages 20-24, male (% of male population)                                                                                </td></tr>\n",
       "<tr><td>SP.POP.2529.FE      </td><td>Population ages 25-29, female                                                                                                     </td></tr>\n",
       "<tr><td>SP.POP.2529.FE.5Y   </td><td>Population ages 25-29, female (% of female population)                                                                            </td></tr>\n",
       "<tr><td>SP.POP.2529.MA      </td><td>Population ages 25-29, male                                                                                                       </td></tr>\n",
       "<tr><td>SP.POP.2529.MA.5Y   </td><td>Population ages 25-29, male (% of male population)                                                                                </td></tr>\n",
       "<tr><td>SP.POP.3034.FE      </td><td>Population ages 30-34, female                                                                                                     </td></tr>\n",
       "<tr><td>SP.POP.3034.FE.5Y   </td><td>Population ages 30-34, female (% of female population)                                                                            </td></tr>\n",
       "<tr><td>SP.POP.3034.MA      </td><td>Population ages 30-34, male                                                                                                       </td></tr>\n",
       "<tr><td>SP.POP.3034.MA.5Y   </td><td>Population ages 30-34, male (% of male population)                                                                                </td></tr>\n",
       "<tr><td>SP.POP.3539.FE      </td><td>Population ages 35-39, female                                                                                                     </td></tr>\n",
       "<tr><td>SP.POP.3539.FE.5Y   </td><td>Population ages 35-39, female (% of female population)                                                                            </td></tr>\n",
       "<tr><td>SP.POP.3539.MA      </td><td>Population ages 35-39, male                                                                                                       </td></tr>\n",
       "<tr><td>SP.POP.3539.MA.5Y   </td><td>Population ages 35-39, male (% of male population)                                                                                </td></tr>\n",
       "<tr><td>SP.POP.4044.FE      </td><td>Population ages 40-44, female                                                                                                     </td></tr>\n",
       "<tr><td>SP.POP.4044.FE.5Y   </td><td>Population ages 40-44, female (% of female population)                                                                            </td></tr>\n",
       "<tr><td>SP.POP.4044.MA      </td><td>Population ages 40-44, male                                                                                                       </td></tr>\n",
       "<tr><td>SP.POP.4044.MA.5Y   </td><td>Population ages 40-44, male (% of male population)                                                                                </td></tr>\n",
       "<tr><td>SP.POP.4549.FE      </td><td>Population ages 45-49, female                                                                                                     </td></tr>\n",
       "<tr><td>SP.POP.4549.FE.5Y   </td><td>Population ages 45-49, female (% of female population)                                                                            </td></tr>\n",
       "<tr><td>SP.POP.4549.MA      </td><td>Population ages 45-49, male                                                                                                       </td></tr>\n",
       "<tr><td>SP.POP.4549.MA.5Y   </td><td>Population ages 45-49, male (% of male population)                                                                                </td></tr>\n",
       "<tr><td>SP.POP.5054.FE      </td><td>Population ages 50-54, female                                                                                                     </td></tr>\n",
       "<tr><td>SP.POP.5054.FE.5Y   </td><td>Population ages 50-54, female (% of female population)                                                                            </td></tr>\n",
       "<tr><td>SP.POP.5054.MA      </td><td>Population ages 50-54, male                                                                                                       </td></tr>\n",
       "<tr><td>SP.POP.5054.MA.5Y   </td><td>Population ages 50-54, male (% of male population)                                                                                </td></tr>\n",
       "<tr><td>SP.POP.5559.FE      </td><td>Population ages 55-59, female                                                                                                     </td></tr>\n",
       "<tr><td>SP.POP.5559.FE.5Y   </td><td>Population ages 55-59, female (% of female population)                                                                            </td></tr>\n",
       "<tr><td>SP.POP.5559.MA      </td><td>Population ages 55-59, male                                                                                                       </td></tr>\n",
       "<tr><td>SP.POP.5559.MA.5Y   </td><td>Population ages 55-59, male (% of male population)                                                                                </td></tr>\n",
       "<tr><td>SP.POP.6064.FE      </td><td>Population ages 60-64, female                                                                                                     </td></tr>\n",
       "<tr><td>SP.POP.6064.FE.5Y   </td><td>Population ages 60-64, female (% of female population)                                                                            </td></tr>\n",
       "<tr><td>SP.POP.6064.MA      </td><td>Population ages 60-64, male                                                                                                       </td></tr>\n",
       "<tr><td>SP.POP.6064.MA.5Y   </td><td>Population ages 60-64, male (% of male population)                                                                                </td></tr>\n",
       "<tr><td>SP.POP.6569.FE      </td><td>Population ages 65-69, female                                                                                                     </td></tr>\n",
       "<tr><td>SP.POP.6569.FE.5Y   </td><td>Population ages 65-69, female (% of female population)                                                                            </td></tr>\n",
       "<tr><td>SP.POP.6569.MA      </td><td>Population ages 65-69, male                                                                                                       </td></tr>\n",
       "<tr><td>SP.POP.6569.MA.5Y   </td><td>Population ages 65-69, male (% of male population)                                                                                </td></tr>\n",
       "<tr><td>SP.POP.65UP.FE.IN   </td><td>Population ages 65 and above, female                                                                                              </td></tr>\n",
       "<tr><td>SP.POP.65UP.FE.ZS   </td><td>Population ages 65 and above, female (% of female population)                                                                     </td></tr>\n",
       "<tr><td>SP.POP.65UP.MA.IN   </td><td>Population ages 65 and above, male                                                                                                </td></tr>\n",
       "<tr><td>SP.POP.65UP.MA.ZS   </td><td>Population ages 65 and above, male (% of male population)                                                                         </td></tr>\n",
       "<tr><td>SP.POP.65UP.TO      </td><td>Population ages 65 and above, total                                                                                               </td></tr>\n",
       "<tr><td>SP.POP.65UP.TO.ZS   </td><td>Population ages 65 and above (% of total population)                                                                              </td></tr>\n",
       "<tr><td>SP.POP.7074.FE      </td><td>Population ages 70-74, female                                                                                                     </td></tr>\n",
       "<tr><td>SP.POP.7074.FE.5Y   </td><td>Population ages 70-74, female (% of female population)                                                                            </td></tr>\n",
       "<tr><td>SP.POP.7074.MA      </td><td>Population ages 70-74, male                                                                                                       </td></tr>\n",
       "<tr><td>SP.POP.7074.MA.5Y   </td><td>Population ages 70-74, male (% of male population)                                                                                </td></tr>\n",
       "<tr><td>SP.POP.7579.FE      </td><td>Population ages 75-79, female                                                                                                     </td></tr>\n",
       "<tr><td>SP.POP.7579.FE.5Y   </td><td>Population ages 75-79, female (% of female population)                                                                            </td></tr>\n",
       "<tr><td>SP.POP.7579.MA      </td><td>Population ages 75-79, male                                                                                                       </td></tr>\n",
       "<tr><td>SP.POP.7579.MA.5Y   </td><td>Population ages 75-79, male (% of male population)                                                                                </td></tr>\n",
       "<tr><td>SP.POP.80UP.FE      </td><td>Population ages 80 and above, female                                                                                              </td></tr>\n",
       "<tr><td>SP.POP.80UP.FE.5Y   </td><td>Population ages 80 and older, female (% of female population)                                                                     </td></tr>\n",
       "<tr><td>SP.POP.80UP.MA      </td><td>Population ages 80 and above, male                                                                                                </td></tr>\n",
       "<tr><td>SP.POP.80UP.MA.5Y   </td><td>Population ages 80 and above, male (% of male population)                                                                         </td></tr>\n",
       "<tr><td>SP.POP.AG00.FE.IN   </td><td>Age population, age 00, female, interpolated                                                                                      </td></tr>\n",
       "<tr><td>SP.POP.AG00.MA.IN   </td><td>Age population, age 00, male, interpolated                                                                                        </td></tr>\n",
       "<tr><td>SP.POP.AG01.FE.IN   </td><td>Age population, age 01, female, interpolated                                                                                      </td></tr>\n",
       "<tr><td>SP.POP.AG01.MA.IN   </td><td>Age population, age 01, male, interpolated                                                                                        </td></tr>\n",
       "<tr><td>SP.POP.AG02.FE.IN   </td><td>Age population, age 02, female, interpolated                                                                                      </td></tr>\n",
       "<tr><td>SP.POP.AG02.MA.IN   </td><td>Age population, age 02, male, interpolated                                                                                        </td></tr>\n",
       "<tr><td>SP.POP.AG03.FE.IN   </td><td>Age population, age 03, female, interpolated                                                                                      </td></tr>\n",
       "<tr><td>SP.POP.AG03.MA.IN   </td><td>Age population, age 03, male, interpolated                                                                                        </td></tr>\n",
       "<tr><td>SP.POP.AG04.FE.IN   </td><td>Age population, age 04, female, interpolated                                                                                      </td></tr>\n",
       "<tr><td>SP.POP.AG04.MA.IN   </td><td>Age population, age 04, male, interpolated                                                                                        </td></tr>\n",
       "<tr><td>SP.POP.AG05.FE.IN   </td><td>Age population, age 05, female, interpolated                                                                                      </td></tr>\n",
       "<tr><td>SP.POP.AG05.MA.IN   </td><td>Age population, age 05, male, interpolated                                                                                        </td></tr>\n",
       "<tr><td>SP.POP.AG06.FE.IN   </td><td>Age population, age 06, female, interpolated                                                                                      </td></tr>\n",
       "<tr><td>SP.POP.AG06.MA.IN   </td><td>Age population, age 06, male, interpolated                                                                                        </td></tr>\n",
       "<tr><td>SP.POP.AG07.FE.IN   </td><td>Age population, age 07, female, interpolated                                                                                      </td></tr>\n",
       "<tr><td>SP.POP.AG07.MA.IN   </td><td>Age population, age 07, male, interpolated                                                                                        </td></tr>\n",
       "<tr><td>SP.POP.AG08.FE.IN   </td><td>Age population, age 08, female, interpolated                                                                                      </td></tr>\n",
       "<tr><td>SP.POP.AG08.MA.IN   </td><td>Age population, age 08, male, interpolated                                                                                        </td></tr>\n",
       "<tr><td>SP.POP.AG09.FE.IN   </td><td>Age population, age 09, female, interpolated                                                                                      </td></tr>\n",
       "<tr><td>SP.POP.AG09.MA.IN   </td><td>Age population, age 09, male, interpolated                                                                                        </td></tr>\n",
       "<tr><td>SP.POP.AG10.FE.IN   </td><td>Age population, age 10, female, interpolated                                                                                      </td></tr>\n",
       "<tr><td>SP.POP.AG10.MA.IN   </td><td>Age population, age 10, male, interpolated                                                                                        </td></tr>\n",
       "<tr><td>SP.POP.AG11.FE.IN   </td><td>Age population, age 11, female, interpolated                                                                                      </td></tr>\n",
       "<tr><td>SP.POP.AG11.MA.IN   </td><td>Age population, age 11, male, interpolated                                                                                        </td></tr>\n",
       "<tr><td>SP.POP.AG12.FE.IN   </td><td>Age population, age 12, female, interpolated                                                                                      </td></tr>\n",
       "<tr><td>SP.POP.AG12.MA.IN   </td><td>Age population, age 12, male, interpolated                                                                                        </td></tr>\n",
       "<tr><td>SP.POP.AG13.FE.IN   </td><td>Age population, age 13, female, interpolated                                                                                      </td></tr>\n",
       "<tr><td>SP.POP.AG13.MA.IN   </td><td>Age population, age 13, male, interpolated                                                                                        </td></tr>\n",
       "<tr><td>SP.POP.AG14.FE.IN   </td><td>Age population, age 14, female, interpolated                                                                                      </td></tr>\n",
       "<tr><td>SP.POP.AG14.MA.IN   </td><td>Age population, age 14, male, interpolated                                                                                        </td></tr>\n",
       "<tr><td>SP.POP.AG15.FE.IN   </td><td>Age population, age 15, female, interpolated                                                                                      </td></tr>\n",
       "<tr><td>SP.POP.AG15.MA.IN   </td><td>Age population, age 15, male, interpolated                                                                                        </td></tr>\n",
       "<tr><td>SP.POP.AG16.FE.IN   </td><td>Age population, age 16, female, interpolated                                                                                      </td></tr>\n",
       "<tr><td>SP.POP.AG16.MA.IN   </td><td>Age population, age 16, male, interpolated                                                                                        </td></tr>\n",
       "<tr><td>SP.POP.AG17.FE.IN   </td><td>Age population, age 17, female, interpolated                                                                                      </td></tr>\n",
       "<tr><td>SP.POP.AG17.MA.IN   </td><td>Age population, age 17, male, interpolated                                                                                        </td></tr>\n",
       "<tr><td>SP.POP.AG18.FE.IN   </td><td>Age population, age 18, female, interpolated                                                                                      </td></tr>\n",
       "<tr><td>SP.POP.AG18.MA.IN   </td><td>Age population, age 18, male, interpolated                                                                                        </td></tr>\n",
       "<tr><td>SP.POP.AG19.FE.IN   </td><td>Age population, age 19, female, interpolated                                                                                      </td></tr>\n",
       "<tr><td>SP.POP.AG19.MA.IN   </td><td>Age population, age 19, male, interpolated                                                                                        </td></tr>\n",
       "<tr><td>SP.POP.AG20.FE.IN   </td><td>Age population, age 20, female, interpolated                                                                                      </td></tr>\n",
       "<tr><td>SP.POP.AG20.MA.IN   </td><td>Age population, age 20, male, interpolated                                                                                        </td></tr>\n",
       "<tr><td>SP.POP.AG21.FE.IN   </td><td>Age population, age 21, female, interpolated                                                                                      </td></tr>\n",
       "<tr><td>SP.POP.AG21.MA.IN   </td><td>Age population, age 21, male, interpolated                                                                                        </td></tr>\n",
       "<tr><td>SP.POP.AG22.FE.IN   </td><td>Age population, age 22, female, interpolated                                                                                      </td></tr>\n",
       "<tr><td>SP.POP.AG22.MA.IN   </td><td>Age population, age 22, male, interpolated                                                                                        </td></tr>\n",
       "<tr><td>SP.POP.AG23.FE.IN   </td><td>Age population, age 23, female, interpolated                                                                                      </td></tr>\n",
       "<tr><td>SP.POP.AG23.MA.IN   </td><td>Age population, age 23, male, interpolated                                                                                        </td></tr>\n",
       "<tr><td>SP.POP.AG24.FE.IN   </td><td>Age population, age 24, female, interpolated                                                                                      </td></tr>\n",
       "<tr><td>SP.POP.AG24.MA.IN   </td><td>Age population, age 24, male, interpolated                                                                                        </td></tr>\n",
       "<tr><td>SP.POP.AG25.FE.IN   </td><td>Age population, age 25, female, interpolated                                                                                      </td></tr>\n",
       "<tr><td>SP.POP.AG25.MA.IN   </td><td>Age population, age 25, male, interpolated                                                                                        </td></tr>\n",
       "<tr><td>SP.POP.BRTH.MF      </td><td>Sex ratio at birth (male births per female births)                                                                                </td></tr>\n",
       "<tr><td>SP.POP.DPND         </td><td>Age dependency ratio (% of working-age population)                                                                                </td></tr>\n",
       "<tr><td>SP.POP.DPND.OL      </td><td>Age dependency ratio, old                                                                                                         </td></tr>\n",
       "<tr><td>SP.POP.DPND.YG      </td><td>Age dependency ratio, young                                                                                                       </td></tr>\n",
       "<tr><td>SP.POP.GROW         </td><td>Population growth (annual %)                                                                                                      </td></tr>\n",
       "<tr><td>SP.POP.TOTL         </td><td>Population, total                                                                                                                 </td></tr>\n",
       "<tr><td>SP.POP.TOTL.FE.IN   </td><td>Population, female                                                                                                                </td></tr>\n",
       "<tr><td>SP.POP.TOTL.FE.ZS   </td><td>Population, female (% of total population)                                                                                        </td></tr>\n",
       "<tr><td>SP.POP.TOTL.MA.IN   </td><td>Population, male                                                                                                                  </td></tr>\n",
       "<tr><td>SP.POP.TOTL.MA.ZS   </td><td>Population, male (% of total population)                                                                                          </td></tr>\n",
       "<tr><td>SP.REG.BRTH.FE.ZS   </td><td>Completeness of birth registration, female (%)                                                                                    </td></tr>\n",
       "<tr><td>SP.REG.BRTH.MA.ZS   </td><td>Completeness of birth registration, male (%)                                                                                      </td></tr>\n",
       "<tr><td>SP.REG.BRTH.RU.ZS   </td><td>Completeness of birth registration, rural (%)                                                                                     </td></tr>\n",
       "<tr><td>SP.REG.BRTH.UR.ZS   </td><td>Completeness of birth registration, urban (%)                                                                                     </td></tr>\n",
       "<tr><td>SP.REG.BRTH.ZS      </td><td>Completeness of birth registration (%)                                                                                            </td></tr>\n",
       "<tr><td>SP.REG.DTHS.ZS      </td><td>Completeness of death registration with cause-of-death information (%)                                                            </td></tr>\n",
       "<tr><td>SP.RUR.TOTL         </td><td>Rural population                                                                                                                  </td></tr>\n",
       "<tr><td>SP.RUR.TOTL.ZG      </td><td>Rural population growth (annual %)                                                                                                </td></tr>\n",
       "<tr><td>SP.RUR.TOTL.ZS      </td><td>Rural population (% of total population)                                                                                          </td></tr>\n",
       "<tr><td>SP.URB.GROW         </td><td>Urban population growth (annual %)                                                                                                </td></tr>\n",
       "<tr><td>SP.URB.TOTL         </td><td>Urban population                                                                                                                  </td></tr>\n",
       "<tr><td>SP.URB.TOTL.IN.ZS   </td><td>Urban population (% of total population)                                                                                          </td></tr>\n",
       "<tr><td>SP.UWT.TFRT         </td><td>Unmet need for contraception (% of married women ages 15-49)                                                                      </td></tr>\n",
       "<tr><td>                    </td><td>441 elements                                                                                                                      </td></tr>\n",
       "</tbody>\n",
       "</table></div>"
      ],
      "text/plain": [
       "id                    value\n",
       "--------------------  ----------------------------------------------------------------------------------------------------------------------------------\n",
       "HD.HCI.OVRL           Human capital index (HCI) (scale 0-1)\n",
       "HD.HCI.OVRL.FE        Human capital index (HCI), female (scale 0-1)\n",
       "HD.HCI.OVRL.LB        Human capital index (HCI), lower bound (scale 0-1)\n",
       "HD.HCI.OVRL.LB.FE     Human capital index (HCI), female, lower bound (scale 0-1)\n",
       "HD.HCI.OVRL.LB.MA     Human capital index (HCI), male, lower bound (scale 0-1)\n",
       "HD.HCI.OVRL.MA        Human capital index (HCI), male (scale 0-1)\n",
       "HD.HCI.OVRL.UB        Human capital index (HCI), upper bound (scale 0-1)\n",
       "HD.HCI.OVRL.UB.FE     Human capital index (HCI), female, upper bound (scale 0-1)\n",
       "HD.HCI.OVRL.UB.MA     Human capital index (HCI), male, upper bound (scale 0-1)\n",
       "NY.GNP.PCAP.CD        GNI per capita, Atlas method (current US$)\n",
       "SE.ADT.1524.LT.FM.ZS  Ratio of young literate females to males (% ages 15-24)\n",
       "SE.ADT.1524.LT.MA.ZS  Literacy rate, youth male (% of males ages 15-24)\n",
       "SE.ADT.1524.LT.ZS     Literacy rate, youth total (% of people ages 15-24)\n",
       "SE.ADT.LITR.FE.ZS     Literacy rate, adult female (% of females ages 15 and above)\n",
       "SE.ADT.LITR.MA.ZS     Literacy rate, adult male (% of males ages 15 and above)\n",
       "SE.ADT.LITR.ZS        Literacy rate, adult total (% of people ages 15 and above)\n",
       "SE.ENR.ORPH           Ratio of school attendance of orphans to school attendance of non-orphans ages 10-14\n",
       "SE.PRM.CMPT.FE.ZS     Primary completion rate, female (% of relevant age group)\n",
       "SE.PRM.CMPT.MA.ZS     Primary completion rate, male (% of relevant age group)\n",
       "SE.PRM.CMPT.ZS        Primary completion rate, total (% of relevant age group)\n",
       "SE.PRM.ENRR           School enrollment, primary (% gross)\n",
       "SE.PRM.ENRR.FE        School enrollment, primary, female (% gross)\n",
       "SE.PRM.ENRR.MA        School enrollment, primary, male (% gross)\n",
       "SE.PRM.NENR           School enrollment, primary (% net)\n",
       "SE.PRM.NENR.FE        School enrollment, primary, female (% net)\n",
       "SE.PRM.NENR.MA        School enrollment, primary, male (% net)\n",
       "SE.SEC.ENRR           School enrollment, secondary (% gross)\n",
       "SE.SEC.ENRR.FE        School enrollment, secondary, female (% gross)\n",
       "SE.SEC.ENRR.MA        School enrollment, secondary, male (% gross)\n",
       "SE.SEC.NENR           School enrollment, secondary (% net)\n",
       "SE.SEC.NENR.FE        School enrollment, secondary, female (% net)\n",
       "SE.SEC.NENR.MA        School enrollment, secondary, male (% net)\n",
       "SE.TER.ENRR           School enrollment, tertiary (% gross)\n",
       "SE.TER.ENRR.FE        School enrollment, tertiary, female (% gross)\n",
       "SE.XPD.TOTL.GD.ZS     Public spending on education, total (% of GDP)\n",
       "SH.ALC.PCAP.FE.LI     Total alcohol consumption per capita, female (liters of pure alcohol, projected estimates, female 15+ years of age)\n",
       "SH.ALC.PCAP.LI        Total alcohol consumption per capita (liters of pure alcohol, projected estimates, 15+ years of age)\n",
       "SH.ALC.PCAP.MA.LI     Total alcohol consumption per capita, male (liters of pure alcohol, projected estimates, male 15+ years of age)\n",
       "SH.ANM.ALLW.ZS        Prevalence of anemia among women of reproductive age (% of women ages 15-49)\n",
       "SH.ANM.CHLD.ZS        Prevalence of anemia among children (% of children ages 6-59 months)\n",
       "SH.ANM.NPRG.ZS        Prevalence of anemia among non-pregnant women (% of women ages 15-49)\n",
       "SH.CON.1524.FE.ZS     Condom use, population ages 15-24, female (% of females ages 15-24)\n",
       "SH.CON.1524.MA.ZS     Condom use, population ages 15-24, male (% of males ages 15-24)\n",
       "SH.CON.AIDS.FE.ZS     Condom use at last high-risk sex, adult female (% ages 15-49)\n",
       "SH.CON.AIDS.MA.ZS     Condom use at last high-risk sex, adult male (% ages 15-49)\n",
       "SH.DTH.0509           Number of deaths ages 5-9 years\n",
       "SH.DTH.1014           Number of deaths ages 10-14 years\n",
       "SH.DTH.1019           Number of deaths ages 10-19 years\n",
       "SH.DTH.1519           Number of deaths ages 15-19 years\n",
       "SH.DTH.2024           Number of deaths ages 20-24 years\n",
       "SH.DTH.COMM.ZS        Cause of death, by communicable diseases and maternal, prenatal and nutrition conditions (% of total)\n",
       "SH.DTH.IMRT           Number of infant deaths\n",
       "SH.DTH.IMRT.FE        Number of infant deaths, female\n",
       "SH.DTH.IMRT.MA        Number of infant deaths, male\n",
       "SH.DTH.INJR.ZS        Cause of death, by injury (% of total)\n",
       "SH.DTH.MORT           Number of under-five deaths\n",
       "SH.DTH.MORT.FE        Number of under-five deaths, female\n",
       "SH.DTH.MORT.MA        Number of under-five deaths, male\n",
       "SH.DTH.NCOM.ZS        Cause of death, by non-communicable diseases (% of total)\n",
       "SH.DTH.NMRT           Number of neonatal deaths\n",
       "SH.DTH.STLB           Number of stillbirths\n",
       "SH.DYN.0509           Probability of dying among children ages 5-9 years (per 1,000)\n",
       "SH.DYN.1014           Probability of dying among adolescents ages 10-14 years (per 1,000)\n",
       "SH.DYN.1019           Probability of dying among adolescents ages 10-19 years (per 1,000)\n",
       "SH.DYN.1519           Probability of dying among adolescents ages 15-19 years (per 1,000)\n",
       "SH.DYN.2024           Probability of dying among youth ages 20-24 years (per 1,000)\n",
       "SH.DYN.AIDS           Adults (ages 15+) living with HIV\n",
       "SH.DYN.AIDS.DH        AIDS estimated deaths (UNAIDS estimates)\n",
       "SH.DYN.AIDS.FE.ZS     Women's share of population ages 15+ living with HIV (%)\n",
       "SH.DYN.AIDS.ZS        Prevalence of HIV, total (% of population ages 15-49)\n",
       "SH.DYN.MORT           Mortality rate, under-5 (per 1,000)\n",
       "SH.DYN.MORT.FE        Mortality rate, under-5, female (per 1,000)\n",
       "SH.DYN.MORT.MA        Mortality rate, under-5, male (per 1,000)\n",
       "SH.DYN.NCOM.FE.ZS     Mortality from CVD, cancer, diabetes or CRD between exact ages 30 and 70, female (%)\n",
       "SH.DYN.NCOM.MA.ZS     Mortality from CVD, cancer, diabetes or CRD between exact ages 30 and 70, male (%)\n",
       "SH.DYN.NCOM.ZS        Mortality from CVD, cancer, diabetes or CRD between exact ages 30 and 70 (%)\n",
       "SH.DYN.NMRT           Mortality rate, neonatal (per 1,000 live births)\n",
       "SH.DYN.STLB           Stillbirth rate (per 1,000 total births)\n",
       "SH.FPL.SATI.ZS        Demand for family planning satisfied by any methods (% of married women with demand for family planning)\n",
       "SH.FPL.SATM.ZS        Demand for family planning satisfied by modern methods (% of married women with demand for family planning)\n",
       "SH.H2O.BASW.RU.ZS     People using at least basic drinking water services, rural (% of rural population)\n",
       "SH.H2O.BASW.UR.ZS     People using at least basic drinking water services, urban (% of urban population)\n",
       "SH.H2O.BASW.ZS        People using at least basic drinking water services (% of population)\n",
       "SH.H2O.SMDW.RU.ZS     People using safely managed drinking water services, rural (% of rural population)\n",
       "SH.H2O.SMDW.UR.ZS     People using safely managed drinking water services, urban (% of urban population)\n",
       "SH.H2O.SMDW.ZS        People using safely managed drinking water services (% of population)\n",
       "SH.HIV.0014           Children (0-14) living with HIV\n",
       "SH.HIV.1524.FE.ZS     Prevalence of HIV, female (% ages 15-24)\n",
       "SH.HIV.1524.KW.FE.ZS  Comprehensive correct knowledge of HIV/AIDS, ages 15-24, female (2 prevent ways and reject 3 misconceptions)\n",
       "SH.HIV.1524.KW.MA.ZS  Comprehensive correct knowledge of HIV/AIDS, ages 15-24, male (2 prevent ways and reject 3 misconceptions)\n",
       "SH.HIV.1524.MA.ZS     Prevalence of HIV, male (% ages 15-24)\n",
       "SH.HIV.ARTC.ZS        Antiretroviral therapy coverage (% of people living with HIV)\n",
       "SH.HIV.INCD           Adults (ages 15-49) newly infected with HIV\n",
       "SH.HIV.INCD.14        Children (ages 0-14) newly infected with HIV\n",
       "SH.HIV.INCD.50.P3     Incidence of HIV, ages 50+ (per 1,000 uninfected population ages 50+)\n",
       "SH.HIV.INCD.TL        Adults (ages 15+) and children (ages 0-14) newly infected with HIV\n",
       "SH.HIV.INCD.TL.P3     Incidence of HIV, all (per 1,000 uninfected population)\n",
       "SH.HIV.INCD.YG        Young people (ages 15-24) newly infected with HIV\n",
       "SH.HIV.INCD.YG.P3     Incidence of HIV, ages 15-24 (per 1,000 uninfected population ages 15-24)\n",
       "SH.HIV.INCD.ZS        Incidence of HIV, ages 15-49 (per 1,000 uninfected population ages 15-49)\n",
       "SH.HIV.KNOW.FE.ZS     Comprehensive correct knowledge of HIV/AIDS, ages 15-49, female (2 prevent ways and reject 3 misconceptions)\n",
       "SH.HIV.KNOW.MA.ZS     Comprehensive correct knowledge of HIV/AIDS, ages 15-49, male (2 prevent ways and reject 3 misconceptions)\n",
       "SH.HIV.ORPH           Children orphaned by HIV/AIDS\n",
       "SH.HIV.PMTC.ZS        Antiretroviral therapy coverage for PMTCT (% of pregnant women living with HIV)\n",
       "SH.HIV.TOTL           Adults (ages 15+) and children (0-14 years) living with HIV\n",
       "SH.HTN.PREV.FE.ZS     Prevalence of hypertension, female (% of female adults ages 30-79)\n",
       "SH.HTN.PREV.MA.ZS     Prevalence of hypertension, male (% of male adults ages 30-79)\n",
       "SH.HTN.PREV.ZS        Prevalence of hypertension (% of adults ages 30-79)\n",
       "SH.HTN.TRET.FE.ZS     Treatment for hypertension, female (% of female adults ages 30-79 with hypertension)\n",
       "SH.HTN.TRET.MA.ZS     Treatment for hypertension, male (% of male adults ages 30-79 with hypertension)\n",
       "SH.HTN.TRET.ZS        Treatment for hypertension (% of adults ages 30-79 with hypertension)\n",
       "SH.IMM.HEPB           Immunization, HepB3 (% of one-year-old children)\n",
       "SH.IMM.HIB3           Immunization, Hib3 (% of children ages 12-23 months)\n",
       "SH.IMM.IBCG           Immunization, BCG (% of one-year-old children)\n",
       "SH.IMM.IDPT           Immunization, DPT (% of children ages 12-23 months)\n",
       "SH.IMM.MEA2           Immunization, measles second dose (% of children by the nationally recommended age)\n",
       "SH.IMM.MEAS           Immunization, measles (% of children ages 12-23 months)\n",
       "SH.IMM.POL3           Immunization, Pol3 (% of one-year-old children)\n",
       "SH.MED.BEDS.ZS        Hospital beds (per 1,000 people)\n",
       "SH.MED.CMHW.P3        Community health workers (per 1,000 people)\n",
       "SH.MED.NUMW.P3        Nurses and midwives (per 1,000 people)\n",
       "SH.MED.PHYS.ZS        Physicians (per 1,000 people)\n",
       "SH.MED.SAOP.P5        Specialist surgical workforce (per 100,000 population)\n",
       "SH.MLR.INCD.P3        Incidence of malaria (per 1,000 population at risk)\n",
       "SH.MLR.IPTP.ZS        Intermittent preventive treatment (IPT) of malaria in pregnancy (% of pregnant women)\n",
       "SH.MLR.NETS.ZS        Use of insecticide-treated bed nets (% of under-5 population)\n",
       "SH.MLR.TRET.ZS        Children with fever receiving antimalarial drugs (% of children under age 5 with fever)\n",
       "SH.MMR.DTHS           Number of maternal deaths\n",
       "SH.MMR.RISK           Lifetime risk of maternal death (1 in: rate varies by country)\n",
       "SH.MMR.RISK.ZS        Lifetime risk of maternal death (%)\n",
       "SH.MMR.WAGE.ZS        Maternal leave benefits (% of wages paid in covered period)\n",
       "SH.PRG.ANEM           Prevalence of anemia among pregnant women (%)\n",
       "SH.PRG.SYPH.ZS        Prevalence of syphilis (% of women attending antenatal care)\n",
       "SH.PRV.SMOK           Prevalence of current tobacco use (% of adults)\n",
       "SH.PRV.SMOK.FE        Prevalence of current tobacco use, females (% of female adults)\n",
       "SH.PRV.SMOK.MA        Prevalence of current tobacco use, males (% of male adults)\n",
       "SH.SGR.CRSK.ZS        Risk of catastrophic expenditure for surgical care (% of people at risk)\n",
       "SH.SGR.IRSK.ZS        Risk of impoverishing expenditure for surgical care (% of people at risk)\n",
       "SH.SGR.PROC.P5        Number of surgical procedures (per 100,000 population)\n",
       "SH.STA.AIRP.FE.P5     Mortality rate attributed to household and ambient air pollution, age-standardized, female (per 100,000 female population)\n",
       "SH.STA.AIRP.MA.P5     Mortality rate attributed to household and ambient air pollution, age-standardized, male (per 100,000 male population)\n",
       "SH.STA.AIRP.P5        Mortality rate attributed to household and ambient air pollution (per 100,000 population)\n",
       "SH.STA.ANV4.ZS        Pregnant women receiving prenatal care of at least four visits (% of pregnant women)\n",
       "SH.STA.ANVC.ZS        Pregnant women receiving prenatal care (%)\n",
       "SH.STA.ARIC.ZS        ARI treatment (% of children under 5 taken to a health provider)\n",
       "SH.STA.BASS.RU.ZS     People using at least basic sanitation services, rural (% of rural population)\n",
       "SH.STA.BASS.UR.ZS     People using at least basic sanitation services, urban  (% of urban population)\n",
       "SH.STA.BASS.ZS        People using at least basic sanitation services (% of population)\n",
       "SH.STA.BFED.ZS        Exclusive breastfeeding (% of children under 6 months)\n",
       "SH.STA.BRTC.ZS        Births attended by skilled health staff (% of total)\n",
       "SH.STA.BRTW.ZS        Low-birthweight babies (% of births)\n",
       "SH.STA.DIAB.ZS        Diabetes prevalence (% of population ages 20 to 79)\n",
       "SH.STA.HYGN.RU.ZS     People with basic handwashing facilities including soap and water, rural (% of rural population)\n",
       "SH.STA.HYGN.UR.ZS     People with basic handwashing facilities including soap and water, urban (% of urban population)\n",
       "SH.STA.HYGN.ZS        People with basic handwashing facilities including soap and water (% of population)\n",
       "SH.STA.IYCF.ZS        Infant and young child feeding practices, all 3 IYCF (% children ages 6-23 months)\n",
       "SH.STA.MALN.FE.ZS     Prevalence of underweight, weight for age, female (% of children under 5)\n",
       "SH.STA.MALN.MA.ZS     Prevalence of underweight, weight for age, male (% of children under 5)\n",
       "SH.STA.MALN.ZS        Prevalence of underweight, weight for age (% of children under 5)\n",
       "SH.STA.MALR           Malaria cases reported\n",
       "SH.STA.MMRT           Maternal mortality ratio (modeled estimate, per 100,000 live births)\n",
       "SH.STA.MMRT.NE        Maternal mortality ratio (national estimate, per 100,000 live births)\n",
       "SH.STA.ODFC.RU.ZS     People practicing open defecation, rural (% of rural population)\n",
       "SH.STA.ODFC.UR.ZS     People practicing open defecation, urban (% of urban population)\n",
       "SH.STA.ODFC.ZS        People practicing open defecation (% of population)\n",
       "SH.STA.ORCF.ZS        Diarrhea treatment (% of children under 5 receiving oral rehydration and continued feeding)\n",
       "SH.STA.ORTH           Diarrhea treatment (% of children under 5 who received ORS packet)\n",
       "SH.STA.OWAD.FE.ZS     Prevalence of overweight, female (% of female adults)\n",
       "SH.STA.OWAD.MA.ZS     Prevalence of overweight, male (% of male adults)\n",
       "SH.STA.OWAD.ZS        Prevalence of overweight (% of adults)\n",
       "SH.STA.OWGH.FE.ZS     Prevalence of overweight, female (% of children under 5)\n",
       "SH.STA.OWGH.MA.ZS     Prevalence of overweight, male (% of children under 5)\n",
       "SH.STA.OWGH.ME.ZS     Prevalence of overweight (modeled estimate, % of children under 5)\n",
       "SH.STA.OWGH.ZS        Prevalence of overweight (% of children under 5)\n",
       "SH.STA.PNVC.ZS        Postnatal care coverage (% mothers)\n",
       "SH.STA.POIS.P5        Mortality rate attributed to unintentional poisoning (per 100,000 population)\n",
       "SH.STA.POIS.P5.FE     Mortality rate attributed to unintentional poisoning, female (per 100,000 female population)\n",
       "SH.STA.POIS.P5.MA     Mortality rate attributed to unintentional poisoning, male (per 100,000 male population)\n",
       "SH.STA.SMSS.RU.ZS     People using safely managed sanitation services, rural (% of rural population)\n",
       "SH.STA.SMSS.UR.ZS     People using safely managed sanitation services, urban  (% of urban population)\n",
       "SH.STA.SMSS.ZS        People using safely managed sanitation services (% of population)\n",
       "SH.STA.STNT.FE.ZS     Prevalence of stunting, height for age, female (% of children under 5)\n",
       "SH.STA.STNT.MA.ZS     Prevalence of stunting, height for age, male (% of children under 5)\n",
       "SH.STA.STNT.ME.ZS     Prevalence of stunting, height for age (modeled estimate, % of children under 5)\n",
       "SH.STA.STNT.ZS        Prevalence of stunting, height for age (% of children under 5)\n",
       "SH.STA.SUIC.FE.P5     Suicide mortality rate, female (per 100,000 female population)\n",
       "SH.STA.SUIC.MA.P5     Suicide mortality rate, male (per 100,000 male population)\n",
       "SH.STA.SUIC.P5        Suicide mortality rate (per 100,000 population)\n",
       "SH.STA.TRAF.FE.P5     Mortality caused by road traffic injury, female (per 100,000 female population)\n",
       "SH.STA.TRAF.MA.P5     Mortality caused by road traffic injury, male (per 100,000 male population)\n",
       "SH.STA.TRAF.P5        Mortality caused by road traffic injury (per 100,000 people)\n",
       "SH.STA.WASH.FE.P5     Mortality rate attributed to unsafe water, unsafe sanitation and lack of hygiene, female (per 100,000 female population)\n",
       "SH.STA.WASH.MA.P5     Mortality rate attributed to unsafe water, unsafe sanitation and lack of hygiene, male (per 100,000 male population)\n",
       "SH.STA.WASH.P5        Mortality rate attributed to unsafe water, unsafe sanitation and lack of hygiene (per 100,000 population)\n",
       "SH.STA.WAST.FE.ZS     Prevalence of wasting, weight for height, female (% of children under 5)\n",
       "SH.STA.WAST.MA.ZS     Prevalence of wasting, weight for height, male (% of children under 5)\n",
       "SH.STA.WAST.ZS        Prevalence of wasting, weight for height (% of children under 5)\n",
       "SH.SVR.WAST.FE.ZS     Prevalence of severe wasting, weight for height, female (% of children under 5)\n",
       "SH.SVR.WAST.MA.ZS     Prevalence of severe wasting, weight for height, male (% of children under 5)\n",
       "SH.SVR.WAST.ZS        Prevalence of severe wasting, weight for height (% of children under 5)\n",
       "SH.TBS.CURE.ZS        Tuberculosis treatment success rate (% of new cases)\n",
       "SH.TBS.DTEC.ZS        Tuberculosis case detection rate (%, all forms)\n",
       "SH.TBS.INCD           Incidence of tuberculosis (per 100,000 people)\n",
       "SH.TBS.MORT           Tuberculosis death rate (per 100,000 people)\n",
       "SH.UHC.FBP1.TO        Number of people pushed further below the $1.90 ($ 2011 PPP) poverty line by out-of-pocket health care expenditure\n",
       "SH.UHC.FBP1.ZS        Proportion of population pushed further below the $1.90 ($ 2011 PPP) poverty line by out-of-pocket health care expenditure (%)\n",
       "SH.UHC.FBP2.TO        Number of people pushed further below the $3.20 ($ 2011 PPP) poverty line by out-of-pocket health care expenditure\n",
       "SH.UHC.FBP2.ZS        Proportion of population pushed further below the $3.20 ($ 2011 PPP) poverty line by out-of-pocket health care expenditure (%)\n",
       "SH.UHC.FBPR.TO        Number of people pushed further below the 60% median consumption poverty line by out-of-pocket health care expenditure\n",
       "SH.UHC.FBPR.ZS        Proportion of population pushed further below the 60% median consumption poverty line by out-of-pocket health care expenditure (%)\n",
       "SH.UHC.NOP1.TO        Number of people pushed below the $1.90 ($ 2011 PPP) poverty line by out-of-pocket health care expenditure\n",
       "SH.UHC.NOP1.ZS        Proportion of population pushed below the $1.90 ($ 2011 PPP) poverty line by out-of-pocket health care expenditure (%)\n",
       "SH.UHC.NOP2.TO        Number of people pushed below the $3.20 ($ 2011 PPP) poverty line by out-of-pocket health care expenditure\n",
       "SH.UHC.NOP2.ZS        Proportion of population pushed below the $3.20 ($ 2011 PPP) poverty line by out-of-pocket health care expenditure (%)\n",
       "SH.UHC.NOPR.TO        Number of people pushed below the 60% median consumption poverty line by out-of-pocket health care expenditure\n",
       "SH.UHC.NOPR.ZS        Proportion of population pushed below the 60% median consumption poverty line by out-of-pocket health expenditure (%)\n",
       "SH.UHC.OOPC.10.TO     Number of people spending more than 10% of household consumption or income on out-of-pocket health care expenditure\n",
       "SH.UHC.OOPC.10.ZS     Proportion of population spending more than 10% of household consumption or income on out-of-pocket health care expenditure (%)\n",
       "SH.UHC.OOPC.25.TO     Number of people spending more than 25% of household consumption or income on out-of-pocket health care expenditure\n",
       "SH.UHC.OOPC.25.ZS     Proportion of population spending more than 25% of household consumption or income on out-of-pocket health care expenditure (%)\n",
       "SH.UHC.SRVS.CV.XD     UHC service coverage index\n",
       "SH.VAC.TTNS.ZS        Newborns protected against tetanus (%)\n",
       "SH.XPD.CHEX.GD.ZS     Current health expenditure (% of GDP)\n",
       "SH.XPD.CHEX.PC.CD     Current health expenditure per capita (current US$)\n",
       "SH.XPD.CHEX.PP.CD     Current health expenditure per capita, PPP (current international $)\n",
       "SH.XPD.EHEX.CH.ZS     External health expenditure (% of current health expenditure)\n",
       "SH.XPD.EHEX.EH.ZS     External health expenditure channeled through government (% of external health expenditure)\n",
       "SH.XPD.EHEX.PC.CD     External health expenditure per capita (current US$)\n",
       "SH.XPD.EHEX.PP.CD     External health expenditure per capita, PPP (current international $)\n",
       "SH.XPD.GHED.CH.ZS     Domestic general government health expenditure (% of current health expenditure)\n",
       "SH.XPD.GHED.GD.ZS     Domestic general government health expenditure (% of GDP)\n",
       "SH.XPD.GHED.GE.ZS     Domestic general government health expenditure (% of general government expenditure)\n",
       "SH.XPD.GHED.PC.CD     Domestic general government health expenditure per capita (current US$)\n",
       "SH.XPD.GHED.PP.CD     Domestic general government health expenditure per capita, PPP (current international $)\n",
       "SH.XPD.KHEX.GD.ZS     Capital health expenditure (% of GDP)\n",
       "SH.XPD.OOPC.CH.ZS     Out-of-pocket expenditure (% of current health expenditure)\n",
       "SH.XPD.OOPC.PC.CD     Out-of-pocket expenditure per capita (current US$)\n",
       "SH.XPD.OOPC.PP.CD     Out-of-pocket expenditure per capita, PPP (current international $)\n",
       "SH.XPD.PVTD.CH.ZS     Domestic private health expenditure (% of current health expenditure)\n",
       "SH.XPD.PVTD.PC.CD     Domestic private health expenditure per capita (current US$)\n",
       "SH.XPD.PVTD.PP.CD     Domestic private health expenditure per capita, PPP  (current international $)\n",
       "SI.POV.NAHC           Poverty headcount ratio at national poverty line (% of population)\n",
       "SI.POV.RUHC           Rural poverty headcount ratio at national poverty lines (% of rural population)\n",
       "SI.POV.URHC           Urban poverty headcount ratio at national poverty lines (% of urban population)\n",
       "SL.EMP.INSV.FE.ZS     Share of women employed in the nonagricultural sector (% of total nonagricultural employment)\n",
       "SL.TLF.TOTL.FE.ZS     Labor force, female (% of total labor force)\n",
       "SL.TLF.TOTL.IN        Labor force, total\n",
       "SL.UEM.TOTL.FE.ZS     Unemployment, female (% of female labor force)\n",
       "SL.UEM.TOTL.MA.ZS     Unemployment, male (% of male labor force)\n",
       "SL.UEM.TOTL.ZS        Unemployment, total (% of total labor force)\n",
       "SM.POP.NETM           Net migration\n",
       "SN.ITK.DEFC           Number of people who are undernourished\n",
       "SN.ITK.DEFC.ZS        Prevalence of undernourishment (% of population)\n",
       "SN.ITK.SALT.ZS        Consumption of iodized salt (% of households)\n",
       "SN.ITK.VITA.ZS        Vitamin A supplementation coverage rate (% of children ages 6-59 months)\n",
       "SP.ADO.TFRT           Adolescent fertility rate (births per 1,000 women ages 15-19)\n",
       "SP.DYN.AMRT.FE        Mortality rate, adult, female (per 1,000 female adults)\n",
       "SP.DYN.AMRT.MA        Mortality rate, adult, male (per 1,000 male adults)\n",
       "SP.DYN.CBRT.IN        Birth rate, crude (per 1,000 people)\n",
       "SP.DYN.CDRT.IN        Death rate, crude (per 1,000 people)\n",
       "SP.DYN.CONM.SA.ZS     Contraceptive prevalence, any modern method (% of sexually active unmarried women ages 15-49)\n",
       "SP.DYN.CONM.ZS        Contraceptive prevalence, any modern method (% of married women ages 15-49)\n",
       "SP.DYN.CONU.SA.ZS     Contraceptive prevalence, any method (% of sexually active unmarried women ages 15-49)\n",
       "SP.DYN.CONU.ZS        Contraceptive prevalence, any method (% of married women ages 15-49)\n",
       "SP.DYN.IMRT.FE.IN     Mortality rate, infant, female (per 1,000 live births)\n",
       "SP.DYN.IMRT.IN        Mortality rate, infant (per 1,000 live births)\n",
       "SP.DYN.IMRT.MA.IN     Mortality rate, infant, male (per 1,000 live births)\n",
       "SP.DYN.LE00.FE.IN     Life expectancy at birth, female (years)\n",
       "SP.DYN.LE00.IN        Life expectancy at birth, total (years)\n",
       "SP.DYN.LE00.MA.IN     Life expectancy at birth, male (years)\n",
       "SP.DYN.SMAM.FE        Age at first marriage, female\n",
       "SP.DYN.SMAM.MA        Age at first marriage, male\n",
       "SP.DYN.TFRT.IN        Fertility rate, total (births per woman)\n",
       "SP.DYN.TO65.FE.ZS     Survival to age 65, female (% of cohort)\n",
       "SP.DYN.TO65.MA.ZS     Survival to age 65, male (% of cohort)\n",
       "SP.DYN.WFRT           Wanted fertility rate (births per woman)\n",
       "SP.HOU.FEMA.ZS        Female headed households (% of households with a female head)\n",
       "SP.M15.2024.FE.ZS     Women who were first married by age 15 (% of women ages 20-24)\n",
       "SP.M18.2024.FE.ZS     Women who were first married by age 18 (% of women ages 20-24)\n",
       "SP.MTR.1519.ZS        Teenage mothers (% of women ages 15-19 who have had children or are currently pregnant)\n",
       "SP.POP.0004.FE        Population ages 00-04, female\n",
       "SP.POP.0004.FE.5Y     Population ages 00-04, female (% of female population)\n",
       "SP.POP.0004.MA        Population ages 00-04, male\n",
       "SP.POP.0004.MA.5Y     Population ages 00-04, male (% of male population)\n",
       "SP.POP.0014.FE.IN     Population ages 0-14, female\n",
       "SP.POP.0014.FE.ZS     Population ages 0-14, female (% of female population)\n",
       "SP.POP.0014.MA.IN     Population ages 0-14, male\n",
       "SP.POP.0014.MA.ZS     Population ages 0-14, male (% of male population)\n",
       "SP.POP.0014.TO        Population ages 00-14, total\n",
       "SP.POP.0014.TO.ZS     Population ages 0-14 (% of total population)\n",
       "SP.POP.0509.FE        Population ages 05-09, female\n",
       "SP.POP.0509.FE.5Y     Population ages 05-09, female (% of female population)\n",
       "SP.POP.0509.MA        Population ages 05-09, male\n",
       "SP.POP.0509.MA.5Y     Population ages 05-09, male (% of male population)\n",
       "SP.POP.1014.FE        Population ages 10-14, female\n",
       "SP.POP.1014.FE.5Y     Population ages 10-14, female (% of female population)\n",
       "SP.POP.1014.MA        Population ages 10-14, male\n",
       "SP.POP.1014.MA.5Y     Population ages 10-14, male (% of male population)\n",
       "SP.POP.1519.FE        Population ages 15-19, female\n",
       "SP.POP.1519.FE.5Y     Population ages 15-19, female (% of female population)\n",
       "SP.POP.1519.MA        Population ages 15-19, male\n",
       "SP.POP.1519.MA.5Y     Population ages 15-19, male (% of male population)\n",
       "SP.POP.1564.FE.IN     Population ages 15-64, female\n",
       "SP.POP.1564.FE.ZS     Population ages 15-64, female (% of female population)\n",
       "SP.POP.1564.MA.IN     Population ages 15-64, male\n",
       "SP.POP.1564.MA.ZS     Population ages 15-64, male (% of male population)\n",
       "SP.POP.1564.TO        Population ages 15-64, total\n",
       "SP.POP.1564.TO.ZS     Population ages 15-64 (% of total population)\n",
       "SP.POP.2024.FE        Population ages 20-24, female\n",
       "SP.POP.2024.FE.5Y     Population ages 20-24, female (% of female population)\n",
       "SP.POP.2024.MA        Population ages 20-24, male\n",
       "SP.POP.2024.MA.5Y     Population ages 20-24, male (% of male population)\n",
       "SP.POP.2529.FE        Population ages 25-29, female\n",
       "SP.POP.2529.FE.5Y     Population ages 25-29, female (% of female population)\n",
       "SP.POP.2529.MA        Population ages 25-29, male\n",
       "SP.POP.2529.MA.5Y     Population ages 25-29, male (% of male population)\n",
       "SP.POP.3034.FE        Population ages 30-34, female\n",
       "SP.POP.3034.FE.5Y     Population ages 30-34, female (% of female population)\n",
       "SP.POP.3034.MA        Population ages 30-34, male\n",
       "SP.POP.3034.MA.5Y     Population ages 30-34, male (% of male population)\n",
       "SP.POP.3539.FE        Population ages 35-39, female\n",
       "SP.POP.3539.FE.5Y     Population ages 35-39, female (% of female population)\n",
       "SP.POP.3539.MA        Population ages 35-39, male\n",
       "SP.POP.3539.MA.5Y     Population ages 35-39, male (% of male population)\n",
       "SP.POP.4044.FE        Population ages 40-44, female\n",
       "SP.POP.4044.FE.5Y     Population ages 40-44, female (% of female population)\n",
       "SP.POP.4044.MA        Population ages 40-44, male\n",
       "SP.POP.4044.MA.5Y     Population ages 40-44, male (% of male population)\n",
       "SP.POP.4549.FE        Population ages 45-49, female\n",
       "SP.POP.4549.FE.5Y     Population ages 45-49, female (% of female population)\n",
       "SP.POP.4549.MA        Population ages 45-49, male\n",
       "SP.POP.4549.MA.5Y     Population ages 45-49, male (% of male population)\n",
       "SP.POP.5054.FE        Population ages 50-54, female\n",
       "SP.POP.5054.FE.5Y     Population ages 50-54, female (% of female population)\n",
       "SP.POP.5054.MA        Population ages 50-54, male\n",
       "SP.POP.5054.MA.5Y     Population ages 50-54, male (% of male population)\n",
       "SP.POP.5559.FE        Population ages 55-59, female\n",
       "SP.POP.5559.FE.5Y     Population ages 55-59, female (% of female population)\n",
       "SP.POP.5559.MA        Population ages 55-59, male\n",
       "SP.POP.5559.MA.5Y     Population ages 55-59, male (% of male population)\n",
       "SP.POP.6064.FE        Population ages 60-64, female\n",
       "SP.POP.6064.FE.5Y     Population ages 60-64, female (% of female population)\n",
       "SP.POP.6064.MA        Population ages 60-64, male\n",
       "SP.POP.6064.MA.5Y     Population ages 60-64, male (% of male population)\n",
       "SP.POP.6569.FE        Population ages 65-69, female\n",
       "SP.POP.6569.FE.5Y     Population ages 65-69, female (% of female population)\n",
       "SP.POP.6569.MA        Population ages 65-69, male\n",
       "SP.POP.6569.MA.5Y     Population ages 65-69, male (% of male population)\n",
       "SP.POP.65UP.FE.IN     Population ages 65 and above, female\n",
       "SP.POP.65UP.FE.ZS     Population ages 65 and above, female (% of female population)\n",
       "SP.POP.65UP.MA.IN     Population ages 65 and above, male\n",
       "SP.POP.65UP.MA.ZS     Population ages 65 and above, male (% of male population)\n",
       "SP.POP.65UP.TO        Population ages 65 and above, total\n",
       "SP.POP.65UP.TO.ZS     Population ages 65 and above (% of total population)\n",
       "SP.POP.7074.FE        Population ages 70-74, female\n",
       "SP.POP.7074.FE.5Y     Population ages 70-74, female (% of female population)\n",
       "SP.POP.7074.MA        Population ages 70-74, male\n",
       "SP.POP.7074.MA.5Y     Population ages 70-74, male (% of male population)\n",
       "SP.POP.7579.FE        Population ages 75-79, female\n",
       "SP.POP.7579.FE.5Y     Population ages 75-79, female (% of female population)\n",
       "SP.POP.7579.MA        Population ages 75-79, male\n",
       "SP.POP.7579.MA.5Y     Population ages 75-79, male (% of male population)\n",
       "SP.POP.80UP.FE        Population ages 80 and above, female\n",
       "SP.POP.80UP.FE.5Y     Population ages 80 and older, female (% of female population)\n",
       "SP.POP.80UP.MA        Population ages 80 and above, male\n",
       "SP.POP.80UP.MA.5Y     Population ages 80 and above, male (% of male population)\n",
       "SP.POP.AG00.FE.IN     Age population, age 00, female, interpolated\n",
       "SP.POP.AG00.MA.IN     Age population, age 00, male, interpolated\n",
       "SP.POP.AG01.FE.IN     Age population, age 01, female, interpolated\n",
       "SP.POP.AG01.MA.IN     Age population, age 01, male, interpolated\n",
       "SP.POP.AG02.FE.IN     Age population, age 02, female, interpolated\n",
       "SP.POP.AG02.MA.IN     Age population, age 02, male, interpolated\n",
       "SP.POP.AG03.FE.IN     Age population, age 03, female, interpolated\n",
       "SP.POP.AG03.MA.IN     Age population, age 03, male, interpolated\n",
       "SP.POP.AG04.FE.IN     Age population, age 04, female, interpolated\n",
       "SP.POP.AG04.MA.IN     Age population, age 04, male, interpolated\n",
       "SP.POP.AG05.FE.IN     Age population, age 05, female, interpolated\n",
       "SP.POP.AG05.MA.IN     Age population, age 05, male, interpolated\n",
       "SP.POP.AG06.FE.IN     Age population, age 06, female, interpolated\n",
       "SP.POP.AG06.MA.IN     Age population, age 06, male, interpolated\n",
       "SP.POP.AG07.FE.IN     Age population, age 07, female, interpolated\n",
       "SP.POP.AG07.MA.IN     Age population, age 07, male, interpolated\n",
       "SP.POP.AG08.FE.IN     Age population, age 08, female, interpolated\n",
       "SP.POP.AG08.MA.IN     Age population, age 08, male, interpolated\n",
       "SP.POP.AG09.FE.IN     Age population, age 09, female, interpolated\n",
       "SP.POP.AG09.MA.IN     Age population, age 09, male, interpolated\n",
       "SP.POP.AG10.FE.IN     Age population, age 10, female, interpolated\n",
       "SP.POP.AG10.MA.IN     Age population, age 10, male, interpolated\n",
       "SP.POP.AG11.FE.IN     Age population, age 11, female, interpolated\n",
       "SP.POP.AG11.MA.IN     Age population, age 11, male, interpolated\n",
       "SP.POP.AG12.FE.IN     Age population, age 12, female, interpolated\n",
       "SP.POP.AG12.MA.IN     Age population, age 12, male, interpolated\n",
       "SP.POP.AG13.FE.IN     Age population, age 13, female, interpolated\n",
       "SP.POP.AG13.MA.IN     Age population, age 13, male, interpolated\n",
       "SP.POP.AG14.FE.IN     Age population, age 14, female, interpolated\n",
       "SP.POP.AG14.MA.IN     Age population, age 14, male, interpolated\n",
       "SP.POP.AG15.FE.IN     Age population, age 15, female, interpolated\n",
       "SP.POP.AG15.MA.IN     Age population, age 15, male, interpolated\n",
       "SP.POP.AG16.FE.IN     Age population, age 16, female, interpolated\n",
       "SP.POP.AG16.MA.IN     Age population, age 16, male, interpolated\n",
       "SP.POP.AG17.FE.IN     Age population, age 17, female, interpolated\n",
       "SP.POP.AG17.MA.IN     Age population, age 17, male, interpolated\n",
       "SP.POP.AG18.FE.IN     Age population, age 18, female, interpolated\n",
       "SP.POP.AG18.MA.IN     Age population, age 18, male, interpolated\n",
       "SP.POP.AG19.FE.IN     Age population, age 19, female, interpolated\n",
       "SP.POP.AG19.MA.IN     Age population, age 19, male, interpolated\n",
       "SP.POP.AG20.FE.IN     Age population, age 20, female, interpolated\n",
       "SP.POP.AG20.MA.IN     Age population, age 20, male, interpolated\n",
       "SP.POP.AG21.FE.IN     Age population, age 21, female, interpolated\n",
       "SP.POP.AG21.MA.IN     Age population, age 21, male, interpolated\n",
       "SP.POP.AG22.FE.IN     Age population, age 22, female, interpolated\n",
       "SP.POP.AG22.MA.IN     Age population, age 22, male, interpolated\n",
       "SP.POP.AG23.FE.IN     Age population, age 23, female, interpolated\n",
       "SP.POP.AG23.MA.IN     Age population, age 23, male, interpolated\n",
       "SP.POP.AG24.FE.IN     Age population, age 24, female, interpolated\n",
       "SP.POP.AG24.MA.IN     Age population, age 24, male, interpolated\n",
       "SP.POP.AG25.FE.IN     Age population, age 25, female, interpolated\n",
       "SP.POP.AG25.MA.IN     Age population, age 25, male, interpolated\n",
       "SP.POP.BRTH.MF        Sex ratio at birth (male births per female births)\n",
       "SP.POP.DPND           Age dependency ratio (% of working-age population)\n",
       "SP.POP.DPND.OL        Age dependency ratio, old\n",
       "SP.POP.DPND.YG        Age dependency ratio, young\n",
       "SP.POP.GROW           Population growth (annual %)\n",
       "SP.POP.TOTL           Population, total\n",
       "SP.POP.TOTL.FE.IN     Population, female\n",
       "SP.POP.TOTL.FE.ZS     Population, female (% of total population)\n",
       "SP.POP.TOTL.MA.IN     Population, male\n",
       "SP.POP.TOTL.MA.ZS     Population, male (% of total population)\n",
       "SP.REG.BRTH.FE.ZS     Completeness of birth registration, female (%)\n",
       "SP.REG.BRTH.MA.ZS     Completeness of birth registration, male (%)\n",
       "SP.REG.BRTH.RU.ZS     Completeness of birth registration, rural (%)\n",
       "SP.REG.BRTH.UR.ZS     Completeness of birth registration, urban (%)\n",
       "SP.REG.BRTH.ZS        Completeness of birth registration (%)\n",
       "SP.REG.DTHS.ZS        Completeness of death registration with cause-of-death information (%)\n",
       "SP.RUR.TOTL           Rural population\n",
       "SP.RUR.TOTL.ZG        Rural population growth (annual %)\n",
       "SP.RUR.TOTL.ZS        Rural population (% of total population)\n",
       "SP.URB.GROW           Urban population growth (annual %)\n",
       "SP.URB.TOTL           Urban population\n",
       "SP.URB.TOTL.IN.ZS     Urban population (% of total population)\n",
       "SP.UWT.TFRT           Unmet need for contraception (% of married women ages 15-49)\n",
       "                      441 elements"
      ]
     },
     "execution_count": 18,
     "metadata": {},
     "output_type": "execute_result"
    }
   ],
   "source": [
    "# The identification number of the database is 16 (441 elements)\n",
    "\n",
    "wb.series.info(db = 16)"
   ]
  },
  {
   "cell_type": "markdown",
   "id": "64b1d6b1",
   "metadata": {},
   "source": [
    "                  We shall be using 'Health Nutrition and Population Statistics' database i.e., db = 16 \n",
    "                                                   and obtain insights."
   ]
  },
  {
   "cell_type": "markdown",
   "id": "da4bc430",
   "metadata": {},
   "source": [
    "### Importing DATA"
   ]
  },
  {
   "cell_type": "code",
   "execution_count": 19,
   "id": "3e9d0c11",
   "metadata": {},
   "outputs": [
    {
     "name": "stdout",
     "output_type": "stream",
     "text": [
      "Help on function DataFrame in module wbgapi.data:\n",
      "\n",
      "DataFrame(series, economy='all', time='all', index=None, columns=None, mrv=None, mrnev=None, skipBlanks=False, labels=False, skipAggs=False, numericTimeKeys=False, timeColumns=False, params={}, db=None, **dimensions)\n",
      "    Retrieve a 2-dimensional pandas dataframe. \n",
      "    \n",
      "    Arguments:\n",
      "        series:             a series identifier or list-like, e.g., SP.POP.TOTL\n",
      "    \n",
      "        economy:            an economy identifier or list-like, e.g., 'BRA' or ['USA', 'CAN', 'MEX']\n",
      "    \n",
      "        time:               a time identifier or list-like, e.g., 'YR2015' or range(2010,2020).\n",
      "                            Both element keys and values are acceptable\n",
      "    \n",
      "        index:              name or list of dimensions for the DataFrame's index, e.g., 'economy'. If None then the function\n",
      "                            will define the index based on your request. Note: to get a dataframe with no index\n",
      "                            (i.e., 0-based integers) call `reset_index()` with on the return value of this function.\n",
      "    \n",
      "        columns:            name of the dimension for the DataFrame's columns, e.g., 'series'. If None then the function\n",
      "                            will define columns based on your request.\n",
      "    \n",
      "        mrv:                return only the specified number of most recent values (same time period for all economies)\n",
      "    \n",
      "        mrnev:              return only the specified number of non-empty most recent values (time period varies)\n",
      "    \n",
      "        skipBlanks:         skip empty observations\n",
      "    \n",
      "        labels:             include the dimension name for rows\n",
      "    \n",
      "        skipAggs:           skip aggregates\n",
      "    \n",
      "        numericTimeKeys:    store the time object by value (e.g., 2014) instead of key ('YR2014') if value is numeric\n",
      "    \n",
      "        timeColumns:        add extra columns to show the time dimension for each series/economy\n",
      "                            If 'auto' then the function will guess based on other parameters\n",
      "    \n",
      "        params:             extra query parameters to pass to the API\n",
      "    \n",
      "        dimensions:         extra dimensions, database specific (e.g., version)\n",
      "        \n",
      "    Returns:\n",
      "        a pandas DataFrame\n",
      "    \n",
      "    Examples:\n",
      "        # 5 years of population data (with economy names)\n",
      "        wbgapi.data.DataFrame('SP.POP.TOTL', time=range(2010,2020),labels=True)\n",
      "    \n",
      "        # Most recent poverty and income data for LAC\n",
      "        wbgapi.data.DataFrame(['SI.POV.NAHC', 'NY.GDP.PCAP.CD'], economy=wb.region.members('LAC'),mrnev=1,timeColumns=True)\n",
      "    \n",
      "        # Fetch most recent CO2 emissions for each country and merge its income group\n",
      "        wbgapi.data.DataFrame('EN.ATM.CO2E.PC',mrnev=1).join(wbgapi.economy.DataFrame()['incomeLevel'])\n",
      "    \n",
      "        # Top 10 emitters per capita\n",
      "        wbgapi.data.DataFrame('EN.ATM.CO2E.PC',mrnev=1,labels=True).sort_values('EN.ATM.CO2E.PC',ascending=False).head(10)\n",
      "    \n",
      "    Notes:\n",
      "        timeColumns currently defaults to False so that the default column composition is consistent. This may change to 'auto'\n",
      "        at some point, so that mrv behavior is more intuitive for data discovery\n",
      "\n"
     ]
    }
   ],
   "source": [
    "#For better understanding while creating dataframe\n",
    "\n",
    "help(wb.data.DataFrame)"
   ]
  },
  {
   "cell_type": "code",
   "execution_count": 20,
   "id": "96a831a5",
   "metadata": {},
   "outputs": [
    {
     "data": {
      "text/html": [
       "<div>\n",
       "<style scoped>\n",
       "    .dataframe tbody tr th:only-of-type {\n",
       "        vertical-align: middle;\n",
       "    }\n",
       "\n",
       "    .dataframe tbody tr th {\n",
       "        vertical-align: top;\n",
       "    }\n",
       "\n",
       "    .dataframe thead th {\n",
       "        text-align: right;\n",
       "    }\n",
       "</style>\n",
       "<table border=\"1\" class=\"dataframe\">\n",
       "  <thead>\n",
       "    <tr style=\"text-align: right;\">\n",
       "      <th></th>\n",
       "      <th>Country</th>\n",
       "      <th>YR2011</th>\n",
       "      <th>YR2013</th>\n",
       "      <th>YR2015</th>\n",
       "      <th>YR2017</th>\n",
       "      <th>YR2019</th>\n",
       "      <th>YR2021</th>\n",
       "    </tr>\n",
       "    <tr>\n",
       "      <th>economy</th>\n",
       "      <th></th>\n",
       "      <th></th>\n",
       "      <th></th>\n",
       "      <th></th>\n",
       "      <th></th>\n",
       "      <th></th>\n",
       "      <th></th>\n",
       "    </tr>\n",
       "  </thead>\n",
       "  <tbody>\n",
       "    <tr>\n",
       "      <th>NLD</th>\n",
       "      <td>Netherlands</td>\n",
       "      <td>16693074.0</td>\n",
       "      <td>16804432.0</td>\n",
       "      <td>16939923.0</td>\n",
       "      <td>17131296.0</td>\n",
       "      <td>17344874.0</td>\n",
       "      <td>17533405.0</td>\n",
       "    </tr>\n",
       "    <tr>\n",
       "      <th>GBR</th>\n",
       "      <td>United Kingdom</td>\n",
       "      <td>63258810.0</td>\n",
       "      <td>64128273.0</td>\n",
       "      <td>65116219.0</td>\n",
       "      <td>66058859.0</td>\n",
       "      <td>66836327.0</td>\n",
       "      <td>67326569.0</td>\n",
       "    </tr>\n",
       "    <tr>\n",
       "      <th>DEU</th>\n",
       "      <td>Germany</td>\n",
       "      <td>80274983.0</td>\n",
       "      <td>80645605.0</td>\n",
       "      <td>81686611.0</td>\n",
       "      <td>82657002.0</td>\n",
       "      <td>83092962.0</td>\n",
       "      <td>83129285.0</td>\n",
       "    </tr>\n",
       "    <tr>\n",
       "      <th>FRA</th>\n",
       "      <td>France</td>\n",
       "      <td>65342789.0</td>\n",
       "      <td>65998685.0</td>\n",
       "      <td>66548272.0</td>\n",
       "      <td>66918020.0</td>\n",
       "      <td>67248926.0</td>\n",
       "      <td>67499343.0</td>\n",
       "    </tr>\n",
       "    <tr>\n",
       "      <th>LVA</th>\n",
       "      <td>Latvia</td>\n",
       "      <td>2059709.0</td>\n",
       "      <td>2012647.0</td>\n",
       "      <td>1977527.0</td>\n",
       "      <td>1942248.0</td>\n",
       "      <td>1913822.0</td>\n",
       "      <td>1883162.0</td>\n",
       "    </tr>\n",
       "  </tbody>\n",
       "</table>\n",
       "</div>"
      ],
      "text/plain": [
       "                Country      YR2011      YR2013      YR2015      YR2017  \\\n",
       "economy                                                                   \n",
       "NLD         Netherlands  16693074.0  16804432.0  16939923.0  17131296.0   \n",
       "GBR      United Kingdom  63258810.0  64128273.0  65116219.0  66058859.0   \n",
       "DEU             Germany  80274983.0  80645605.0  81686611.0  82657002.0   \n",
       "FRA              France  65342789.0  65998685.0  66548272.0  66918020.0   \n",
       "LVA              Latvia   2059709.0   2012647.0   1977527.0   1942248.0   \n",
       "\n",
       "             YR2019      YR2021  \n",
       "economy                          \n",
       "NLD      17344874.0  17533405.0  \n",
       "GBR      66836327.0  67326569.0  \n",
       "DEU      83092962.0  83129285.0  \n",
       "FRA      67248926.0  67499343.0  \n",
       "LVA       1913822.0   1883162.0  "
      ]
     },
     "execution_count": 20,
     "metadata": {},
     "output_type": "execute_result"
    }
   ],
   "source": [
    "# fetching the population of Latvia, France, Germany, United Kingdom and Netherlands \n",
    "\n",
    "population = wb.data.DataFrame('SP.POP.TOTL',['LVA', 'FRA', 'DEU', 'GBR','NLD'], range(2011,2023,2), labels=True)\n",
    "\n",
    "population"
   ]
  },
  {
   "cell_type": "markdown",
   "id": "a7c489b8",
   "metadata": {},
   "source": [
    "            The Total Population of Latvia as in 2021 is 1,883,162 "
   ]
  },
  {
   "cell_type": "markdown",
   "id": "d61862ed",
   "metadata": {},
   "source": [
    "##### Plotting a Line graph for the year 2021"
   ]
  },
  {
   "cell_type": "code",
   "execution_count": 21,
   "id": "16c17679",
   "metadata": {},
   "outputs": [
    {
     "data": {
      "text/plain": [
       "<AxesSubplot:title={'center':'Total Population'}, xlabel='Country', ylabel='per 10 million'>"
      ]
     },
     "execution_count": 21,
     "metadata": {},
     "output_type": "execute_result"
    },
    {
     "data": {
      "image/png": "[encoded data removed]",
      "text/plain": [
       "<Figure size 864x504 with 1 Axes>"
      ]
     },
     "metadata": {
      "needs_background": "light"
     },
     "output_type": "display_data"
    }
   ],
   "source": [
    "wb.data.DataFrame('SP.POP.TOTL',['LVA', 'FRA', 'DEU', 'GBR','NLD'],mrnev=1).plot(figsize =(12,7),xlabel = 'Country', \n",
    "                                                                                 ylabel = 'per 10 million', \n",
    "                                                                                 title ='Total Population' )\n"
   ]
  },
  {
   "cell_type": "markdown",
   "id": "01297dac",
   "metadata": {},
   "source": [
    "            As Per the Graph, Highest Population is in Germany and Lowest in Latvia (as of 2021)"
   ]
  },
  {
   "cell_type": "code",
   "execution_count": 22,
   "id": "4274c2d7",
   "metadata": {
    "scrolled": true
   },
   "outputs": [
    {
     "data": {
      "text/html": [
       "<div>\n",
       "<style scoped>\n",
       "    .dataframe tbody tr th:only-of-type {\n",
       "        vertical-align: middle;\n",
       "    }\n",
       "\n",
       "    .dataframe tbody tr th {\n",
       "        vertical-align: top;\n",
       "    }\n",
       "\n",
       "    .dataframe thead th {\n",
       "        text-align: right;\n",
       "    }\n",
       "</style>\n",
       "<table border=\"1\" class=\"dataframe\">\n",
       "  <thead>\n",
       "    <tr style=\"text-align: right;\">\n",
       "      <th></th>\n",
       "      <th>SP.POP.TOTL.FE.IN</th>\n",
       "      <th>SP.POP.TOTL.MA.IN</th>\n",
       "      <th>capitalCity</th>\n",
       "    </tr>\n",
       "    <tr>\n",
       "      <th>economy</th>\n",
       "      <th></th>\n",
       "      <th></th>\n",
       "      <th></th>\n",
       "    </tr>\n",
       "  </thead>\n",
       "  <tbody>\n",
       "    <tr>\n",
       "      <th>DEU</th>\n",
       "      <td>42010590.0</td>\n",
       "      <td>41118695.0</td>\n",
       "      <td>Berlin</td>\n",
       "    </tr>\n",
       "    <tr>\n",
       "      <th>FRA</th>\n",
       "      <td>34833461.0</td>\n",
       "      <td>32665882.0</td>\n",
       "      <td>Paris</td>\n",
       "    </tr>\n",
       "    <tr>\n",
       "      <th>GBR</th>\n",
       "      <td>34045551.0</td>\n",
       "      <td>33281018.0</td>\n",
       "      <td>London</td>\n",
       "    </tr>\n",
       "    <tr>\n",
       "      <th>LVA</th>\n",
       "      <td>1014633.0</td>\n",
       "      <td>868529.0</td>\n",
       "      <td>Riga</td>\n",
       "    </tr>\n",
       "    <tr>\n",
       "      <th>NLD</th>\n",
       "      <td>8794772.0</td>\n",
       "      <td>8738633.0</td>\n",
       "      <td>Amsterdam</td>\n",
       "    </tr>\n",
       "  </tbody>\n",
       "</table>\n",
       "</div>"
      ],
      "text/plain": [
       "         SP.POP.TOTL.FE.IN  SP.POP.TOTL.MA.IN capitalCity\n",
       "economy                                                  \n",
       "DEU             42010590.0         41118695.0      Berlin\n",
       "FRA             34833461.0         32665882.0       Paris\n",
       "GBR             34045551.0         33281018.0      London\n",
       "LVA              1014633.0           868529.0        Riga\n",
       "NLD              8794772.0          8738633.0   Amsterdam"
      ]
     },
     "execution_count": 22,
     "metadata": {},
     "output_type": "execute_result"
    }
   ],
   "source": [
    "tp = wb.data.DataFrame(['SP.POP.TOTL.FE.IN','SP.POP.TOTL.MA.IN'],\n",
    "                  ['LVA', 'FRA', 'DEU', 'GBR','NLD'], mrnev=1).join(wb.economy.DataFrame()['capitalCity'])\n",
    "\n",
    "tp"
   ]
  },
  {
   "cell_type": "markdown",
   "id": "91911455",
   "metadata": {},
   "source": [
    "               **Female**       **Male**"
   ]
  },
  {
   "cell_type": "markdown",
   "id": "71c8d9e8",
   "metadata": {},
   "source": [
    "#### Finding the Literacy rate of Youth from the age of 15-24 years (most recent values entered in the WORLD BANK DATABASE)"
   ]
  },
  {
   "cell_type": "code",
   "execution_count": 23,
   "id": "9967ba93",
   "metadata": {
    "scrolled": true
   },
   "outputs": [
    {
     "data": {
      "text/html": [
       "<div>\n",
       "<style scoped>\n",
       "    .dataframe tbody tr th:only-of-type {\n",
       "        vertical-align: middle;\n",
       "    }\n",
       "\n",
       "    .dataframe tbody tr th {\n",
       "        vertical-align: top;\n",
       "    }\n",
       "\n",
       "    .dataframe thead th {\n",
       "        text-align: right;\n",
       "    }\n",
       "</style>\n",
       "<table border=\"1\" class=\"dataframe\">\n",
       "  <thead>\n",
       "    <tr style=\"text-align: right;\">\n",
       "      <th></th>\n",
       "      <th>SE.ADT.1524.LT.ZS</th>\n",
       "      <th>SE.ADT.1524.LT.ZS:T</th>\n",
       "    </tr>\n",
       "    <tr>\n",
       "      <th>economy</th>\n",
       "      <th></th>\n",
       "      <th></th>\n",
       "    </tr>\n",
       "  </thead>\n",
       "  <tbody>\n",
       "    <tr>\n",
       "      <th>UZB</th>\n",
       "      <td>99.999924</td>\n",
       "      <td>2019</td>\n",
       "    </tr>\n",
       "    <tr>\n",
       "      <th>LVA</th>\n",
       "      <td>99.820000</td>\n",
       "      <td>2018</td>\n",
       "    </tr>\n",
       "    <tr>\n",
       "      <th>POL</th>\n",
       "      <td>99.796829</td>\n",
       "      <td>2008</td>\n",
       "    </tr>\n",
       "    <tr>\n",
       "      <th>CHN</th>\n",
       "      <td>99.783600</td>\n",
       "      <td>2018</td>\n",
       "    </tr>\n",
       "    <tr>\n",
       "      <th>ESP</th>\n",
       "      <td>99.621422</td>\n",
       "      <td>2020</td>\n",
       "    </tr>\n",
       "    <tr>\n",
       "      <th>BTN</th>\n",
       "      <td>93.090630</td>\n",
       "      <td>2017</td>\n",
       "    </tr>\n",
       "    <tr>\n",
       "      <th>IND</th>\n",
       "      <td>91.664040</td>\n",
       "      <td>2018</td>\n",
       "    </tr>\n",
       "  </tbody>\n",
       "</table>\n",
       "</div>"
      ],
      "text/plain": [
       "         SE.ADT.1524.LT.ZS SE.ADT.1524.LT.ZS:T\n",
       "economy                                       \n",
       "UZB              99.999924                2019\n",
       "LVA              99.820000                2018\n",
       "POL              99.796829                2008\n",
       "CHN              99.783600                2018\n",
       "ESP              99.621422                2020\n",
       "BTN              93.090630                2017\n",
       "IND              91.664040                2018"
      ]
     },
     "execution_count": 23,
     "metadata": {},
     "output_type": "execute_result"
    }
   ],
   "source": [
    "pd.set_option('display.max_rows',None)\n",
    "\n",
    "wb.data.DataFrame('SE.ADT.1524.LT.ZS',['LVA', 'ESP', 'UZB','CHN','IND','USA','POL','BTN','NEP'], \n",
    "                  mrnev=1, timeColumns=True,skipBlanks=True).sort_values('SE.ADT.1524.LT.ZS',ascending=False)"
   ]
  },
  {
   "cell_type": "markdown",
   "id": "c5418ef2",
   "metadata": {},
   "source": [
    "    Youth Literacy is Highest in UZB (Uzbekistan) followed by LVA (Latvia) and Lowest in IND (India) among 9 countries"
   ]
  },
  {
   "cell_type": "markdown",
   "id": "0d747011",
   "metadata": {},
   "source": [
    "#### Lowest Youth Literacy rate as per the WORLD BANK DATABASE"
   ]
  },
  {
   "cell_type": "code",
   "execution_count": 24,
   "id": "adf09a59",
   "metadata": {},
   "outputs": [
    {
     "data": {
      "text/html": [
       "<div>\n",
       "<style scoped>\n",
       "    .dataframe tbody tr th:only-of-type {\n",
       "        vertical-align: middle;\n",
       "    }\n",
       "\n",
       "    .dataframe tbody tr th {\n",
       "        vertical-align: top;\n",
       "    }\n",
       "\n",
       "    .dataframe thead th {\n",
       "        text-align: right;\n",
       "    }\n",
       "</style>\n",
       "<table border=\"1\" class=\"dataframe\">\n",
       "  <thead>\n",
       "    <tr style=\"text-align: right;\">\n",
       "      <th></th>\n",
       "      <th>SE.ADT.1524.LT.ZS</th>\n",
       "      <th>SE.ADT.1524.LT.ZS:T</th>\n",
       "    </tr>\n",
       "    <tr>\n",
       "      <th>economy</th>\n",
       "      <th></th>\n",
       "      <th></th>\n",
       "    </tr>\n",
       "  </thead>\n",
       "  <tbody>\n",
       "    <tr>\n",
       "      <th>SOM</th>\n",
       "      <td>13.140000</td>\n",
       "      <td>1972</td>\n",
       "    </tr>\n",
       "    <tr>\n",
       "      <th>TCD</th>\n",
       "      <td>30.791611</td>\n",
       "      <td>2016</td>\n",
       "    </tr>\n",
       "    <tr>\n",
       "      <th>CAF</th>\n",
       "      <td>38.268650</td>\n",
       "      <td>2018</td>\n",
       "    </tr>\n",
       "    <tr>\n",
       "      <th>NER</th>\n",
       "      <td>43.459999</td>\n",
       "      <td>2018</td>\n",
       "    </tr>\n",
       "    <tr>\n",
       "      <th>MLI</th>\n",
       "      <td>46.157341</td>\n",
       "      <td>2020</td>\n",
       "    </tr>\n",
       "    <tr>\n",
       "      <th>SSD</th>\n",
       "      <td>47.900959</td>\n",
       "      <td>2018</td>\n",
       "    </tr>\n",
       "    <tr>\n",
       "      <th>GIN</th>\n",
       "      <td>53.940521</td>\n",
       "      <td>2018</td>\n",
       "    </tr>\n",
       "    <tr>\n",
       "      <th>LBR</th>\n",
       "      <td>55.398701</td>\n",
       "      <td>2017</td>\n",
       "    </tr>\n",
       "    <tr>\n",
       "      <th>AFG</th>\n",
       "      <td>55.929401</td>\n",
       "      <td>2021</td>\n",
       "    </tr>\n",
       "    <tr>\n",
       "      <th>BFA</th>\n",
       "      <td>58.873981</td>\n",
       "      <td>2018</td>\n",
       "    </tr>\n",
       "  </tbody>\n",
       "</table>\n",
       "</div>"
      ],
      "text/plain": [
       "         SE.ADT.1524.LT.ZS SE.ADT.1524.LT.ZS:T\n",
       "economy                                       \n",
       "SOM              13.140000                1972\n",
       "TCD              30.791611                2016\n",
       "CAF              38.268650                2018\n",
       "NER              43.459999                2018\n",
       "MLI              46.157341                2020\n",
       "SSD              47.900959                2018\n",
       "GIN              53.940521                2018\n",
       "LBR              55.398701                2017\n",
       "AFG              55.929401                2021\n",
       "BFA              58.873981                2018"
      ]
     },
     "execution_count": 24,
     "metadata": {},
     "output_type": "execute_result"
    }
   ],
   "source": [
    "wb.data.DataFrame('SE.ADT.1524.LT.ZS',\n",
    "                      mrnev=1, timeColumns=True,skipBlanks=True).sort_values('SE.ADT.1524.LT.ZS',ascending= True).head(10)"
   ]
  },
  {
   "cell_type": "markdown",
   "id": "7804f144",
   "metadata": {},
   "source": [
    "As per the database of WORLD BANK, 10 Lowest **Youth Literacy Rate** is given as above along with the year updated, \n",
    "\n",
    "Index\n",
    "\n",
    "- Somalia\n",
    "- Chad\n",
    "- Central African Republic\n",
    "- Nigeria\n",
    "- Mali \n",
    "- South Sudan\n",
    "- Guinea\n",
    "- Liberia\n",
    "- Afghanistan\n",
    "- Burkina Faso"
   ]
  },
  {
   "cell_type": "markdown",
   "id": "b4dc51ad",
   "metadata": {},
   "source": [
    "                      Sorting countries according to the most number of deaths, ages (20-24)"
   ]
  },
  {
   "cell_type": "code",
   "execution_count": 25,
   "id": "9d6121da",
   "metadata": {
    "scrolled": false
   },
   "outputs": [
    {
     "data": {
      "text/html": [
       "<div>\n",
       "<style scoped>\n",
       "    .dataframe tbody tr th:only-of-type {\n",
       "        vertical-align: middle;\n",
       "    }\n",
       "\n",
       "    .dataframe tbody tr th {\n",
       "        vertical-align: top;\n",
       "    }\n",
       "\n",
       "    .dataframe thead th {\n",
       "        text-align: right;\n",
       "    }\n",
       "</style>\n",
       "<table border=\"1\" class=\"dataframe\">\n",
       "  <thead>\n",
       "    <tr style=\"text-align: right;\">\n",
       "      <th></th>\n",
       "      <th>SH.DTH.2024</th>\n",
       "      <th>SH.DTH.2024:T</th>\n",
       "    </tr>\n",
       "    <tr>\n",
       "      <th>economy</th>\n",
       "      <th></th>\n",
       "      <th></th>\n",
       "    </tr>\n",
       "  </thead>\n",
       "  <tbody>\n",
       "    <tr>\n",
       "      <th>GBR</th>\n",
       "      <td>1567.0</td>\n",
       "      <td>2020</td>\n",
       "    </tr>\n",
       "    <tr>\n",
       "      <th>FRA</th>\n",
       "      <td>1402.0</td>\n",
       "      <td>2020</td>\n",
       "    </tr>\n",
       "    <tr>\n",
       "      <th>DEU</th>\n",
       "      <td>1340.0</td>\n",
       "      <td>2020</td>\n",
       "    </tr>\n",
       "    <tr>\n",
       "      <th>POL</th>\n",
       "      <td>1120.0</td>\n",
       "      <td>2020</td>\n",
       "    </tr>\n",
       "    <tr>\n",
       "      <th>ITA</th>\n",
       "      <td>798.0</td>\n",
       "      <td>2020</td>\n",
       "    </tr>\n",
       "    <tr>\n",
       "      <th>ESP</th>\n",
       "      <td>574.0</td>\n",
       "      <td>2020</td>\n",
       "    </tr>\n",
       "    <tr>\n",
       "      <th>NLD</th>\n",
       "      <td>286.0</td>\n",
       "      <td>2020</td>\n",
       "    </tr>\n",
       "    <tr>\n",
       "      <th>SWE</th>\n",
       "      <td>247.0</td>\n",
       "      <td>2020</td>\n",
       "    </tr>\n",
       "    <tr>\n",
       "      <th>CZE</th>\n",
       "      <td>211.0</td>\n",
       "      <td>2020</td>\n",
       "    </tr>\n",
       "    <tr>\n",
       "      <th>CHE</th>\n",
       "      <td>152.0</td>\n",
       "      <td>2020</td>\n",
       "    </tr>\n",
       "    <tr>\n",
       "      <th>LTU</th>\n",
       "      <td>85.0</td>\n",
       "      <td>2020</td>\n",
       "    </tr>\n",
       "    <tr>\n",
       "      <th>LVA</th>\n",
       "      <td>50.0</td>\n",
       "      <td>2020</td>\n",
       "    </tr>\n",
       "  </tbody>\n",
       "</table>\n",
       "</div>"
      ],
      "text/plain": [
       "         SH.DTH.2024 SH.DTH.2024:T\n",
       "economy                           \n",
       "GBR           1567.0          2020\n",
       "FRA           1402.0          2020\n",
       "DEU           1340.0          2020\n",
       "POL           1120.0          2020\n",
       "ITA            798.0          2020\n",
       "ESP            574.0          2020\n",
       "NLD            286.0          2020\n",
       "SWE            247.0          2020\n",
       "CZE            211.0          2020\n",
       "CHE            152.0          2020\n",
       "LTU             85.0          2020\n",
       "LVA             50.0          2020"
      ]
     },
     "execution_count": 25,
     "metadata": {},
     "output_type": "execute_result"
    }
   ],
   "source": [
    "cd = wb.data.DataFrame('SH.DTH.2024',['LVA', 'FRA', 'DEU', 'GBR','NLD', 'ESP','CHE', 'CZE','ITA', 'LTU','POL','SWE'], \n",
    "                  mrnev=1, timeColumns=True).sort_values('SH.DTH.2024', ascending=False).head(12)\n",
    "\n",
    "cd"
   ]
  },
  {
   "cell_type": "markdown",
   "id": "8ce34f93",
   "metadata": {},
   "source": [
    "            United Kindom has the most number of youth deaths and Latvia has the lowest as of 2020"
   ]
  },
  {
   "cell_type": "code",
   "execution_count": 26,
   "id": "75992fde",
   "metadata": {},
   "outputs": [
    {
     "data": {
      "text/plain": [
       "<AxesSubplot:title={'center':'Youth Deaths'}, xlabel='Country', ylabel='Count'>"
      ]
     },
     "execution_count": 26,
     "metadata": {},
     "output_type": "execute_result"
    },
    {
     "data": {
      "image/png": "[encoded data removed]",
      "text/plain": [
       "<Figure size 1080x504 with 1 Axes>"
      ]
     },
     "metadata": {
      "needs_background": "light"
     },
     "output_type": "display_data"
    }
   ],
   "source": [
    "# plotting \n",
    "cd.plot(figsize =(15,7), xlabel = 'Country', color = 'dodgerblue', title = 'Youth Deaths', ylabel = 'Count')"
   ]
  },
  {
   "cell_type": "markdown",
   "id": "f5d27bb8",
   "metadata": {},
   "source": [
    "##### Co2 emmiters per capita as of 2019"
   ]
  },
  {
   "cell_type": "code",
   "execution_count": 27,
   "id": "39633552",
   "metadata": {
    "scrolled": false
   },
   "outputs": [
    {
     "data": {
      "text/html": [
       "<div>\n",
       "<style scoped>\n",
       "    .dataframe tbody tr th:only-of-type {\n",
       "        vertical-align: middle;\n",
       "    }\n",
       "\n",
       "    .dataframe tbody tr th {\n",
       "        vertical-align: top;\n",
       "    }\n",
       "\n",
       "    .dataframe thead th {\n",
       "        text-align: right;\n",
       "    }\n",
       "</style>\n",
       "<table border=\"1\" class=\"dataframe\">\n",
       "  <thead>\n",
       "    <tr style=\"text-align: right;\">\n",
       "      <th></th>\n",
       "      <th>EN.ATM.CO2E.PC</th>\n",
       "      <th>capitalCity</th>\n",
       "    </tr>\n",
       "    <tr>\n",
       "      <th>economy</th>\n",
       "      <th></th>\n",
       "      <th></th>\n",
       "    </tr>\n",
       "  </thead>\n",
       "  <tbody>\n",
       "    <tr>\n",
       "      <th>CHE</th>\n",
       "      <td>4.359041</td>\n",
       "      <td>Bern</td>\n",
       "    </tr>\n",
       "    <tr>\n",
       "      <th>CZE</th>\n",
       "      <td>9.022786</td>\n",
       "      <td>Prague</td>\n",
       "    </tr>\n",
       "    <tr>\n",
       "      <th>DEU</th>\n",
       "      <td>7.911621</td>\n",
       "      <td>Berlin</td>\n",
       "    </tr>\n",
       "    <tr>\n",
       "      <th>ESP</th>\n",
       "      <td>5.091351</td>\n",
       "      <td>Madrid</td>\n",
       "    </tr>\n",
       "    <tr>\n",
       "      <th>FRA</th>\n",
       "      <td>4.468770</td>\n",
       "      <td>Paris</td>\n",
       "    </tr>\n",
       "    <tr>\n",
       "      <th>GBR</th>\n",
       "      <td>5.220514</td>\n",
       "      <td>London</td>\n",
       "    </tr>\n",
       "    <tr>\n",
       "      <th>ITA</th>\n",
       "      <td>5.311315</td>\n",
       "      <td>Rome</td>\n",
       "    </tr>\n",
       "    <tr>\n",
       "      <th>LTU</th>\n",
       "      <td>4.198076</td>\n",
       "      <td>Vilnius</td>\n",
       "    </tr>\n",
       "    <tr>\n",
       "      <th>LVA</th>\n",
       "      <td>3.955436</td>\n",
       "      <td>Riga</td>\n",
       "    </tr>\n",
       "    <tr>\n",
       "      <th>NLD</th>\n",
       "      <td>8.437075</td>\n",
       "      <td>Amsterdam</td>\n",
       "    </tr>\n",
       "    <tr>\n",
       "      <th>POL</th>\n",
       "      <td>7.773642</td>\n",
       "      <td>Warsaw</td>\n",
       "    </tr>\n",
       "    <tr>\n",
       "      <th>SWE</th>\n",
       "      <td>3.405038</td>\n",
       "      <td>Stockholm</td>\n",
       "    </tr>\n",
       "  </tbody>\n",
       "</table>\n",
       "</div>"
      ],
      "text/plain": [
       "         EN.ATM.CO2E.PC capitalCity\n",
       "economy                            \n",
       "CHE            4.359041        Bern\n",
       "CZE            9.022786      Prague\n",
       "DEU            7.911621      Berlin\n",
       "ESP            5.091351      Madrid\n",
       "FRA            4.468770       Paris\n",
       "GBR            5.220514      London\n",
       "ITA            5.311315        Rome\n",
       "LTU            4.198076     Vilnius\n",
       "LVA            3.955436        Riga\n",
       "NLD            8.437075   Amsterdam\n",
       "POL            7.773642      Warsaw\n",
       "SWE            3.405038   Stockholm"
      ]
     },
     "execution_count": 27,
     "metadata": {},
     "output_type": "execute_result"
    }
   ],
   "source": [
    " wb.data.DataFrame('EN.ATM.CO2E.PC',['LVA', 'FRA', 'DEU', 'GBR','NLD', 'ESP','CHE', 'CZE','ITA', 'LTU','POL','SWE'],\n",
    "                   mrnev=1).join(wb.economy.DataFrame()['capitalCity'])\n",
    "    "
   ]
  },
  {
   "cell_type": "markdown",
   "id": "30fe8834",
   "metadata": {},
   "source": [
    "### Birthrate and Deathrate, crude (per 1000 person) as of 2020"
   ]
  },
  {
   "cell_type": "code",
   "execution_count": 28,
   "id": "f2b56ce8",
   "metadata": {},
   "outputs": [
    {
     "data": {
      "text/html": [
       "<div>\n",
       "<style scoped>\n",
       "    .dataframe tbody tr th:only-of-type {\n",
       "        vertical-align: middle;\n",
       "    }\n",
       "\n",
       "    .dataframe tbody tr th {\n",
       "        vertical-align: top;\n",
       "    }\n",
       "\n",
       "    .dataframe thead th {\n",
       "        text-align: right;\n",
       "    }\n",
       "</style>\n",
       "<table border=\"1\" class=\"dataframe\">\n",
       "  <thead>\n",
       "    <tr style=\"text-align: right;\">\n",
       "      <th></th>\n",
       "      <th>SP.DYN.CBRT.IN</th>\n",
       "      <th>SP.DYN.CBRT.IN:T</th>\n",
       "      <th>SP.DYN.CDRT.IN</th>\n",
       "      <th>SP.DYN.CDRT.IN:T</th>\n",
       "      <th>capitalCity</th>\n",
       "    </tr>\n",
       "    <tr>\n",
       "      <th>economy</th>\n",
       "      <th></th>\n",
       "      <th></th>\n",
       "      <th></th>\n",
       "      <th></th>\n",
       "      <th></th>\n",
       "    </tr>\n",
       "  </thead>\n",
       "  <tbody>\n",
       "    <tr>\n",
       "      <th>LTU</th>\n",
       "      <td>9.0</td>\n",
       "      <td>2020</td>\n",
       "      <td>15.6</td>\n",
       "      <td>2020</td>\n",
       "      <td>Vilnius</td>\n",
       "    </tr>\n",
       "    <tr>\n",
       "      <th>LVA</th>\n",
       "      <td>9.2</td>\n",
       "      <td>2020</td>\n",
       "      <td>15.2</td>\n",
       "      <td>2020</td>\n",
       "      <td>Riga</td>\n",
       "    </tr>\n",
       "    <tr>\n",
       "      <th>ITA</th>\n",
       "      <td>6.8</td>\n",
       "      <td>2020</td>\n",
       "      <td>12.6</td>\n",
       "      <td>2020</td>\n",
       "      <td>Rome</td>\n",
       "    </tr>\n",
       "    <tr>\n",
       "      <th>POL</th>\n",
       "      <td>9.4</td>\n",
       "      <td>2020</td>\n",
       "      <td>12.6</td>\n",
       "      <td>2020</td>\n",
       "      <td>Warsaw</td>\n",
       "    </tr>\n",
       "    <tr>\n",
       "      <th>CZE</th>\n",
       "      <td>10.3</td>\n",
       "      <td>2020</td>\n",
       "      <td>12.1</td>\n",
       "      <td>2020</td>\n",
       "      <td>Prague</td>\n",
       "    </tr>\n",
       "    <tr>\n",
       "      <th>DEU</th>\n",
       "      <td>9.3</td>\n",
       "      <td>2020</td>\n",
       "      <td>11.9</td>\n",
       "      <td>2020</td>\n",
       "      <td>Berlin</td>\n",
       "    </tr>\n",
       "    <tr>\n",
       "      <th>ESP</th>\n",
       "      <td>7.1</td>\n",
       "      <td>2020</td>\n",
       "      <td>10.4</td>\n",
       "      <td>2020</td>\n",
       "      <td>Madrid</td>\n",
       "    </tr>\n",
       "    <tr>\n",
       "      <th>GBR</th>\n",
       "      <td>10.2</td>\n",
       "      <td>2020</td>\n",
       "      <td>10.4</td>\n",
       "      <td>2020</td>\n",
       "      <td>London</td>\n",
       "    </tr>\n",
       "    <tr>\n",
       "      <th>FRA</th>\n",
       "      <td>10.9</td>\n",
       "      <td>2020</td>\n",
       "      <td>9.9</td>\n",
       "      <td>2020</td>\n",
       "      <td>Paris</td>\n",
       "    </tr>\n",
       "    <tr>\n",
       "      <th>NLD</th>\n",
       "      <td>9.7</td>\n",
       "      <td>2020</td>\n",
       "      <td>9.7</td>\n",
       "      <td>2020</td>\n",
       "      <td>Amsterdam</td>\n",
       "    </tr>\n",
       "    <tr>\n",
       "      <th>SWE</th>\n",
       "      <td>10.9</td>\n",
       "      <td>2020</td>\n",
       "      <td>9.5</td>\n",
       "      <td>2020</td>\n",
       "      <td>Stockholm</td>\n",
       "    </tr>\n",
       "    <tr>\n",
       "      <th>CHE</th>\n",
       "      <td>9.9</td>\n",
       "      <td>2020</td>\n",
       "      <td>8.8</td>\n",
       "      <td>2020</td>\n",
       "      <td>Bern</td>\n",
       "    </tr>\n",
       "  </tbody>\n",
       "</table>\n",
       "</div>"
      ],
      "text/plain": [
       "         SP.DYN.CBRT.IN SP.DYN.CBRT.IN:T  SP.DYN.CDRT.IN SP.DYN.CDRT.IN:T  \\\n",
       "economy                                                                     \n",
       "LTU                 9.0             2020            15.6             2020   \n",
       "LVA                 9.2             2020            15.2             2020   \n",
       "ITA                 6.8             2020            12.6             2020   \n",
       "POL                 9.4             2020            12.6             2020   \n",
       "CZE                10.3             2020            12.1             2020   \n",
       "DEU                 9.3             2020            11.9             2020   \n",
       "ESP                 7.1             2020            10.4             2020   \n",
       "GBR                10.2             2020            10.4             2020   \n",
       "FRA                10.9             2020             9.9             2020   \n",
       "NLD                 9.7             2020             9.7             2020   \n",
       "SWE                10.9             2020             9.5             2020   \n",
       "CHE                 9.9             2020             8.8             2020   \n",
       "\n",
       "        capitalCity  \n",
       "economy              \n",
       "LTU         Vilnius  \n",
       "LVA            Riga  \n",
       "ITA            Rome  \n",
       "POL          Warsaw  \n",
       "CZE          Prague  \n",
       "DEU          Berlin  \n",
       "ESP          Madrid  \n",
       "GBR          London  \n",
       "FRA           Paris  \n",
       "NLD       Amsterdam  \n",
       "SWE       Stockholm  \n",
       "CHE            Bern  "
      ]
     },
     "execution_count": 28,
     "metadata": {},
     "output_type": "execute_result"
    }
   ],
   "source": [
    "bdr = wb.data.DataFrame(['SP.DYN.CBRT.IN','SP.DYN.CDRT.IN'],['LVA', 'FRA', 'DEU', \n",
    "                                                            'GBR','NLD', 'ESP','CHE', 'CZE','ITA', \n",
    "                                                             'LTU','POL','SWE'],\n",
    "                   mrnev=1, timeColumns=1).join(wb.economy.DataFrame()['capitalCity'])\n",
    "\n",
    "bdr.sort_values('SP.DYN.CDRT.IN', ascending=False)"
   ]
  },
  {
   "cell_type": "markdown",
   "id": "8e093202",
   "metadata": {},
   "source": [
    "                Birth                          Death\n",
    "                Rate                           Rate\n",
    "                \n",
    "                \n",
    "#### Highest Death Rate is in Lithuania followed by Latvia\n",
    "#### Highest Birth Rate is in Sweden and France followed by Czech Republic"
   ]
  },
  {
   "cell_type": "code",
   "execution_count": 29,
   "id": "8b7d0eff",
   "metadata": {
    "scrolled": false
   },
   "outputs": [
    {
     "data": {
      "text/plain": [
       "<AxesSubplot:title={'center':'BirthRatio vs DeathRatio'}, xlabel='Country', ylabel='Rate per 1000'>"
      ]
     },
     "execution_count": 29,
     "metadata": {},
     "output_type": "execute_result"
    },
    {
     "data": {
      "image/png": "[encoded data removed]",
      "text/plain": [
       "<Figure size 1080x504 with 1 Axes>"
      ]
     },
     "metadata": {
      "needs_background": "light"
     },
     "output_type": "display_data"
    }
   ],
   "source": [
    "bdr.plot(figsize = (15,7), xlabel = 'Country', title = 'BirthRatio vs DeathRatio', ylabel = 'Rate per 1000')"
   ]
  },
  {
   "cell_type": "markdown",
   "id": "50c46796",
   "metadata": {},
   "source": [
    "#### Total Labour Force as of 2021"
   ]
  },
  {
   "cell_type": "code",
   "execution_count": 30,
   "id": "6f924b10",
   "metadata": {},
   "outputs": [
    {
     "data": {
      "text/html": [
       "<div>\n",
       "<style scoped>\n",
       "    .dataframe tbody tr th:only-of-type {\n",
       "        vertical-align: middle;\n",
       "    }\n",
       "\n",
       "    .dataframe tbody tr th {\n",
       "        vertical-align: top;\n",
       "    }\n",
       "\n",
       "    .dataframe thead th {\n",
       "        text-align: right;\n",
       "    }\n",
       "</style>\n",
       "<table border=\"1\" class=\"dataframe\">\n",
       "  <thead>\n",
       "    <tr style=\"text-align: right;\">\n",
       "      <th></th>\n",
       "      <th>SL.TLF.TOTL.IN</th>\n",
       "    </tr>\n",
       "    <tr>\n",
       "      <th>economy</th>\n",
       "      <th></th>\n",
       "    </tr>\n",
       "  </thead>\n",
       "  <tbody>\n",
       "    <tr>\n",
       "      <th>DEU</th>\n",
       "      <td>43848015.0</td>\n",
       "    </tr>\n",
       "    <tr>\n",
       "      <th>GBR</th>\n",
       "      <td>34653319.0</td>\n",
       "    </tr>\n",
       "    <tr>\n",
       "      <th>FRA</th>\n",
       "      <td>30972593.0</td>\n",
       "    </tr>\n",
       "    <tr>\n",
       "      <th>ITA</th>\n",
       "      <td>24954973.0</td>\n",
       "    </tr>\n",
       "    <tr>\n",
       "      <th>ESP</th>\n",
       "      <td>23307968.0</td>\n",
       "    </tr>\n",
       "    <tr>\n",
       "      <th>POL</th>\n",
       "      <td>18254003.0</td>\n",
       "    </tr>\n",
       "    <tr>\n",
       "      <th>NLD</th>\n",
       "      <td>9897689.0</td>\n",
       "    </tr>\n",
       "    <tr>\n",
       "      <th>SWE</th>\n",
       "      <td>5559530.0</td>\n",
       "    </tr>\n",
       "    <tr>\n",
       "      <th>CZE</th>\n",
       "      <td>5377683.0</td>\n",
       "    </tr>\n",
       "    <tr>\n",
       "      <th>CHE</th>\n",
       "      <td>4963026.0</td>\n",
       "    </tr>\n",
       "    <tr>\n",
       "      <th>LTU</th>\n",
       "      <td>1466051.0</td>\n",
       "    </tr>\n",
       "    <tr>\n",
       "      <th>LVA</th>\n",
       "      <td>941446.0</td>\n",
       "    </tr>\n",
       "  </tbody>\n",
       "</table>\n",
       "</div>"
      ],
      "text/plain": [
       "         SL.TLF.TOTL.IN\n",
       "economy                \n",
       "DEU          43848015.0\n",
       "GBR          34653319.0\n",
       "FRA          30972593.0\n",
       "ITA          24954973.0\n",
       "ESP          23307968.0\n",
       "POL          18254003.0\n",
       "NLD           9897689.0\n",
       "SWE           5559530.0\n",
       "CZE           5377683.0\n",
       "CHE           4963026.0\n",
       "LTU           1466051.0\n",
       "LVA            941446.0"
      ]
     },
     "execution_count": 30,
     "metadata": {},
     "output_type": "execute_result"
    }
   ],
   "source": [
    "total_labour_force = wb.data.DataFrame('SL.TLF.TOTL.IN',\n",
    "                      ['LVA', 'FRA', 'DEU', 'GBR','NLD', 'ESP','CHE', 'CZE','ITA', 'LTU','POL','SWE'],\n",
    "                      mrnev = 1).sort_values('SL.TLF.TOTL.IN', ascending=False)\n",
    "\n",
    "total_labour_force"
   ]
  },
  {
   "cell_type": "code",
   "execution_count": 31,
   "id": "9643dc13",
   "metadata": {
    "scrolled": false
   },
   "outputs": [
    {
     "data": {
      "text/plain": [
       "<AxesSubplot:title={'center':'Labour Force Total'}, xlabel='Country', ylabel='Per 10 million'>"
      ]
     },
     "execution_count": 31,
     "metadata": {},
     "output_type": "execute_result"
    },
    {
     "data": {
      "image/png": "[encoded data removed]",
      "text/plain": [
       "<Figure size 864x504 with 1 Axes>"
      ]
     },
     "metadata": {
      "needs_background": "light"
     },
     "output_type": "display_data"
    }
   ],
   "source": [
    "total_labour_force.plot.bar(figsize = (12,7), title = 'Labour Force Total', ylabel = 'Per 10 million', xlabel = 'Country')"
   ]
  },
  {
   "cell_type": "markdown",
   "id": "451e41a0",
   "metadata": {},
   "source": [
    "#### Total Unemployement Percentage of Labour Force as of 2021"
   ]
  },
  {
   "cell_type": "code",
   "execution_count": 32,
   "id": "bcae2a1b",
   "metadata": {
    "scrolled": false
   },
   "outputs": [
    {
     "data": {
      "text/html": [
       "<div>\n",
       "<style scoped>\n",
       "    .dataframe tbody tr th:only-of-type {\n",
       "        vertical-align: middle;\n",
       "    }\n",
       "\n",
       "    .dataframe tbody tr th {\n",
       "        vertical-align: top;\n",
       "    }\n",
       "\n",
       "    .dataframe thead th {\n",
       "        text-align: right;\n",
       "    }\n",
       "</style>\n",
       "<table border=\"1\" class=\"dataframe\">\n",
       "  <thead>\n",
       "    <tr style=\"text-align: right;\">\n",
       "      <th></th>\n",
       "      <th>SL.UEM.TOTL.FE.ZS</th>\n",
       "      <th>SL.UEM.TOTL.MA.ZS</th>\n",
       "      <th>SL.UEM.TOTL.ZS</th>\n",
       "      <th>capitalCity</th>\n",
       "    </tr>\n",
       "    <tr>\n",
       "      <th>economy</th>\n",
       "      <th></th>\n",
       "      <th></th>\n",
       "      <th></th>\n",
       "      <th></th>\n",
       "    </tr>\n",
       "  </thead>\n",
       "  <tbody>\n",
       "    <tr>\n",
       "      <th>CHE</th>\n",
       "      <td>5.618</td>\n",
       "      <td>5.062</td>\n",
       "      <td>5.321</td>\n",
       "      <td>Bern</td>\n",
       "    </tr>\n",
       "    <tr>\n",
       "      <th>CZE</th>\n",
       "      <td>3.639</td>\n",
       "      <td>2.289</td>\n",
       "      <td>2.887</td>\n",
       "      <td>Prague</td>\n",
       "    </tr>\n",
       "    <tr>\n",
       "      <th>DEU</th>\n",
       "      <td>3.164</td>\n",
       "      <td>3.865</td>\n",
       "      <td>3.535</td>\n",
       "      <td>Berlin</td>\n",
       "    </tr>\n",
       "    <tr>\n",
       "      <th>ESP</th>\n",
       "      <td>16.781</td>\n",
       "      <td>12.918</td>\n",
       "      <td>14.733</td>\n",
       "      <td>Madrid</td>\n",
       "    </tr>\n",
       "    <tr>\n",
       "      <th>FRA</th>\n",
       "      <td>8.012</td>\n",
       "      <td>8.110</td>\n",
       "      <td>8.063</td>\n",
       "      <td>Paris</td>\n",
       "    </tr>\n",
       "    <tr>\n",
       "      <th>GBR</th>\n",
       "      <td>4.301</td>\n",
       "      <td>4.728</td>\n",
       "      <td>4.526</td>\n",
       "      <td>London</td>\n",
       "    </tr>\n",
       "    <tr>\n",
       "      <th>ITA</th>\n",
       "      <td>11.256</td>\n",
       "      <td>8.781</td>\n",
       "      <td>9.834</td>\n",
       "      <td>Rome</td>\n",
       "    </tr>\n",
       "    <tr>\n",
       "      <th>LTU</th>\n",
       "      <td>7.468</td>\n",
       "      <td>8.346</td>\n",
       "      <td>7.903</td>\n",
       "      <td>Vilnius</td>\n",
       "    </tr>\n",
       "    <tr>\n",
       "      <th>LVA</th>\n",
       "      <td>6.886</td>\n",
       "      <td>8.313</td>\n",
       "      <td>7.600</td>\n",
       "      <td>Riga</td>\n",
       "    </tr>\n",
       "    <tr>\n",
       "      <th>NLD</th>\n",
       "      <td>4.072</td>\n",
       "      <td>3.954</td>\n",
       "      <td>4.010</td>\n",
       "      <td>Amsterdam</td>\n",
       "    </tr>\n",
       "    <tr>\n",
       "      <th>POL</th>\n",
       "      <td>3.450</td>\n",
       "      <td>3.302</td>\n",
       "      <td>3.368</td>\n",
       "      <td>Warsaw</td>\n",
       "    </tr>\n",
       "    <tr>\n",
       "      <th>SWE</th>\n",
       "      <td>8.879</td>\n",
       "      <td>8.461</td>\n",
       "      <td>8.661</td>\n",
       "      <td>Stockholm</td>\n",
       "    </tr>\n",
       "  </tbody>\n",
       "</table>\n",
       "</div>"
      ],
      "text/plain": [
       "         SL.UEM.TOTL.FE.ZS  SL.UEM.TOTL.MA.ZS  SL.UEM.TOTL.ZS capitalCity\n",
       "economy                                                                  \n",
       "CHE                  5.618              5.062           5.321        Bern\n",
       "CZE                  3.639              2.289           2.887      Prague\n",
       "DEU                  3.164              3.865           3.535      Berlin\n",
       "ESP                 16.781             12.918          14.733      Madrid\n",
       "FRA                  8.012              8.110           8.063       Paris\n",
       "GBR                  4.301              4.728           4.526      London\n",
       "ITA                 11.256              8.781           9.834        Rome\n",
       "LTU                  7.468              8.346           7.903     Vilnius\n",
       "LVA                  6.886              8.313           7.600        Riga\n",
       "NLD                  4.072              3.954           4.010   Amsterdam\n",
       "POL                  3.450              3.302           3.368      Warsaw\n",
       "SWE                  8.879              8.461           8.661   Stockholm"
      ]
     },
     "execution_count": 32,
     "metadata": {},
     "output_type": "execute_result"
    }
   ],
   "source": [
    "unemp = wb.data.DataFrame(['SL.UEM.TOTL.ZS','SL.UEM.TOTL.MA.ZS','SL.UEM.TOTL.FE.ZS'],  \n",
    "                  ['LVA', 'FRA', 'DEU', 'GBR','NLD', 'ESP','CHE', 'CZE','ITA', 'LTU','POL','SWE'],\n",
    "                  mrnev=1).join(wb.economy.DataFrame()['capitalCity'])\n",
    "\n",
    "unemp"
   ]
  },
  {
   "cell_type": "markdown",
   "id": "f880edc6",
   "metadata": {},
   "source": [
    "         Unemployed % of total, male, female labour force respectively as of 2021"
   ]
  },
  {
   "cell_type": "code",
   "execution_count": 33,
   "id": "fba4fc60",
   "metadata": {
    "scrolled": false
   },
   "outputs": [
    {
     "data": {
      "text/plain": [
       "<AxesSubplot:xlabel='economy'>"
      ]
     },
     "execution_count": 33,
     "metadata": {},
     "output_type": "execute_result"
    },
    {
     "data": {
      "image/png": "[encoded data removed]",
      "text/plain": [
       "<Figure size 864x360 with 1 Axes>"
      ]
     },
     "metadata": {
      "needs_background": "light"
     },
     "output_type": "display_data"
    }
   ],
   "source": [
    "unemp.sort_values('SL.UEM.TOTL.ZS',ascending=False).plot.bar(figsize = (12,5))"
   ]
  },
  {
   "cell_type": "markdown",
   "id": "fa086625",
   "metadata": {},
   "source": [
    "#### Total alcohol consumption per capita,Female and Male (liters of pure alcohol, projected estimates, male 15+ years of age) as of 2018"
   ]
  },
  {
   "cell_type": "code",
   "execution_count": 34,
   "id": "1a4ea2c8",
   "metadata": {},
   "outputs": [
    {
     "data": {
      "text/html": [
       "<div>\n",
       "<style scoped>\n",
       "    .dataframe tbody tr th:only-of-type {\n",
       "        vertical-align: middle;\n",
       "    }\n",
       "\n",
       "    .dataframe tbody tr th {\n",
       "        vertical-align: top;\n",
       "    }\n",
       "\n",
       "    .dataframe thead th {\n",
       "        text-align: right;\n",
       "    }\n",
       "</style>\n",
       "<table border=\"1\" class=\"dataframe\">\n",
       "  <thead>\n",
       "    <tr style=\"text-align: right;\">\n",
       "      <th></th>\n",
       "      <th>SH.ALC.PCAP.FE.LI</th>\n",
       "      <th>SH.ALC.PCAP.MA.LI</th>\n",
       "      <th>capitalCity</th>\n",
       "    </tr>\n",
       "    <tr>\n",
       "      <th>economy</th>\n",
       "      <th></th>\n",
       "      <th></th>\n",
       "      <th></th>\n",
       "    </tr>\n",
       "  </thead>\n",
       "  <tbody>\n",
       "    <tr>\n",
       "      <th>CZE</th>\n",
       "      <td>6.99</td>\n",
       "      <td>22.28</td>\n",
       "      <td>Prague</td>\n",
       "    </tr>\n",
       "    <tr>\n",
       "      <th>LTU</th>\n",
       "      <td>6.56</td>\n",
       "      <td>21.29</td>\n",
       "      <td>Vilnius</td>\n",
       "    </tr>\n",
       "    <tr>\n",
       "      <th>LVA</th>\n",
       "      <td>6.11</td>\n",
       "      <td>20.92</td>\n",
       "      <td>Riga</td>\n",
       "    </tr>\n",
       "    <tr>\n",
       "      <th>ESP</th>\n",
       "      <td>5.77</td>\n",
       "      <td>20.07</td>\n",
       "      <td>Madrid</td>\n",
       "    </tr>\n",
       "    <tr>\n",
       "      <th>DEU</th>\n",
       "      <td>6.21</td>\n",
       "      <td>19.90</td>\n",
       "      <td>Berlin</td>\n",
       "    </tr>\n",
       "    <tr>\n",
       "      <th>FRA</th>\n",
       "      <td>5.83</td>\n",
       "      <td>19.18</td>\n",
       "      <td>Paris</td>\n",
       "    </tr>\n",
       "    <tr>\n",
       "      <th>POL</th>\n",
       "      <td>5.58</td>\n",
       "      <td>18.41</td>\n",
       "      <td>Warsaw</td>\n",
       "    </tr>\n",
       "    <tr>\n",
       "      <th>GBR</th>\n",
       "      <td>5.39</td>\n",
       "      <td>17.76</td>\n",
       "      <td>London</td>\n",
       "    </tr>\n",
       "    <tr>\n",
       "      <th>CHE</th>\n",
       "      <td>5.60</td>\n",
       "      <td>17.65</td>\n",
       "      <td>Bern</td>\n",
       "    </tr>\n",
       "    <tr>\n",
       "      <th>NLD</th>\n",
       "      <td>4.51</td>\n",
       "      <td>14.83</td>\n",
       "      <td>Amsterdam</td>\n",
       "    </tr>\n",
       "    <tr>\n",
       "      <th>SWE</th>\n",
       "      <td>4.21</td>\n",
       "      <td>13.69</td>\n",
       "      <td>Stockholm</td>\n",
       "    </tr>\n",
       "    <tr>\n",
       "      <th>ITA</th>\n",
       "      <td>3.52</td>\n",
       "      <td>12.46</td>\n",
       "      <td>Rome</td>\n",
       "    </tr>\n",
       "  </tbody>\n",
       "</table>\n",
       "</div>"
      ],
      "text/plain": [
       "         SH.ALC.PCAP.FE.LI  SH.ALC.PCAP.MA.LI capitalCity\n",
       "economy                                                  \n",
       "CZE                   6.99              22.28      Prague\n",
       "LTU                   6.56              21.29     Vilnius\n",
       "LVA                   6.11              20.92        Riga\n",
       "ESP                   5.77              20.07      Madrid\n",
       "DEU                   6.21              19.90      Berlin\n",
       "FRA                   5.83              19.18       Paris\n",
       "POL                   5.58              18.41      Warsaw\n",
       "GBR                   5.39              17.76      London\n",
       "CHE                   5.60              17.65        Bern\n",
       "NLD                   4.51              14.83   Amsterdam\n",
       "SWE                   4.21              13.69   Stockholm\n",
       "ITA                   3.52              12.46        Rome"
      ]
     },
     "execution_count": 34,
     "metadata": {},
     "output_type": "execute_result"
    }
   ],
   "source": [
    "alc_consp = wb.data.DataFrame(['SH.ALC.PCAP.MA.LI','SH.ALC.PCAP.FE.LI'], \n",
    "                              ['LVA', 'FRA', 'DEU', 'GBR','NLD', 'ESP','CHE', 'CZE','ITA', 'LTU','POL','SWE'],\n",
    "                                      mrnev=1).join(wb.economy.DataFrame()['capitalCity'])\n",
    "\n",
    "alc_consp.sort_values('SH.ALC.PCAP.MA.LI', ascending=False)"
   ]
  },
  {
   "cell_type": "markdown",
   "id": "8584fa65",
   "metadata": {},
   "source": [
    "                   Female            Male\n",
    "              "
   ]
  },
  {
   "cell_type": "code",
   "execution_count": 35,
   "id": "d9ff337e",
   "metadata": {},
   "outputs": [
    {
     "data": {
      "text/html": [
       "<div>\n",
       "<style scoped>\n",
       "    .dataframe tbody tr th:only-of-type {\n",
       "        vertical-align: middle;\n",
       "    }\n",
       "\n",
       "    .dataframe tbody tr th {\n",
       "        vertical-align: top;\n",
       "    }\n",
       "\n",
       "    .dataframe thead th {\n",
       "        text-align: right;\n",
       "    }\n",
       "</style>\n",
       "<table border=\"1\" class=\"dataframe\">\n",
       "  <thead>\n",
       "    <tr style=\"text-align: right;\">\n",
       "      <th></th>\n",
       "      <th>SH.ALC.PCAP.LI</th>\n",
       "    </tr>\n",
       "    <tr>\n",
       "      <th>economy</th>\n",
       "      <th></th>\n",
       "    </tr>\n",
       "  </thead>\n",
       "  <tbody>\n",
       "    <tr>\n",
       "      <th>CZE</th>\n",
       "      <td>14.45</td>\n",
       "    </tr>\n",
       "    <tr>\n",
       "      <th>LTU</th>\n",
       "      <td>13.22</td>\n",
       "    </tr>\n",
       "    <tr>\n",
       "      <th>DEU</th>\n",
       "      <td>12.91</td>\n",
       "    </tr>\n",
       "    <tr>\n",
       "      <th>LVA</th>\n",
       "      <td>12.77</td>\n",
       "    </tr>\n",
       "    <tr>\n",
       "      <th>ESP</th>\n",
       "      <td>12.72</td>\n",
       "    </tr>\n",
       "    <tr>\n",
       "      <th>FRA</th>\n",
       "      <td>12.33</td>\n",
       "    </tr>\n",
       "    <tr>\n",
       "      <th>POL</th>\n",
       "      <td>11.71</td>\n",
       "    </tr>\n",
       "    <tr>\n",
       "      <th>CHE</th>\n",
       "      <td>11.53</td>\n",
       "    </tr>\n",
       "    <tr>\n",
       "      <th>GBR</th>\n",
       "      <td>11.45</td>\n",
       "    </tr>\n",
       "    <tr>\n",
       "      <th>NLD</th>\n",
       "      <td>9.61</td>\n",
       "    </tr>\n",
       "    <tr>\n",
       "      <th>SWE</th>\n",
       "      <td>8.93</td>\n",
       "    </tr>\n",
       "    <tr>\n",
       "      <th>ITA</th>\n",
       "      <td>7.84</td>\n",
       "    </tr>\n",
       "  </tbody>\n",
       "</table>\n",
       "</div>"
      ],
      "text/plain": [
       "         SH.ALC.PCAP.LI\n",
       "economy                \n",
       "CZE               14.45\n",
       "LTU               13.22\n",
       "DEU               12.91\n",
       "LVA               12.77\n",
       "ESP               12.72\n",
       "FRA               12.33\n",
       "POL               11.71\n",
       "CHE               11.53\n",
       "GBR               11.45\n",
       "NLD                9.61\n",
       "SWE                8.93\n",
       "ITA                7.84"
      ]
     },
     "execution_count": 35,
     "metadata": {},
     "output_type": "execute_result"
    }
   ],
   "source": [
    "alc_cons_total = wb.data.DataFrame('SH.ALC.PCAP.LI',\n",
    "                                   ['LVA', 'FRA', 'DEU', 'GBR','NLD', 'ESP','CHE', 'CZE','ITA', 'LTU','POL','SWE'],\n",
    "                                    mrnev = 1).sort_values('SH.ALC.PCAP.LI',ascending = False)\n",
    "\n",
    "alc_cons_total"
   ]
  },
  {
   "cell_type": "markdown",
   "id": "d1ba75fa",
   "metadata": {},
   "source": [
    "#### Total alcohol consumption per capita (liters of pure alcohol, projected estimates, male 15+ years of age) as of 2018"
   ]
  },
  {
   "cell_type": "code",
   "execution_count": 36,
   "id": "2e4a36cb",
   "metadata": {},
   "outputs": [
    {
     "data": {
      "text/plain": [
       "<AxesSubplot:title={'center':'Total Alcohol Consumption (Liters of pure alcohol, projected estimates, 15+ years of age)'}, xlabel='Country', ylabel='%Count'>"
      ]
     },
     "execution_count": 36,
     "metadata": {},
     "output_type": "execute_result"
    },
    {
     "data": {
      "image/png": "[encoded data removed]",
      "text/plain": [
       "<Figure size 1080x432 with 1 Axes>"
      ]
     },
     "metadata": {
      "needs_background": "light"
     },
     "output_type": "display_data"
    }
   ],
   "source": [
    "alc_cons_total.plot.bar(figsize = (15,6), \n",
    "                        title = 'Total Alcohol Consumption (Liters of pure alcohol, projected estimates, 15+ years of age)',\n",
    "                        xlabel = 'Country',\n",
    "                        ylabel = '%Count')"
   ]
  },
  {
   "cell_type": "markdown",
   "id": "d37040da",
   "metadata": {},
   "source": [
    "                  The most alcohol consumption is in Czech Republic and lowest in Italy as of 2018 data"
   ]
  },
  {
   "cell_type": "markdown",
   "id": "11571d67",
   "metadata": {},
   "source": [
    "#### References\n",
    "- https://pypi.org/project/wbgapi/\n",
    "-https://towardsdatascience.com/access-a-world-of-data-with-wbgapi-61849354f769\n",
    "-https://blogs.worldbank.org/opendata/introducing-wbgapi-new-python-package-accessing-world-bank-data\n",
    "-https://nbviewer.org/github/tgherzog/wbgapi/blob/master/examples/wbgapi-cookbook.ipynb\n",
    "-https://towardsdatascience.com/statistical-indexes-for-measuring-inequality-7f2ca72fd65e\n",
    "-https://deepnote.com/@carlos-mendez/PYTHON-World-Bank-data-7d57b121-2bdf-4f13-b8d9-9520c9f8a7cc"
   ]
  }
 ],
 "metadata": {
  "kernelspec": {
   "display_name": "Python 3 (ipykernel)",
   "language": "python",
   "name": "python3"
  },
  "language_info": {
   "codemirror_mode": {
    "name": "ipython",
    "version": 3
   },
   "file_extension": ".py",
   "mimetype": "text/x-python",
   "name": "python",
   "nbconvert_exporter": "python",
   "pygments_lexer": "ipython3",
   "version": "3.9.12"
  }
 },
 "nbformat": 4,
 "nbformat_minor": 5
}
